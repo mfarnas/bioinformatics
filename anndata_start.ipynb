{
  "cells": [
    {
      "cell_type": "markdown",
      "metadata": {
        "id": "view-in-github",
        "colab_type": "text"
      },
      "source": [
        "<a href=\"https://colab.research.google.com/github/mfarnas/bioinformatics/blob/main/anndata_start.ipynb\" target=\"_parent\"><img src=\"https://colab.research.google.com/assets/colab-badge.svg\" alt=\"Open In Colab\"/></a>"
      ]
    },
    {
      "cell_type": "markdown",
      "metadata": {
        "id": "aiwHJfVkefbN"
      },
      "source": [
        "# Getting started with anndata"
      ]
    },
    {
      "cell_type": "markdown",
      "metadata": {
        "id": "zTwHD8DSefbO"
      },
      "source": [
        "**Authors:** [Adam Gayoso](https://twitter.com/adamgayoso), [Alex Wolf](https://twitter.com/falexwolf)"
      ]
    },
    {
      "cell_type": "markdown",
      "metadata": {
        "id": "NDhrovmqefbO"
      },
      "source": [
        ":::{note}\n",
        "This tutorial is based on a blog posts by [Adam in 2021](https://adamgayoso.com/posts/ten_min_to_adata/) and [Alex in 2017](https://falexwolf.me/2017/introducing-anndata/).    \n",
        ":::"
      ]
    },
    {
      "cell_type": "markdown",
      "metadata": {
        "id": "G89BQouJefbO"
      },
      "source": [
        "In this tutorial, we introduce basic properties of the central object, [AnnData](http://anndata.readthedocs.io/en/latest/anndata.AnnData.html) (\"Annotated Data\").\n",
        "\n",
        "`AnnData` is specifically designed for matrix-like data. By this we mean that we have $n$ observations, each of which can be represented as $d$-dimensional vectors, where each dimension corresponds to a variable or feature. Both the rows and columns of this $n \\times d$ matrix are special in the sense that they are indexed.\n",
        "\n",
        "For instance, in scRNA-seq data, each row corresponds to a cell with a barcode, and each column corresponds to a gene with a gene id. Furthermore, for each cell and each gene we might have additional metadata, like (1) donor information for each cell, or (2) alternative gene symbols for each gene. Finally, we might have other unstructured metadata like color palletes to use for plotting. Without going into every fancy Python-based data structure, we think that still today no other alternative really exists that:\n",
        "\n",
        "* Handles sparsity\n",
        "* Handles unstructured data\n",
        "* Handles observation- and feature-level metadata\n",
        "* Is user-friendly"
      ]
    },
    {
      "cell_type": "code",
      "execution_count": 110,
      "metadata": {
        "jupyter": {
          "outputs_hidden": false
        },
        "colab": {
          "base_uri": "https://localhost:8080/"
        },
        "id": "12Ve4TvwefbP",
        "outputId": "c77fc50a-1ab0-4731-aeaa-dd49fb2fce73"
      },
      "outputs": [
        {
          "output_type": "stream",
          "name": "stdout",
          "text": [
            "Requirement already satisfied: anndata in /usr/local/lib/python3.11/dist-packages (0.11.4)\n",
            "Requirement already satisfied: array-api-compat!=1.5,>1.4 in /usr/local/lib/python3.11/dist-packages (from anndata) (1.11.2)\n",
            "Requirement already satisfied: h5py>=3.7 in /usr/local/lib/python3.11/dist-packages (from anndata) (3.13.0)\n",
            "Requirement already satisfied: natsort in /usr/local/lib/python3.11/dist-packages (from anndata) (8.4.0)\n",
            "Requirement already satisfied: numpy>=1.23 in /usr/local/lib/python3.11/dist-packages (from anndata) (2.0.2)\n",
            "Requirement already satisfied: packaging>=24.2 in /usr/local/lib/python3.11/dist-packages (from anndata) (24.2)\n",
            "Requirement already satisfied: pandas!=2.1.0rc0,!=2.1.2,>=1.4 in /usr/local/lib/python3.11/dist-packages (from anndata) (2.2.2)\n",
            "Requirement already satisfied: scipy>1.8 in /usr/local/lib/python3.11/dist-packages (from anndata) (1.15.2)\n",
            "Requirement already satisfied: python-dateutil>=2.8.2 in /usr/local/lib/python3.11/dist-packages (from pandas!=2.1.0rc0,!=2.1.2,>=1.4->anndata) (2.9.0.post0)\n",
            "Requirement already satisfied: pytz>=2020.1 in /usr/local/lib/python3.11/dist-packages (from pandas!=2.1.0rc0,!=2.1.2,>=1.4->anndata) (2025.2)\n",
            "Requirement already satisfied: tzdata>=2022.7 in /usr/local/lib/python3.11/dist-packages (from pandas!=2.1.0rc0,!=2.1.2,>=1.4->anndata) (2025.2)\n",
            "Requirement already satisfied: six>=1.5 in /usr/local/lib/python3.11/dist-packages (from python-dateutil>=2.8.2->pandas!=2.1.0rc0,!=2.1.2,>=1.4->anndata) (1.17.0)\n",
            "0.11.4\n"
          ]
        }
      ],
      "source": [
        "!pip install anndata\n",
        "\n",
        "import numpy as np\n",
        "import pandas as pd\n",
        "import anndata as ad\n",
        "from scipy.sparse import csr_matrix\n",
        "print(ad.__version__)"
      ]
    },
    {
      "cell_type": "markdown",
      "metadata": {
        "id": "hOGhnMV3efbQ"
      },
      "source": [
        "## Initializing AnnData"
      ]
    },
    {
      "cell_type": "markdown",
      "metadata": {
        "id": "WX1lonVMefbQ"
      },
      "source": [
        "Let's start by building a basic AnnData object with some sparse count information, perhaps representing gene expression counts."
      ]
    },
    {
      "cell_type": "code",
      "execution_count": 111,
      "metadata": {
        "colab": {
          "base_uri": "https://localhost:8080/"
        },
        "id": "Qc7X230WefbQ",
        "outputId": "ac8228f9-7426-4ab5-d608-e79adbd65017"
      },
      "outputs": [
        {
          "output_type": "execute_result",
          "data": {
            "text/plain": [
              "AnnData object with n_obs × n_vars = 100 × 2000"
            ]
          },
          "metadata": {},
          "execution_count": 111
        }
      ],
      "source": [
        "counts = csr_matrix(np.random.poisson(1, size=(100, 2000)), dtype=np.float32)\n",
        "adata = ad.AnnData(counts)\n",
        "adata"
      ]
    },
    {
      "cell_type": "markdown",
      "metadata": {
        "id": "VDLIoaLiefbQ"
      },
      "source": [
        "We see that AnnData provides a representation with summary stastics of the data The initial data we passed are accessible as a sparse matrix using `adata.X`."
      ]
    },
    {
      "cell_type": "code",
      "execution_count": 112,
      "metadata": {
        "colab": {
          "base_uri": "https://localhost:8080/"
        },
        "id": "l8Wv6mJxefbQ",
        "outputId": "bc8ca2b5-053c-44ab-b15f-c89107290b17"
      },
      "outputs": [
        {
          "output_type": "execute_result",
          "data": {
            "text/plain": [
              "<Compressed Sparse Row sparse matrix of dtype 'float32'\n",
              "\twith 126661 stored elements and shape (100, 2000)>"
            ]
          },
          "metadata": {},
          "execution_count": 112
        }
      ],
      "source": [
        "adata.X"
      ]
    },
    {
      "cell_type": "markdown",
      "metadata": {
        "id": "xx2hvYG4efbQ"
      },
      "source": [
        "Now, we provide the index to both the `obs` and `var` axes using `.obs_names` (resp. `.var_names`)."
      ]
    },
    {
      "cell_type": "code",
      "execution_count": 113,
      "metadata": {
        "colab": {
          "base_uri": "https://localhost:8080/"
        },
        "id": "DFhXQVhJefbQ",
        "outputId": "fbf68301-0528-42c9-b75e-ac1961004887"
      },
      "outputs": [
        {
          "output_type": "stream",
          "name": "stdout",
          "text": [
            "Index(['Cell_0', 'Cell_1', 'Cell_2', 'Cell_3', 'Cell_4', 'Cell_5', 'Cell_6',\n",
            "       'Cell_7', 'Cell_8', 'Cell_9'],\n",
            "      dtype='object')\n"
          ]
        }
      ],
      "source": [
        "adata.obs_names = [f\"Cell_{i:d}\" for i in range(adata.n_obs)]\n",
        "adata.var_names = [f\"Gene_{i:d}\" for i in range(adata.n_vars)]\n",
        "print(adata.obs_names[:10])"
      ]
    },
    {
      "cell_type": "code",
      "source": [
        "adata.obs"
      ],
      "metadata": {
        "id": "GgPqBCdJvE30",
        "outputId": "a5896b7b-0543-43c0-e4f4-921621ee1857",
        "colab": {
          "base_uri": "https://localhost:8080/",
          "height": 402
        }
      },
      "execution_count": 114,
      "outputs": [
        {
          "output_type": "execute_result",
          "data": {
            "text/plain": [
              "Empty DataFrame\n",
              "Columns: []\n",
              "Index: [Cell_0, Cell_1, Cell_2, Cell_3, Cell_4, Cell_5, Cell_6, Cell_7, Cell_8, Cell_9, Cell_10, Cell_11, Cell_12, Cell_13, Cell_14, Cell_15, Cell_16, Cell_17, Cell_18, Cell_19, Cell_20, Cell_21, Cell_22, Cell_23, Cell_24, Cell_25, Cell_26, Cell_27, Cell_28, Cell_29, Cell_30, Cell_31, Cell_32, Cell_33, Cell_34, Cell_35, Cell_36, Cell_37, Cell_38, Cell_39, Cell_40, Cell_41, Cell_42, Cell_43, Cell_44, Cell_45, Cell_46, Cell_47, Cell_48, Cell_49, Cell_50, Cell_51, Cell_52, Cell_53, Cell_54, Cell_55, Cell_56, Cell_57, Cell_58, Cell_59, Cell_60, Cell_61, Cell_62, Cell_63, Cell_64, Cell_65, Cell_66, Cell_67, Cell_68, Cell_69, Cell_70, Cell_71, Cell_72, Cell_73, Cell_74, Cell_75, Cell_76, Cell_77, Cell_78, Cell_79, Cell_80, Cell_81, Cell_82, Cell_83, Cell_84, Cell_85, Cell_86, Cell_87, Cell_88, Cell_89, Cell_90, Cell_91, Cell_92, Cell_93, Cell_94, Cell_95, Cell_96, Cell_97, Cell_98, Cell_99]\n",
              "\n",
              "[100 rows x 0 columns]"
            ],
            "text/html": [
              "\n",
              "  <div id=\"df-54a52d69-0f68-467a-b3a7-29a5ccbd3152\" class=\"colab-df-container\">\n",
              "    <div>\n",
              "<style scoped>\n",
              "    .dataframe tbody tr th:only-of-type {\n",
              "        vertical-align: middle;\n",
              "    }\n",
              "\n",
              "    .dataframe tbody tr th {\n",
              "        vertical-align: top;\n",
              "    }\n",
              "\n",
              "    .dataframe thead th {\n",
              "        text-align: right;\n",
              "    }\n",
              "</style>\n",
              "<table border=\"1\" class=\"dataframe\">\n",
              "  <thead>\n",
              "    <tr style=\"text-align: right;\">\n",
              "      <th></th>\n",
              "    </tr>\n",
              "  </thead>\n",
              "  <tbody>\n",
              "    <tr>\n",
              "      <th>Cell_0</th>\n",
              "    </tr>\n",
              "    <tr>\n",
              "      <th>Cell_1</th>\n",
              "    </tr>\n",
              "    <tr>\n",
              "      <th>Cell_2</th>\n",
              "    </tr>\n",
              "    <tr>\n",
              "      <th>Cell_3</th>\n",
              "    </tr>\n",
              "    <tr>\n",
              "      <th>Cell_4</th>\n",
              "    </tr>\n",
              "    <tr>\n",
              "      <th>...</th>\n",
              "    </tr>\n",
              "    <tr>\n",
              "      <th>Cell_95</th>\n",
              "    </tr>\n",
              "    <tr>\n",
              "      <th>Cell_96</th>\n",
              "    </tr>\n",
              "    <tr>\n",
              "      <th>Cell_97</th>\n",
              "    </tr>\n",
              "    <tr>\n",
              "      <th>Cell_98</th>\n",
              "    </tr>\n",
              "    <tr>\n",
              "      <th>Cell_99</th>\n",
              "    </tr>\n",
              "  </tbody>\n",
              "</table>\n",
              "<p>100 rows × 0 columns</p>\n",
              "</div>\n",
              "    <div class=\"colab-df-buttons\">\n",
              "\n",
              "  <div class=\"colab-df-container\">\n",
              "    <button class=\"colab-df-convert\" onclick=\"convertToInteractive('df-54a52d69-0f68-467a-b3a7-29a5ccbd3152')\"\n",
              "            title=\"Convert this dataframe to an interactive table.\"\n",
              "            style=\"display:none;\">\n",
              "\n",
              "  <svg xmlns=\"http://www.w3.org/2000/svg\" height=\"24px\" viewBox=\"0 -960 960 960\">\n",
              "    <path d=\"M120-120v-720h720v720H120Zm60-500h600v-160H180v160Zm220 220h160v-160H400v160Zm0 220h160v-160H400v160ZM180-400h160v-160H180v160Zm440 0h160v-160H620v160ZM180-180h160v-160H180v160Zm440 0h160v-160H620v160Z\"/>\n",
              "  </svg>\n",
              "    </button>\n",
              "\n",
              "  <style>\n",
              "    .colab-df-container {\n",
              "      display:flex;\n",
              "      gap: 12px;\n",
              "    }\n",
              "\n",
              "    .colab-df-convert {\n",
              "      background-color: #E8F0FE;\n",
              "      border: none;\n",
              "      border-radius: 50%;\n",
              "      cursor: pointer;\n",
              "      display: none;\n",
              "      fill: #1967D2;\n",
              "      height: 32px;\n",
              "      padding: 0 0 0 0;\n",
              "      width: 32px;\n",
              "    }\n",
              "\n",
              "    .colab-df-convert:hover {\n",
              "      background-color: #E2EBFA;\n",
              "      box-shadow: 0px 1px 2px rgba(60, 64, 67, 0.3), 0px 1px 3px 1px rgba(60, 64, 67, 0.15);\n",
              "      fill: #174EA6;\n",
              "    }\n",
              "\n",
              "    .colab-df-buttons div {\n",
              "      margin-bottom: 4px;\n",
              "    }\n",
              "\n",
              "    [theme=dark] .colab-df-convert {\n",
              "      background-color: #3B4455;\n",
              "      fill: #D2E3FC;\n",
              "    }\n",
              "\n",
              "    [theme=dark] .colab-df-convert:hover {\n",
              "      background-color: #434B5C;\n",
              "      box-shadow: 0px 1px 3px 1px rgba(0, 0, 0, 0.15);\n",
              "      filter: drop-shadow(0px 1px 2px rgba(0, 0, 0, 0.3));\n",
              "      fill: #FFFFFF;\n",
              "    }\n",
              "  </style>\n",
              "\n",
              "    <script>\n",
              "      const buttonEl =\n",
              "        document.querySelector('#df-54a52d69-0f68-467a-b3a7-29a5ccbd3152 button.colab-df-convert');\n",
              "      buttonEl.style.display =\n",
              "        google.colab.kernel.accessAllowed ? 'block' : 'none';\n",
              "\n",
              "      async function convertToInteractive(key) {\n",
              "        const element = document.querySelector('#df-54a52d69-0f68-467a-b3a7-29a5ccbd3152');\n",
              "        const dataTable =\n",
              "          await google.colab.kernel.invokeFunction('convertToInteractive',\n",
              "                                                    [key], {});\n",
              "        if (!dataTable) return;\n",
              "\n",
              "        const docLinkHtml = 'Like what you see? Visit the ' +\n",
              "          '<a target=\"_blank\" href=https://colab.research.google.com/notebooks/data_table.ipynb>data table notebook</a>'\n",
              "          + ' to learn more about interactive tables.';\n",
              "        element.innerHTML = '';\n",
              "        dataTable['output_type'] = 'display_data';\n",
              "        await google.colab.output.renderOutput(dataTable, element);\n",
              "        const docLink = document.createElement('div');\n",
              "        docLink.innerHTML = docLinkHtml;\n",
              "        element.appendChild(docLink);\n",
              "      }\n",
              "    </script>\n",
              "  </div>\n",
              "\n",
              "\n",
              "    <div id=\"df-d8c104ec-2e42-4c75-81aa-a8d4b3e83e63\">\n",
              "      <button class=\"colab-df-quickchart\" onclick=\"quickchart('df-d8c104ec-2e42-4c75-81aa-a8d4b3e83e63')\"\n",
              "                title=\"Suggest charts\"\n",
              "                style=\"display:none;\">\n",
              "\n",
              "<svg xmlns=\"http://www.w3.org/2000/svg\" height=\"24px\"viewBox=\"0 0 24 24\"\n",
              "     width=\"24px\">\n",
              "    <g>\n",
              "        <path d=\"M19 3H5c-1.1 0-2 .9-2 2v14c0 1.1.9 2 2 2h14c1.1 0 2-.9 2-2V5c0-1.1-.9-2-2-2zM9 17H7v-7h2v7zm4 0h-2V7h2v10zm4 0h-2v-4h2v4z\"/>\n",
              "    </g>\n",
              "</svg>\n",
              "      </button>\n",
              "\n",
              "<style>\n",
              "  .colab-df-quickchart {\n",
              "      --bg-color: #E8F0FE;\n",
              "      --fill-color: #1967D2;\n",
              "      --hover-bg-color: #E2EBFA;\n",
              "      --hover-fill-color: #174EA6;\n",
              "      --disabled-fill-color: #AAA;\n",
              "      --disabled-bg-color: #DDD;\n",
              "  }\n",
              "\n",
              "  [theme=dark] .colab-df-quickchart {\n",
              "      --bg-color: #3B4455;\n",
              "      --fill-color: #D2E3FC;\n",
              "      --hover-bg-color: #434B5C;\n",
              "      --hover-fill-color: #FFFFFF;\n",
              "      --disabled-bg-color: #3B4455;\n",
              "      --disabled-fill-color: #666;\n",
              "  }\n",
              "\n",
              "  .colab-df-quickchart {\n",
              "    background-color: var(--bg-color);\n",
              "    border: none;\n",
              "    border-radius: 50%;\n",
              "    cursor: pointer;\n",
              "    display: none;\n",
              "    fill: var(--fill-color);\n",
              "    height: 32px;\n",
              "    padding: 0;\n",
              "    width: 32px;\n",
              "  }\n",
              "\n",
              "  .colab-df-quickchart:hover {\n",
              "    background-color: var(--hover-bg-color);\n",
              "    box-shadow: 0 1px 2px rgba(60, 64, 67, 0.3), 0 1px 3px 1px rgba(60, 64, 67, 0.15);\n",
              "    fill: var(--button-hover-fill-color);\n",
              "  }\n",
              "\n",
              "  .colab-df-quickchart-complete:disabled,\n",
              "  .colab-df-quickchart-complete:disabled:hover {\n",
              "    background-color: var(--disabled-bg-color);\n",
              "    fill: var(--disabled-fill-color);\n",
              "    box-shadow: none;\n",
              "  }\n",
              "\n",
              "  .colab-df-spinner {\n",
              "    border: 2px solid var(--fill-color);\n",
              "    border-color: transparent;\n",
              "    border-bottom-color: var(--fill-color);\n",
              "    animation:\n",
              "      spin 1s steps(1) infinite;\n",
              "  }\n",
              "\n",
              "  @keyframes spin {\n",
              "    0% {\n",
              "      border-color: transparent;\n",
              "      border-bottom-color: var(--fill-color);\n",
              "      border-left-color: var(--fill-color);\n",
              "    }\n",
              "    20% {\n",
              "      border-color: transparent;\n",
              "      border-left-color: var(--fill-color);\n",
              "      border-top-color: var(--fill-color);\n",
              "    }\n",
              "    30% {\n",
              "      border-color: transparent;\n",
              "      border-left-color: var(--fill-color);\n",
              "      border-top-color: var(--fill-color);\n",
              "      border-right-color: var(--fill-color);\n",
              "    }\n",
              "    40% {\n",
              "      border-color: transparent;\n",
              "      border-right-color: var(--fill-color);\n",
              "      border-top-color: var(--fill-color);\n",
              "    }\n",
              "    60% {\n",
              "      border-color: transparent;\n",
              "      border-right-color: var(--fill-color);\n",
              "    }\n",
              "    80% {\n",
              "      border-color: transparent;\n",
              "      border-right-color: var(--fill-color);\n",
              "      border-bottom-color: var(--fill-color);\n",
              "    }\n",
              "    90% {\n",
              "      border-color: transparent;\n",
              "      border-bottom-color: var(--fill-color);\n",
              "    }\n",
              "  }\n",
              "</style>\n",
              "\n",
              "      <script>\n",
              "        async function quickchart(key) {\n",
              "          const quickchartButtonEl =\n",
              "            document.querySelector('#' + key + ' button');\n",
              "          quickchartButtonEl.disabled = true;  // To prevent multiple clicks.\n",
              "          quickchartButtonEl.classList.add('colab-df-spinner');\n",
              "          try {\n",
              "            const charts = await google.colab.kernel.invokeFunction(\n",
              "                'suggestCharts', [key], {});\n",
              "          } catch (error) {\n",
              "            console.error('Error during call to suggestCharts:', error);\n",
              "          }\n",
              "          quickchartButtonEl.classList.remove('colab-df-spinner');\n",
              "          quickchartButtonEl.classList.add('colab-df-quickchart-complete');\n",
              "        }\n",
              "        (() => {\n",
              "          let quickchartButtonEl =\n",
              "            document.querySelector('#df-d8c104ec-2e42-4c75-81aa-a8d4b3e83e63 button');\n",
              "          quickchartButtonEl.style.display =\n",
              "            google.colab.kernel.accessAllowed ? 'block' : 'none';\n",
              "        })();\n",
              "      </script>\n",
              "    </div>\n",
              "\n",
              "    </div>\n",
              "  </div>\n"
            ],
            "application/vnd.google.colaboratory.intrinsic+json": {
              "type": "dataframe",
              "summary": "{\n  \"name\": \"adata\",\n  \"rows\": 100,\n  \"fields\": []\n}"
            }
          },
          "metadata": {},
          "execution_count": 114
        }
      ]
    },
    {
      "cell_type": "code",
      "source": [
        "adata.var"
      ],
      "metadata": {
        "id": "4x3JnOYevEz8",
        "outputId": "78e28fa2-db81-4a60-b855-e2930ce4955e",
        "colab": {
          "base_uri": "https://localhost:8080/",
          "height": 402
        }
      },
      "execution_count": 115,
      "outputs": [
        {
          "output_type": "execute_result",
          "data": {
            "text/plain": [
              "Empty DataFrame\n",
              "Columns: []\n",
              "Index: [Gene_0, Gene_1, Gene_2, Gene_3, Gene_4, Gene_5, Gene_6, Gene_7, Gene_8, Gene_9, Gene_10, Gene_11, Gene_12, Gene_13, Gene_14, Gene_15, Gene_16, Gene_17, Gene_18, Gene_19, Gene_20, Gene_21, Gene_22, Gene_23, Gene_24, Gene_25, Gene_26, Gene_27, Gene_28, Gene_29, Gene_30, Gene_31, Gene_32, Gene_33, Gene_34, Gene_35, Gene_36, Gene_37, Gene_38, Gene_39, Gene_40, Gene_41, Gene_42, Gene_43, Gene_44, Gene_45, Gene_46, Gene_47, Gene_48, Gene_49, Gene_50, Gene_51, Gene_52, Gene_53, Gene_54, Gene_55, Gene_56, Gene_57, Gene_58, Gene_59, Gene_60, Gene_61, Gene_62, Gene_63, Gene_64, Gene_65, Gene_66, Gene_67, Gene_68, Gene_69, Gene_70, Gene_71, Gene_72, Gene_73, Gene_74, Gene_75, Gene_76, Gene_77, Gene_78, Gene_79, Gene_80, Gene_81, Gene_82, Gene_83, Gene_84, Gene_85, Gene_86, Gene_87, Gene_88, Gene_89, Gene_90, Gene_91, Gene_92, Gene_93, Gene_94, Gene_95, Gene_96, Gene_97, Gene_98, Gene_99, ...]\n",
              "\n",
              "[2000 rows x 0 columns]"
            ],
            "text/html": [
              "\n",
              "  <div id=\"df-6a0d29be-f9f9-4728-9428-b1651cf389bb\" class=\"colab-df-container\">\n",
              "    <div>\n",
              "<style scoped>\n",
              "    .dataframe tbody tr th:only-of-type {\n",
              "        vertical-align: middle;\n",
              "    }\n",
              "\n",
              "    .dataframe tbody tr th {\n",
              "        vertical-align: top;\n",
              "    }\n",
              "\n",
              "    .dataframe thead th {\n",
              "        text-align: right;\n",
              "    }\n",
              "</style>\n",
              "<table border=\"1\" class=\"dataframe\">\n",
              "  <thead>\n",
              "    <tr style=\"text-align: right;\">\n",
              "      <th></th>\n",
              "    </tr>\n",
              "  </thead>\n",
              "  <tbody>\n",
              "    <tr>\n",
              "      <th>Gene_0</th>\n",
              "    </tr>\n",
              "    <tr>\n",
              "      <th>Gene_1</th>\n",
              "    </tr>\n",
              "    <tr>\n",
              "      <th>Gene_2</th>\n",
              "    </tr>\n",
              "    <tr>\n",
              "      <th>Gene_3</th>\n",
              "    </tr>\n",
              "    <tr>\n",
              "      <th>Gene_4</th>\n",
              "    </tr>\n",
              "    <tr>\n",
              "      <th>...</th>\n",
              "    </tr>\n",
              "    <tr>\n",
              "      <th>Gene_1995</th>\n",
              "    </tr>\n",
              "    <tr>\n",
              "      <th>Gene_1996</th>\n",
              "    </tr>\n",
              "    <tr>\n",
              "      <th>Gene_1997</th>\n",
              "    </tr>\n",
              "    <tr>\n",
              "      <th>Gene_1998</th>\n",
              "    </tr>\n",
              "    <tr>\n",
              "      <th>Gene_1999</th>\n",
              "    </tr>\n",
              "  </tbody>\n",
              "</table>\n",
              "<p>2000 rows × 0 columns</p>\n",
              "</div>\n",
              "    <div class=\"colab-df-buttons\">\n",
              "\n",
              "  <div class=\"colab-df-container\">\n",
              "    <button class=\"colab-df-convert\" onclick=\"convertToInteractive('df-6a0d29be-f9f9-4728-9428-b1651cf389bb')\"\n",
              "            title=\"Convert this dataframe to an interactive table.\"\n",
              "            style=\"display:none;\">\n",
              "\n",
              "  <svg xmlns=\"http://www.w3.org/2000/svg\" height=\"24px\" viewBox=\"0 -960 960 960\">\n",
              "    <path d=\"M120-120v-720h720v720H120Zm60-500h600v-160H180v160Zm220 220h160v-160H400v160Zm0 220h160v-160H400v160ZM180-400h160v-160H180v160Zm440 0h160v-160H620v160ZM180-180h160v-160H180v160Zm440 0h160v-160H620v160Z\"/>\n",
              "  </svg>\n",
              "    </button>\n",
              "\n",
              "  <style>\n",
              "    .colab-df-container {\n",
              "      display:flex;\n",
              "      gap: 12px;\n",
              "    }\n",
              "\n",
              "    .colab-df-convert {\n",
              "      background-color: #E8F0FE;\n",
              "      border: none;\n",
              "      border-radius: 50%;\n",
              "      cursor: pointer;\n",
              "      display: none;\n",
              "      fill: #1967D2;\n",
              "      height: 32px;\n",
              "      padding: 0 0 0 0;\n",
              "      width: 32px;\n",
              "    }\n",
              "\n",
              "    .colab-df-convert:hover {\n",
              "      background-color: #E2EBFA;\n",
              "      box-shadow: 0px 1px 2px rgba(60, 64, 67, 0.3), 0px 1px 3px 1px rgba(60, 64, 67, 0.15);\n",
              "      fill: #174EA6;\n",
              "    }\n",
              "\n",
              "    .colab-df-buttons div {\n",
              "      margin-bottom: 4px;\n",
              "    }\n",
              "\n",
              "    [theme=dark] .colab-df-convert {\n",
              "      background-color: #3B4455;\n",
              "      fill: #D2E3FC;\n",
              "    }\n",
              "\n",
              "    [theme=dark] .colab-df-convert:hover {\n",
              "      background-color: #434B5C;\n",
              "      box-shadow: 0px 1px 3px 1px rgba(0, 0, 0, 0.15);\n",
              "      filter: drop-shadow(0px 1px 2px rgba(0, 0, 0, 0.3));\n",
              "      fill: #FFFFFF;\n",
              "    }\n",
              "  </style>\n",
              "\n",
              "    <script>\n",
              "      const buttonEl =\n",
              "        document.querySelector('#df-6a0d29be-f9f9-4728-9428-b1651cf389bb button.colab-df-convert');\n",
              "      buttonEl.style.display =\n",
              "        google.colab.kernel.accessAllowed ? 'block' : 'none';\n",
              "\n",
              "      async function convertToInteractive(key) {\n",
              "        const element = document.querySelector('#df-6a0d29be-f9f9-4728-9428-b1651cf389bb');\n",
              "        const dataTable =\n",
              "          await google.colab.kernel.invokeFunction('convertToInteractive',\n",
              "                                                    [key], {});\n",
              "        if (!dataTable) return;\n",
              "\n",
              "        const docLinkHtml = 'Like what you see? Visit the ' +\n",
              "          '<a target=\"_blank\" href=https://colab.research.google.com/notebooks/data_table.ipynb>data table notebook</a>'\n",
              "          + ' to learn more about interactive tables.';\n",
              "        element.innerHTML = '';\n",
              "        dataTable['output_type'] = 'display_data';\n",
              "        await google.colab.output.renderOutput(dataTable, element);\n",
              "        const docLink = document.createElement('div');\n",
              "        docLink.innerHTML = docLinkHtml;\n",
              "        element.appendChild(docLink);\n",
              "      }\n",
              "    </script>\n",
              "  </div>\n",
              "\n",
              "\n",
              "    <div id=\"df-66c4589a-f8a0-41f5-bf7f-8b56a5904fee\">\n",
              "      <button class=\"colab-df-quickchart\" onclick=\"quickchart('df-66c4589a-f8a0-41f5-bf7f-8b56a5904fee')\"\n",
              "                title=\"Suggest charts\"\n",
              "                style=\"display:none;\">\n",
              "\n",
              "<svg xmlns=\"http://www.w3.org/2000/svg\" height=\"24px\"viewBox=\"0 0 24 24\"\n",
              "     width=\"24px\">\n",
              "    <g>\n",
              "        <path d=\"M19 3H5c-1.1 0-2 .9-2 2v14c0 1.1.9 2 2 2h14c1.1 0 2-.9 2-2V5c0-1.1-.9-2-2-2zM9 17H7v-7h2v7zm4 0h-2V7h2v10zm4 0h-2v-4h2v4z\"/>\n",
              "    </g>\n",
              "</svg>\n",
              "      </button>\n",
              "\n",
              "<style>\n",
              "  .colab-df-quickchart {\n",
              "      --bg-color: #E8F0FE;\n",
              "      --fill-color: #1967D2;\n",
              "      --hover-bg-color: #E2EBFA;\n",
              "      --hover-fill-color: #174EA6;\n",
              "      --disabled-fill-color: #AAA;\n",
              "      --disabled-bg-color: #DDD;\n",
              "  }\n",
              "\n",
              "  [theme=dark] .colab-df-quickchart {\n",
              "      --bg-color: #3B4455;\n",
              "      --fill-color: #D2E3FC;\n",
              "      --hover-bg-color: #434B5C;\n",
              "      --hover-fill-color: #FFFFFF;\n",
              "      --disabled-bg-color: #3B4455;\n",
              "      --disabled-fill-color: #666;\n",
              "  }\n",
              "\n",
              "  .colab-df-quickchart {\n",
              "    background-color: var(--bg-color);\n",
              "    border: none;\n",
              "    border-radius: 50%;\n",
              "    cursor: pointer;\n",
              "    display: none;\n",
              "    fill: var(--fill-color);\n",
              "    height: 32px;\n",
              "    padding: 0;\n",
              "    width: 32px;\n",
              "  }\n",
              "\n",
              "  .colab-df-quickchart:hover {\n",
              "    background-color: var(--hover-bg-color);\n",
              "    box-shadow: 0 1px 2px rgba(60, 64, 67, 0.3), 0 1px 3px 1px rgba(60, 64, 67, 0.15);\n",
              "    fill: var(--button-hover-fill-color);\n",
              "  }\n",
              "\n",
              "  .colab-df-quickchart-complete:disabled,\n",
              "  .colab-df-quickchart-complete:disabled:hover {\n",
              "    background-color: var(--disabled-bg-color);\n",
              "    fill: var(--disabled-fill-color);\n",
              "    box-shadow: none;\n",
              "  }\n",
              "\n",
              "  .colab-df-spinner {\n",
              "    border: 2px solid var(--fill-color);\n",
              "    border-color: transparent;\n",
              "    border-bottom-color: var(--fill-color);\n",
              "    animation:\n",
              "      spin 1s steps(1) infinite;\n",
              "  }\n",
              "\n",
              "  @keyframes spin {\n",
              "    0% {\n",
              "      border-color: transparent;\n",
              "      border-bottom-color: var(--fill-color);\n",
              "      border-left-color: var(--fill-color);\n",
              "    }\n",
              "    20% {\n",
              "      border-color: transparent;\n",
              "      border-left-color: var(--fill-color);\n",
              "      border-top-color: var(--fill-color);\n",
              "    }\n",
              "    30% {\n",
              "      border-color: transparent;\n",
              "      border-left-color: var(--fill-color);\n",
              "      border-top-color: var(--fill-color);\n",
              "      border-right-color: var(--fill-color);\n",
              "    }\n",
              "    40% {\n",
              "      border-color: transparent;\n",
              "      border-right-color: var(--fill-color);\n",
              "      border-top-color: var(--fill-color);\n",
              "    }\n",
              "    60% {\n",
              "      border-color: transparent;\n",
              "      border-right-color: var(--fill-color);\n",
              "    }\n",
              "    80% {\n",
              "      border-color: transparent;\n",
              "      border-right-color: var(--fill-color);\n",
              "      border-bottom-color: var(--fill-color);\n",
              "    }\n",
              "    90% {\n",
              "      border-color: transparent;\n",
              "      border-bottom-color: var(--fill-color);\n",
              "    }\n",
              "  }\n",
              "</style>\n",
              "\n",
              "      <script>\n",
              "        async function quickchart(key) {\n",
              "          const quickchartButtonEl =\n",
              "            document.querySelector('#' + key + ' button');\n",
              "          quickchartButtonEl.disabled = true;  // To prevent multiple clicks.\n",
              "          quickchartButtonEl.classList.add('colab-df-spinner');\n",
              "          try {\n",
              "            const charts = await google.colab.kernel.invokeFunction(\n",
              "                'suggestCharts', [key], {});\n",
              "          } catch (error) {\n",
              "            console.error('Error during call to suggestCharts:', error);\n",
              "          }\n",
              "          quickchartButtonEl.classList.remove('colab-df-spinner');\n",
              "          quickchartButtonEl.classList.add('colab-df-quickchart-complete');\n",
              "        }\n",
              "        (() => {\n",
              "          let quickchartButtonEl =\n",
              "            document.querySelector('#df-66c4589a-f8a0-41f5-bf7f-8b56a5904fee button');\n",
              "          quickchartButtonEl.style.display =\n",
              "            google.colab.kernel.accessAllowed ? 'block' : 'none';\n",
              "        })();\n",
              "      </script>\n",
              "    </div>\n",
              "\n",
              "    </div>\n",
              "  </div>\n"
            ],
            "application/vnd.google.colaboratory.intrinsic+json": {
              "type": "dataframe",
              "summary": "{\n  \"name\": \"adata\",\n  \"rows\": 2000,\n  \"fields\": []\n}"
            }
          },
          "metadata": {},
          "execution_count": 115
        }
      ]
    },
    {
      "cell_type": "markdown",
      "metadata": {
        "id": "qqwM5NI8efbQ"
      },
      "source": [
        "### Subsetting AnnData"
      ]
    },
    {
      "cell_type": "markdown",
      "metadata": {
        "id": "9z50TW8vefbR"
      },
      "source": [
        "These index values can be used to subset the AnnData, which provides a view of the AnnData object. We can imagine this to be useful to subset the AnnData to particular cell types or gene modules of interest. The rules for subsetting AnnData are quite similar to that of a Pandas DataFrame. You can use values in the `obs/var_names`, boolean masks, or cell index integers."
      ]
    },
    {
      "cell_type": "code",
      "execution_count": 116,
      "metadata": {
        "colab": {
          "base_uri": "https://localhost:8080/"
        },
        "id": "DAXxoW70efbR",
        "outputId": "cb52da13-b6eb-487c-d184-67465a55cdd0"
      },
      "outputs": [
        {
          "output_type": "execute_result",
          "data": {
            "text/plain": [
              "View of AnnData object with n_obs × n_vars = 2 × 2"
            ]
          },
          "metadata": {},
          "execution_count": 116
        }
      ],
      "source": [
        "adata[[\"Cell_1\", \"Cell_10\"], [\"Gene_5\", \"Gene_1900\"]]"
      ]
    },
    {
      "cell_type": "markdown",
      "metadata": {
        "id": "UjZuFv0HefbR"
      },
      "source": [
        "## Adding aligned metadata\n",
        "\n",
        "### Observation/Variable level"
      ]
    },
    {
      "cell_type": "markdown",
      "metadata": {
        "id": "Sn30vJphefbR"
      },
      "source": [
        "So we have the core of our object and now we'd like to add metadata at both the observation and variable levels. This is pretty simple with AnnData, both `adata.obs` and `adata.var` are Pandas DataFrames."
      ]
    },
    {
      "cell_type": "code",
      "execution_count": 117,
      "metadata": {
        "colab": {
          "base_uri": "https://localhost:8080/",
          "height": 419
        },
        "id": "SPx2rSAsefbR",
        "outputId": "a287adbe-e3b0-4be1-90e3-a9bd79acb006"
      },
      "outputs": [
        {
          "output_type": "execute_result",
          "data": {
            "text/plain": [
              "        cell_type\n",
              "Cell_0          B\n",
              "Cell_1          B\n",
              "Cell_2   Monocyte\n",
              "Cell_3          T\n",
              "Cell_4   Monocyte\n",
              "...           ...\n",
              "Cell_95         B\n",
              "Cell_96  Monocyte\n",
              "Cell_97  Monocyte\n",
              "Cell_98  Monocyte\n",
              "Cell_99         T\n",
              "\n",
              "[100 rows x 1 columns]"
            ],
            "text/html": [
              "\n",
              "  <div id=\"df-e089e423-1d03-4afc-ad50-64df83647590\" class=\"colab-df-container\">\n",
              "    <div>\n",
              "<style scoped>\n",
              "    .dataframe tbody tr th:only-of-type {\n",
              "        vertical-align: middle;\n",
              "    }\n",
              "\n",
              "    .dataframe tbody tr th {\n",
              "        vertical-align: top;\n",
              "    }\n",
              "\n",
              "    .dataframe thead th {\n",
              "        text-align: right;\n",
              "    }\n",
              "</style>\n",
              "<table border=\"1\" class=\"dataframe\">\n",
              "  <thead>\n",
              "    <tr style=\"text-align: right;\">\n",
              "      <th></th>\n",
              "      <th>cell_type</th>\n",
              "    </tr>\n",
              "  </thead>\n",
              "  <tbody>\n",
              "    <tr>\n",
              "      <th>Cell_0</th>\n",
              "      <td>B</td>\n",
              "    </tr>\n",
              "    <tr>\n",
              "      <th>Cell_1</th>\n",
              "      <td>B</td>\n",
              "    </tr>\n",
              "    <tr>\n",
              "      <th>Cell_2</th>\n",
              "      <td>Monocyte</td>\n",
              "    </tr>\n",
              "    <tr>\n",
              "      <th>Cell_3</th>\n",
              "      <td>T</td>\n",
              "    </tr>\n",
              "    <tr>\n",
              "      <th>Cell_4</th>\n",
              "      <td>Monocyte</td>\n",
              "    </tr>\n",
              "    <tr>\n",
              "      <th>...</th>\n",
              "      <td>...</td>\n",
              "    </tr>\n",
              "    <tr>\n",
              "      <th>Cell_95</th>\n",
              "      <td>B</td>\n",
              "    </tr>\n",
              "    <tr>\n",
              "      <th>Cell_96</th>\n",
              "      <td>Monocyte</td>\n",
              "    </tr>\n",
              "    <tr>\n",
              "      <th>Cell_97</th>\n",
              "      <td>Monocyte</td>\n",
              "    </tr>\n",
              "    <tr>\n",
              "      <th>Cell_98</th>\n",
              "      <td>Monocyte</td>\n",
              "    </tr>\n",
              "    <tr>\n",
              "      <th>Cell_99</th>\n",
              "      <td>T</td>\n",
              "    </tr>\n",
              "  </tbody>\n",
              "</table>\n",
              "<p>100 rows × 1 columns</p>\n",
              "</div>\n",
              "    <div class=\"colab-df-buttons\">\n",
              "\n",
              "  <div class=\"colab-df-container\">\n",
              "    <button class=\"colab-df-convert\" onclick=\"convertToInteractive('df-e089e423-1d03-4afc-ad50-64df83647590')\"\n",
              "            title=\"Convert this dataframe to an interactive table.\"\n",
              "            style=\"display:none;\">\n",
              "\n",
              "  <svg xmlns=\"http://www.w3.org/2000/svg\" height=\"24px\" viewBox=\"0 -960 960 960\">\n",
              "    <path d=\"M120-120v-720h720v720H120Zm60-500h600v-160H180v160Zm220 220h160v-160H400v160Zm0 220h160v-160H400v160ZM180-400h160v-160H180v160Zm440 0h160v-160H620v160ZM180-180h160v-160H180v160Zm440 0h160v-160H620v160Z\"/>\n",
              "  </svg>\n",
              "    </button>\n",
              "\n",
              "  <style>\n",
              "    .colab-df-container {\n",
              "      display:flex;\n",
              "      gap: 12px;\n",
              "    }\n",
              "\n",
              "    .colab-df-convert {\n",
              "      background-color: #E8F0FE;\n",
              "      border: none;\n",
              "      border-radius: 50%;\n",
              "      cursor: pointer;\n",
              "      display: none;\n",
              "      fill: #1967D2;\n",
              "      height: 32px;\n",
              "      padding: 0 0 0 0;\n",
              "      width: 32px;\n",
              "    }\n",
              "\n",
              "    .colab-df-convert:hover {\n",
              "      background-color: #E2EBFA;\n",
              "      box-shadow: 0px 1px 2px rgba(60, 64, 67, 0.3), 0px 1px 3px 1px rgba(60, 64, 67, 0.15);\n",
              "      fill: #174EA6;\n",
              "    }\n",
              "\n",
              "    .colab-df-buttons div {\n",
              "      margin-bottom: 4px;\n",
              "    }\n",
              "\n",
              "    [theme=dark] .colab-df-convert {\n",
              "      background-color: #3B4455;\n",
              "      fill: #D2E3FC;\n",
              "    }\n",
              "\n",
              "    [theme=dark] .colab-df-convert:hover {\n",
              "      background-color: #434B5C;\n",
              "      box-shadow: 0px 1px 3px 1px rgba(0, 0, 0, 0.15);\n",
              "      filter: drop-shadow(0px 1px 2px rgba(0, 0, 0, 0.3));\n",
              "      fill: #FFFFFF;\n",
              "    }\n",
              "  </style>\n",
              "\n",
              "    <script>\n",
              "      const buttonEl =\n",
              "        document.querySelector('#df-e089e423-1d03-4afc-ad50-64df83647590 button.colab-df-convert');\n",
              "      buttonEl.style.display =\n",
              "        google.colab.kernel.accessAllowed ? 'block' : 'none';\n",
              "\n",
              "      async function convertToInteractive(key) {\n",
              "        const element = document.querySelector('#df-e089e423-1d03-4afc-ad50-64df83647590');\n",
              "        const dataTable =\n",
              "          await google.colab.kernel.invokeFunction('convertToInteractive',\n",
              "                                                    [key], {});\n",
              "        if (!dataTable) return;\n",
              "\n",
              "        const docLinkHtml = 'Like what you see? Visit the ' +\n",
              "          '<a target=\"_blank\" href=https://colab.research.google.com/notebooks/data_table.ipynb>data table notebook</a>'\n",
              "          + ' to learn more about interactive tables.';\n",
              "        element.innerHTML = '';\n",
              "        dataTable['output_type'] = 'display_data';\n",
              "        await google.colab.output.renderOutput(dataTable, element);\n",
              "        const docLink = document.createElement('div');\n",
              "        docLink.innerHTML = docLinkHtml;\n",
              "        element.appendChild(docLink);\n",
              "      }\n",
              "    </script>\n",
              "  </div>\n",
              "\n",
              "\n",
              "    <div id=\"df-4ed5614e-8fc7-450e-959c-9b0bc29f0dca\">\n",
              "      <button class=\"colab-df-quickchart\" onclick=\"quickchart('df-4ed5614e-8fc7-450e-959c-9b0bc29f0dca')\"\n",
              "                title=\"Suggest charts\"\n",
              "                style=\"display:none;\">\n",
              "\n",
              "<svg xmlns=\"http://www.w3.org/2000/svg\" height=\"24px\"viewBox=\"0 0 24 24\"\n",
              "     width=\"24px\">\n",
              "    <g>\n",
              "        <path d=\"M19 3H5c-1.1 0-2 .9-2 2v14c0 1.1.9 2 2 2h14c1.1 0 2-.9 2-2V5c0-1.1-.9-2-2-2zM9 17H7v-7h2v7zm4 0h-2V7h2v10zm4 0h-2v-4h2v4z\"/>\n",
              "    </g>\n",
              "</svg>\n",
              "      </button>\n",
              "\n",
              "<style>\n",
              "  .colab-df-quickchart {\n",
              "      --bg-color: #E8F0FE;\n",
              "      --fill-color: #1967D2;\n",
              "      --hover-bg-color: #E2EBFA;\n",
              "      --hover-fill-color: #174EA6;\n",
              "      --disabled-fill-color: #AAA;\n",
              "      --disabled-bg-color: #DDD;\n",
              "  }\n",
              "\n",
              "  [theme=dark] .colab-df-quickchart {\n",
              "      --bg-color: #3B4455;\n",
              "      --fill-color: #D2E3FC;\n",
              "      --hover-bg-color: #434B5C;\n",
              "      --hover-fill-color: #FFFFFF;\n",
              "      --disabled-bg-color: #3B4455;\n",
              "      --disabled-fill-color: #666;\n",
              "  }\n",
              "\n",
              "  .colab-df-quickchart {\n",
              "    background-color: var(--bg-color);\n",
              "    border: none;\n",
              "    border-radius: 50%;\n",
              "    cursor: pointer;\n",
              "    display: none;\n",
              "    fill: var(--fill-color);\n",
              "    height: 32px;\n",
              "    padding: 0;\n",
              "    width: 32px;\n",
              "  }\n",
              "\n",
              "  .colab-df-quickchart:hover {\n",
              "    background-color: var(--hover-bg-color);\n",
              "    box-shadow: 0 1px 2px rgba(60, 64, 67, 0.3), 0 1px 3px 1px rgba(60, 64, 67, 0.15);\n",
              "    fill: var(--button-hover-fill-color);\n",
              "  }\n",
              "\n",
              "  .colab-df-quickchart-complete:disabled,\n",
              "  .colab-df-quickchart-complete:disabled:hover {\n",
              "    background-color: var(--disabled-bg-color);\n",
              "    fill: var(--disabled-fill-color);\n",
              "    box-shadow: none;\n",
              "  }\n",
              "\n",
              "  .colab-df-spinner {\n",
              "    border: 2px solid var(--fill-color);\n",
              "    border-color: transparent;\n",
              "    border-bottom-color: var(--fill-color);\n",
              "    animation:\n",
              "      spin 1s steps(1) infinite;\n",
              "  }\n",
              "\n",
              "  @keyframes spin {\n",
              "    0% {\n",
              "      border-color: transparent;\n",
              "      border-bottom-color: var(--fill-color);\n",
              "      border-left-color: var(--fill-color);\n",
              "    }\n",
              "    20% {\n",
              "      border-color: transparent;\n",
              "      border-left-color: var(--fill-color);\n",
              "      border-top-color: var(--fill-color);\n",
              "    }\n",
              "    30% {\n",
              "      border-color: transparent;\n",
              "      border-left-color: var(--fill-color);\n",
              "      border-top-color: var(--fill-color);\n",
              "      border-right-color: var(--fill-color);\n",
              "    }\n",
              "    40% {\n",
              "      border-color: transparent;\n",
              "      border-right-color: var(--fill-color);\n",
              "      border-top-color: var(--fill-color);\n",
              "    }\n",
              "    60% {\n",
              "      border-color: transparent;\n",
              "      border-right-color: var(--fill-color);\n",
              "    }\n",
              "    80% {\n",
              "      border-color: transparent;\n",
              "      border-right-color: var(--fill-color);\n",
              "      border-bottom-color: var(--fill-color);\n",
              "    }\n",
              "    90% {\n",
              "      border-color: transparent;\n",
              "      border-bottom-color: var(--fill-color);\n",
              "    }\n",
              "  }\n",
              "</style>\n",
              "\n",
              "      <script>\n",
              "        async function quickchart(key) {\n",
              "          const quickchartButtonEl =\n",
              "            document.querySelector('#' + key + ' button');\n",
              "          quickchartButtonEl.disabled = true;  // To prevent multiple clicks.\n",
              "          quickchartButtonEl.classList.add('colab-df-spinner');\n",
              "          try {\n",
              "            const charts = await google.colab.kernel.invokeFunction(\n",
              "                'suggestCharts', [key], {});\n",
              "          } catch (error) {\n",
              "            console.error('Error during call to suggestCharts:', error);\n",
              "          }\n",
              "          quickchartButtonEl.classList.remove('colab-df-spinner');\n",
              "          quickchartButtonEl.classList.add('colab-df-quickchart-complete');\n",
              "        }\n",
              "        (() => {\n",
              "          let quickchartButtonEl =\n",
              "            document.querySelector('#df-4ed5614e-8fc7-450e-959c-9b0bc29f0dca button');\n",
              "          quickchartButtonEl.style.display =\n",
              "            google.colab.kernel.accessAllowed ? 'block' : 'none';\n",
              "        })();\n",
              "      </script>\n",
              "    </div>\n",
              "\n",
              "    </div>\n",
              "  </div>\n"
            ],
            "application/vnd.google.colaboratory.intrinsic+json": {
              "type": "dataframe",
              "summary": "{\n  \"name\": \"adata\",\n  \"rows\": 100,\n  \"fields\": [\n    {\n      \"column\": \"cell_type\",\n      \"properties\": {\n        \"dtype\": \"category\",\n        \"num_unique_values\": 3,\n        \"samples\": [\n          \"B\",\n          \"Monocyte\",\n          \"T\"\n        ],\n        \"semantic_type\": \"\",\n        \"description\": \"\"\n      }\n    }\n  ]\n}"
            }
          },
          "metadata": {},
          "execution_count": 117
        }
      ],
      "source": [
        "ct = np.random.choice([\"B\", \"T\", \"Monocyte\"], size=(adata.n_obs,))\n",
        "adata.obs[\"cell_type\"] = pd.Categorical(ct)  # Categoricals are preferred for efficiency\n",
        "adata.obs"
      ]
    },
    {
      "cell_type": "markdown",
      "metadata": {
        "id": "O6x_MWkfefbR"
      },
      "source": [
        "We can also see now that the AnnData representation has been updated:"
      ]
    },
    {
      "cell_type": "code",
      "execution_count": 118,
      "metadata": {
        "colab": {
          "base_uri": "https://localhost:8080/"
        },
        "id": "Ey0If3k7efbR",
        "outputId": "c3541505-ecc6-49e1-d23a-c643b9870341"
      },
      "outputs": [
        {
          "output_type": "execute_result",
          "data": {
            "text/plain": [
              "AnnData object with n_obs × n_vars = 100 × 2000\n",
              "    obs: 'cell_type'"
            ]
          },
          "metadata": {},
          "execution_count": 118
        }
      ],
      "source": [
        "adata"
      ]
    },
    {
      "cell_type": "markdown",
      "metadata": {
        "id": "LaV5M0t5efbR"
      },
      "source": [
        "### Subsetting using metadata"
      ]
    },
    {
      "cell_type": "markdown",
      "metadata": {
        "id": "6ioAip5OefbR"
      },
      "source": [
        "We can also subset the AnnData using these randomly generated cell types:"
      ]
    },
    {
      "cell_type": "code",
      "execution_count": 119,
      "metadata": {
        "colab": {
          "base_uri": "https://localhost:8080/"
        },
        "id": "8W2XErSIefbR",
        "outputId": "69526c74-f8be-4934-adfc-8bcf37343fd3"
      },
      "outputs": [
        {
          "output_type": "execute_result",
          "data": {
            "text/plain": [
              "View of AnnData object with n_obs × n_vars = 38 × 2000\n",
              "    obs: 'cell_type'"
            ]
          },
          "metadata": {},
          "execution_count": 119
        }
      ],
      "source": [
        "bdata = adata[adata.obs.cell_type == \"B\"]\n",
        "bdata"
      ]
    },
    {
      "cell_type": "markdown",
      "metadata": {
        "id": "IaqRycZ9efbR"
      },
      "source": [
        "## Observation/variable-level matrices"
      ]
    },
    {
      "cell_type": "markdown",
      "metadata": {
        "id": "14l-JOUpefbR"
      },
      "source": [
        "We might also have metadata at either level that has many dimensions to it, such as a UMAP embedding of the data. For this type of metadata, AnnData has the `.obsm/.varm` attributes. We use keys to identify the different matrices we insert. The restriction of `.obsm/.varm` are that `.obsm` matrices must length equal to the number of observations as `.n_obs` and `.varm` matrices must length equal to `.n_vars`. They can each independently have different number of dimensions.\n",
        "\n",
        "Let's start with a randomly generated matrix that we can interpret as a UMAP embedding of the data we'd like to store, as well as some random gene-level metadata:"
      ]
    },
    {
      "cell_type": "code",
      "execution_count": 120,
      "metadata": {
        "colab": {
          "base_uri": "https://localhost:8080/"
        },
        "id": "HmvasLM8efbR",
        "outputId": "f27e4999-5b25-4060-beb1-8aeb0f692f33"
      },
      "outputs": [
        {
          "output_type": "execute_result",
          "data": {
            "text/plain": [
              "AxisArrays with keys: X_umap"
            ]
          },
          "metadata": {},
          "execution_count": 120
        }
      ],
      "source": [
        "adata.obsm[\"X_umap\"] = np.random.normal(0, 1, size=(adata.n_obs, 2))\n",
        "adata.varm[\"gene_stuff\"] = np.random.normal(0, 1, size=(adata.n_vars, 5))\n",
        "adata.obsm"
      ]
    },
    {
      "cell_type": "markdown",
      "metadata": {
        "id": "3nokfs4cefbR"
      },
      "source": [
        "Again, the AnnData representation is updated."
      ]
    },
    {
      "cell_type": "code",
      "execution_count": 121,
      "metadata": {
        "colab": {
          "base_uri": "https://localhost:8080/"
        },
        "id": "DFopjk0refbS",
        "outputId": "0eaad8d4-f2fe-453c-fb5c-0f5d59a008aa"
      },
      "outputs": [
        {
          "output_type": "execute_result",
          "data": {
            "text/plain": [
              "AnnData object with n_obs × n_vars = 100 × 2000\n",
              "    obs: 'cell_type'\n",
              "    obsm: 'X_umap'\n",
              "    varm: 'gene_stuff'"
            ]
          },
          "metadata": {},
          "execution_count": 121
        }
      ],
      "source": [
        "adata"
      ]
    },
    {
      "cell_type": "markdown",
      "metadata": {
        "id": "NeTZDp18efbS"
      },
      "source": [
        "A few more notes about `.obsm/.varm`\n",
        "\n",
        "1. The \"array-like\" metadata can originate from a Pandas DataFrame, scipy sparse matrix, or numpy dense array.\n",
        "2. When using scanpy, their values (columns) are not easily plotted, where instead items from `.obs` are easily plotted on, e.g., UMAP plots."
      ]
    },
    {
      "cell_type": "code",
      "source": [
        "adata.obsm[\"X_umap\"]"
      ],
      "metadata": {
        "id": "ZBsWMdASwNPr",
        "outputId": "13728c25-f65d-4c34-db92-2863207a64d7",
        "colab": {
          "base_uri": "https://localhost:8080/"
        }
      },
      "execution_count": 122,
      "outputs": [
        {
          "output_type": "execute_result",
          "data": {
            "text/plain": [
              "array([[-0.8043739 ,  0.86902181],\n",
              "       [-0.02807894, -1.34383164],\n",
              "       [-0.63383102,  0.02704665],\n",
              "       [-0.52245851,  2.48667281],\n",
              "       [ 1.25472673, -1.48413884],\n",
              "       [-0.43135238, -0.254556  ],\n",
              "       [ 0.13235766, -0.25663789],\n",
              "       [-1.13191965, -0.25405512],\n",
              "       [ 0.16330269, -2.09819324],\n",
              "       [-2.48758516, -0.94300806],\n",
              "       [-0.44599841,  0.39698237],\n",
              "       [ 0.63980128,  0.9123628 ],\n",
              "       [-1.60483222, -0.46513671],\n",
              "       [-0.55528022, -0.66994319],\n",
              "       [-2.54773513,  0.32859536],\n",
              "       [-0.89656652, -0.18041334],\n",
              "       [ 0.16306786,  1.21109314],\n",
              "       [ 0.44578896, -1.15825178],\n",
              "       [-0.65123529,  0.1343198 ],\n",
              "       [-0.39082139, -0.73721302],\n",
              "       [ 1.13982402,  0.29428243],\n",
              "       [ 0.66292454,  1.03237188],\n",
              "       [-1.28458527,  1.33937449],\n",
              "       [ 1.01362199,  1.72527425],\n",
              "       [ 0.99798676,  0.11376781],\n",
              "       [ 1.99898303, -0.51402869],\n",
              "       [ 0.67901939,  0.68406411],\n",
              "       [ 0.46561536, -1.80264856],\n",
              "       [-3.16673981, -0.94186798],\n",
              "       [ 1.7142299 ,  0.80433973],\n",
              "       [ 1.55495615,  1.24319195],\n",
              "       [-0.45522502, -1.20085037],\n",
              "       [ 1.34220633,  0.39363679],\n",
              "       [-0.25152619, -0.90841108],\n",
              "       [ 0.19850168, -0.88588362],\n",
              "       [ 0.43392382, -0.81644507],\n",
              "       [ 0.09743365, -2.05624378],\n",
              "       [-2.86222093, -0.07333577],\n",
              "       [-0.10316871, -0.24337162],\n",
              "       [ 0.46678691,  0.33118876],\n",
              "       [-0.278449  ,  0.139114  ],\n",
              "       [ 0.88940734,  0.15748838],\n",
              "       [-0.20354918, -0.56879054],\n",
              "       [-1.13713361, -0.06228854],\n",
              "       [ 0.09095406, -0.98473521],\n",
              "       [-0.59829724,  0.43930919],\n",
              "       [-0.1460679 ,  1.06424999],\n",
              "       [ 0.00646956,  1.18566002],\n",
              "       [-1.14790928, -0.21634237],\n",
              "       [ 0.75015728,  0.4895222 ],\n",
              "       [ 0.59225375,  1.24024989],\n",
              "       [-0.0984782 ,  0.1622699 ],\n",
              "       [-1.56725911, -0.84797573],\n",
              "       [-0.08609931, -1.03207515],\n",
              "       [-0.07873261, -1.26045675],\n",
              "       [ 0.05687804,  1.29112985],\n",
              "       [-0.76240334, -0.67295454],\n",
              "       [-0.41893593,  0.40164015],\n",
              "       [-0.34722767,  0.26055804],\n",
              "       [-0.83938985, -0.68484708],\n",
              "       [ 0.26111343,  0.85367171],\n",
              "       [-0.19139545, -0.91759585],\n",
              "       [ 0.31176943, -1.96747719],\n",
              "       [-1.88002617, -1.3012758 ],\n",
              "       [-1.5163018 ,  1.47812509],\n",
              "       [-1.12350743,  0.80003432],\n",
              "       [ 0.53973383, -0.92806561],\n",
              "       [-0.68065827,  0.43564782],\n",
              "       [ 0.49449133,  1.47456985],\n",
              "       [ 0.5240624 , -2.07203508],\n",
              "       [-0.0113322 ,  1.75808746],\n",
              "       [ 0.56371199, -0.22081205],\n",
              "       [-1.11738875, -1.66010665],\n",
              "       [ 0.87062648,  0.24924468],\n",
              "       [ 0.38035118,  0.84656659],\n",
              "       [-0.95487931, -0.77903453],\n",
              "       [ 1.6404166 ,  0.51810806],\n",
              "       [ 1.25884731,  2.05276197],\n",
              "       [ 1.08386684, -0.62786493],\n",
              "       [ 0.53625817,  0.68807762],\n",
              "       [-0.89400572,  0.7540594 ],\n",
              "       [-1.55592463, -0.77981827],\n",
              "       [ 0.06574071,  0.29766112],\n",
              "       [ 0.71264363, -0.26909986],\n",
              "       [ 1.40110393,  0.9420716 ],\n",
              "       [-2.33038058, -0.43874425],\n",
              "       [ 0.31382765,  0.69908895],\n",
              "       [ 0.7637437 ,  1.54361349],\n",
              "       [ 0.58857085, -0.19721092],\n",
              "       [-1.36482509,  0.58608946],\n",
              "       [-1.28874666, -0.04452099],\n",
              "       [ 1.25283128, -0.49487921],\n",
              "       [-0.17042382, -0.01774815],\n",
              "       [ 0.60778463, -1.53179372],\n",
              "       [ 0.85784354, -0.07685771],\n",
              "       [ 0.24198586, -1.08798478],\n",
              "       [ 1.5303327 , -0.69548723],\n",
              "       [ 0.65809872, -0.97318013],\n",
              "       [-2.85808839, -0.20884529],\n",
              "       [-0.47379998,  1.02184717]])"
            ]
          },
          "metadata": {},
          "execution_count": 122
        }
      ]
    },
    {
      "cell_type": "markdown",
      "metadata": {
        "id": "s_qgvvE3efbS"
      },
      "source": [
        "## Unstructured metadata"
      ]
    },
    {
      "cell_type": "markdown",
      "metadata": {
        "id": "Gloi6AIdefbS"
      },
      "source": [
        "AnnData has `.uns`, which allows for any unstructured metadata. This can be anything, like a list or a dictionary with some general information that was useful in the analysis of our data."
      ]
    },
    {
      "cell_type": "code",
      "execution_count": 123,
      "metadata": {
        "colab": {
          "base_uri": "https://localhost:8080/"
        },
        "id": "YZ79Z15xefbS",
        "outputId": "0480fe51-63af-482d-cf0c-4d210cb749cf"
      },
      "outputs": [
        {
          "output_type": "execute_result",
          "data": {
            "text/plain": [
              "OrderedDict([('random', [1, 2, 3])])"
            ]
          },
          "metadata": {},
          "execution_count": 123
        }
      ],
      "source": [
        "adata.uns[\"random\"] = [1, 2, 3]\n",
        "adata.uns"
      ]
    },
    {
      "cell_type": "markdown",
      "metadata": {
        "id": "_BsOPuD6efbS"
      },
      "source": [
        "## Layers"
      ]
    },
    {
      "cell_type": "markdown",
      "metadata": {
        "id": "5sSJ7cGdefbS"
      },
      "source": [
        "Finally, we may have different forms of our original core data, perhaps one that is normalized and one that is not. These can be stored in different layers in AnnData. For example, let's log transform the original data and store it in a layer:"
      ]
    },
    {
      "cell_type": "code",
      "execution_count": 124,
      "metadata": {
        "colab": {
          "base_uri": "https://localhost:8080/"
        },
        "id": "9vkLoXI0efbS",
        "outputId": "d1411c47-89e5-43c5-baca-5273ab04a985"
      },
      "outputs": [
        {
          "output_type": "execute_result",
          "data": {
            "text/plain": [
              "AnnData object with n_obs × n_vars = 100 × 2000\n",
              "    obs: 'cell_type'\n",
              "    uns: 'random'\n",
              "    obsm: 'X_umap'\n",
              "    varm: 'gene_stuff'\n",
              "    layers: 'log_transformed'"
            ]
          },
          "metadata": {},
          "execution_count": 124
        }
      ],
      "source": [
        "adata.layers[\"log_transformed\"] = np.log1p(adata.X)\n",
        "adata"
      ]
    },
    {
      "cell_type": "markdown",
      "metadata": {
        "id": "Q1cpT5__efbS"
      },
      "source": [
        "## Conversion to DataFrames"
      ]
    },
    {
      "cell_type": "markdown",
      "metadata": {
        "id": "kslHfeGOefbS"
      },
      "source": [
        "We can also ask AnnData to return us a DataFrame from one of the layers:"
      ]
    },
    {
      "cell_type": "code",
      "execution_count": 125,
      "metadata": {
        "colab": {
          "base_uri": "https://localhost:8080/",
          "height": 439
        },
        "id": "h0Mf2Y-CefbS",
        "outputId": "c60b3728-d305-4698-fa41-a0dc1637083f"
      },
      "outputs": [
        {
          "output_type": "execute_result",
          "data": {
            "text/plain": [
              "           Gene_0    Gene_1    Gene_2    Gene_3    Gene_4    Gene_5    Gene_6  \\\n",
              "Cell_0   1.098612  1.386294  0.000000  0.693147  1.386294  0.000000  0.693147   \n",
              "Cell_1   0.000000  0.000000  0.693147  0.693147  0.000000  0.693147  0.693147   \n",
              "Cell_2   0.693147  0.000000  1.791759  1.098612  0.000000  0.000000  0.000000   \n",
              "Cell_3   0.693147  0.693147  0.000000  0.000000  0.000000  1.386294  0.000000   \n",
              "Cell_4   1.386294  0.693147  0.693147  0.000000  0.693147  0.693147  0.693147   \n",
              "...           ...       ...       ...       ...       ...       ...       ...   \n",
              "Cell_95  0.693147  1.098612  1.098612  1.098612  0.000000  0.000000  0.000000   \n",
              "Cell_96  0.693147  1.098612  1.098612  0.693147  0.693147  1.098612  1.386294   \n",
              "Cell_97  1.098612  1.098612  0.000000  1.098612  0.693147  0.693147  0.693147   \n",
              "Cell_98  1.098612  0.693147  0.000000  0.693147  0.000000  1.386294  0.693147   \n",
              "Cell_99  0.000000  1.098612  0.693147  0.693147  0.693147  0.693147  0.693147   \n",
              "\n",
              "           Gene_7    Gene_8    Gene_9  ...  Gene_1990  Gene_1991  Gene_1992  \\\n",
              "Cell_0   1.098612  0.693147  0.693147  ...   0.000000   0.693147   0.000000   \n",
              "Cell_1   0.693147  0.693147  1.098612  ...   1.609438   0.693147   0.693147   \n",
              "Cell_2   0.000000  0.000000  0.000000  ...   0.000000   0.000000   0.693147   \n",
              "Cell_3   0.000000  0.000000  0.693147  ...   0.000000   0.693147   0.693147   \n",
              "Cell_4   0.693147  0.693147  0.000000  ...   0.693147   0.693147   0.000000   \n",
              "...           ...       ...       ...  ...        ...        ...        ...   \n",
              "Cell_95  0.693147  0.000000  0.000000  ...   0.693147   0.693147   0.693147   \n",
              "Cell_96  0.693147  0.693147  0.000000  ...   1.098612   0.693147   1.098612   \n",
              "Cell_97  0.693147  0.000000  0.693147  ...   0.000000   1.098612   1.098612   \n",
              "Cell_98  1.791759  1.098612  0.693147  ...   0.000000   0.693147   0.000000   \n",
              "Cell_99  0.000000  0.693147  1.386294  ...   0.000000   0.000000   1.098612   \n",
              "\n",
              "         Gene_1993  Gene_1994  Gene_1995  Gene_1996  Gene_1997  Gene_1998  \\\n",
              "Cell_0    1.098612   0.000000   0.000000   0.693147   0.693147   1.609438   \n",
              "Cell_1    0.693147   0.693147   0.000000   0.000000   0.000000   1.098612   \n",
              "Cell_2    0.000000   0.693147   0.000000   0.000000   0.693147   1.098612   \n",
              "Cell_3    0.693147   1.386294   1.098612   1.098612   0.000000   1.098612   \n",
              "Cell_4    1.386294   1.098612   0.693147   0.000000   0.693147   0.000000   \n",
              "...            ...        ...        ...        ...        ...        ...   \n",
              "Cell_95   0.693147   0.693147   0.000000   0.000000   0.693147   0.000000   \n",
              "Cell_96   0.000000   0.000000   0.693147   0.000000   0.000000   1.386294   \n",
              "Cell_97   0.000000   0.693147   1.386294   0.693147   0.000000   0.693147   \n",
              "Cell_98   0.693147   0.693147   1.098612   0.693147   1.098612   1.098612   \n",
              "Cell_99   0.000000   0.000000   0.693147   0.693147   1.386294   0.000000   \n",
              "\n",
              "         Gene_1999  \n",
              "Cell_0    0.693147  \n",
              "Cell_1    0.000000  \n",
              "Cell_2    0.000000  \n",
              "Cell_3    0.693147  \n",
              "Cell_4    1.098612  \n",
              "...            ...  \n",
              "Cell_95   0.693147  \n",
              "Cell_96   0.000000  \n",
              "Cell_97   0.000000  \n",
              "Cell_98   0.693147  \n",
              "Cell_99   0.693147  \n",
              "\n",
              "[100 rows x 2000 columns]"
            ],
            "text/html": [
              "\n",
              "  <div id=\"df-5bb1017e-52bc-4384-a435-e9900e0c3e12\" class=\"colab-df-container\">\n",
              "    <div>\n",
              "<style scoped>\n",
              "    .dataframe tbody tr th:only-of-type {\n",
              "        vertical-align: middle;\n",
              "    }\n",
              "\n",
              "    .dataframe tbody tr th {\n",
              "        vertical-align: top;\n",
              "    }\n",
              "\n",
              "    .dataframe thead th {\n",
              "        text-align: right;\n",
              "    }\n",
              "</style>\n",
              "<table border=\"1\" class=\"dataframe\">\n",
              "  <thead>\n",
              "    <tr style=\"text-align: right;\">\n",
              "      <th></th>\n",
              "      <th>Gene_0</th>\n",
              "      <th>Gene_1</th>\n",
              "      <th>Gene_2</th>\n",
              "      <th>Gene_3</th>\n",
              "      <th>Gene_4</th>\n",
              "      <th>Gene_5</th>\n",
              "      <th>Gene_6</th>\n",
              "      <th>Gene_7</th>\n",
              "      <th>Gene_8</th>\n",
              "      <th>Gene_9</th>\n",
              "      <th>...</th>\n",
              "      <th>Gene_1990</th>\n",
              "      <th>Gene_1991</th>\n",
              "      <th>Gene_1992</th>\n",
              "      <th>Gene_1993</th>\n",
              "      <th>Gene_1994</th>\n",
              "      <th>Gene_1995</th>\n",
              "      <th>Gene_1996</th>\n",
              "      <th>Gene_1997</th>\n",
              "      <th>Gene_1998</th>\n",
              "      <th>Gene_1999</th>\n",
              "    </tr>\n",
              "  </thead>\n",
              "  <tbody>\n",
              "    <tr>\n",
              "      <th>Cell_0</th>\n",
              "      <td>1.098612</td>\n",
              "      <td>1.386294</td>\n",
              "      <td>0.000000</td>\n",
              "      <td>0.693147</td>\n",
              "      <td>1.386294</td>\n",
              "      <td>0.000000</td>\n",
              "      <td>0.693147</td>\n",
              "      <td>1.098612</td>\n",
              "      <td>0.693147</td>\n",
              "      <td>0.693147</td>\n",
              "      <td>...</td>\n",
              "      <td>0.000000</td>\n",
              "      <td>0.693147</td>\n",
              "      <td>0.000000</td>\n",
              "      <td>1.098612</td>\n",
              "      <td>0.000000</td>\n",
              "      <td>0.000000</td>\n",
              "      <td>0.693147</td>\n",
              "      <td>0.693147</td>\n",
              "      <td>1.609438</td>\n",
              "      <td>0.693147</td>\n",
              "    </tr>\n",
              "    <tr>\n",
              "      <th>Cell_1</th>\n",
              "      <td>0.000000</td>\n",
              "      <td>0.000000</td>\n",
              "      <td>0.693147</td>\n",
              "      <td>0.693147</td>\n",
              "      <td>0.000000</td>\n",
              "      <td>0.693147</td>\n",
              "      <td>0.693147</td>\n",
              "      <td>0.693147</td>\n",
              "      <td>0.693147</td>\n",
              "      <td>1.098612</td>\n",
              "      <td>...</td>\n",
              "      <td>1.609438</td>\n",
              "      <td>0.693147</td>\n",
              "      <td>0.693147</td>\n",
              "      <td>0.693147</td>\n",
              "      <td>0.693147</td>\n",
              "      <td>0.000000</td>\n",
              "      <td>0.000000</td>\n",
              "      <td>0.000000</td>\n",
              "      <td>1.098612</td>\n",
              "      <td>0.000000</td>\n",
              "    </tr>\n",
              "    <tr>\n",
              "      <th>Cell_2</th>\n",
              "      <td>0.693147</td>\n",
              "      <td>0.000000</td>\n",
              "      <td>1.791759</td>\n",
              "      <td>1.098612</td>\n",
              "      <td>0.000000</td>\n",
              "      <td>0.000000</td>\n",
              "      <td>0.000000</td>\n",
              "      <td>0.000000</td>\n",
              "      <td>0.000000</td>\n",
              "      <td>0.000000</td>\n",
              "      <td>...</td>\n",
              "      <td>0.000000</td>\n",
              "      <td>0.000000</td>\n",
              "      <td>0.693147</td>\n",
              "      <td>0.000000</td>\n",
              "      <td>0.693147</td>\n",
              "      <td>0.000000</td>\n",
              "      <td>0.000000</td>\n",
              "      <td>0.693147</td>\n",
              "      <td>1.098612</td>\n",
              "      <td>0.000000</td>\n",
              "    </tr>\n",
              "    <tr>\n",
              "      <th>Cell_3</th>\n",
              "      <td>0.693147</td>\n",
              "      <td>0.693147</td>\n",
              "      <td>0.000000</td>\n",
              "      <td>0.000000</td>\n",
              "      <td>0.000000</td>\n",
              "      <td>1.386294</td>\n",
              "      <td>0.000000</td>\n",
              "      <td>0.000000</td>\n",
              "      <td>0.000000</td>\n",
              "      <td>0.693147</td>\n",
              "      <td>...</td>\n",
              "      <td>0.000000</td>\n",
              "      <td>0.693147</td>\n",
              "      <td>0.693147</td>\n",
              "      <td>0.693147</td>\n",
              "      <td>1.386294</td>\n",
              "      <td>1.098612</td>\n",
              "      <td>1.098612</td>\n",
              "      <td>0.000000</td>\n",
              "      <td>1.098612</td>\n",
              "      <td>0.693147</td>\n",
              "    </tr>\n",
              "    <tr>\n",
              "      <th>Cell_4</th>\n",
              "      <td>1.386294</td>\n",
              "      <td>0.693147</td>\n",
              "      <td>0.693147</td>\n",
              "      <td>0.000000</td>\n",
              "      <td>0.693147</td>\n",
              "      <td>0.693147</td>\n",
              "      <td>0.693147</td>\n",
              "      <td>0.693147</td>\n",
              "      <td>0.693147</td>\n",
              "      <td>0.000000</td>\n",
              "      <td>...</td>\n",
              "      <td>0.693147</td>\n",
              "      <td>0.693147</td>\n",
              "      <td>0.000000</td>\n",
              "      <td>1.386294</td>\n",
              "      <td>1.098612</td>\n",
              "      <td>0.693147</td>\n",
              "      <td>0.000000</td>\n",
              "      <td>0.693147</td>\n",
              "      <td>0.000000</td>\n",
              "      <td>1.098612</td>\n",
              "    </tr>\n",
              "    <tr>\n",
              "      <th>...</th>\n",
              "      <td>...</td>\n",
              "      <td>...</td>\n",
              "      <td>...</td>\n",
              "      <td>...</td>\n",
              "      <td>...</td>\n",
              "      <td>...</td>\n",
              "      <td>...</td>\n",
              "      <td>...</td>\n",
              "      <td>...</td>\n",
              "      <td>...</td>\n",
              "      <td>...</td>\n",
              "      <td>...</td>\n",
              "      <td>...</td>\n",
              "      <td>...</td>\n",
              "      <td>...</td>\n",
              "      <td>...</td>\n",
              "      <td>...</td>\n",
              "      <td>...</td>\n",
              "      <td>...</td>\n",
              "      <td>...</td>\n",
              "      <td>...</td>\n",
              "    </tr>\n",
              "    <tr>\n",
              "      <th>Cell_95</th>\n",
              "      <td>0.693147</td>\n",
              "      <td>1.098612</td>\n",
              "      <td>1.098612</td>\n",
              "      <td>1.098612</td>\n",
              "      <td>0.000000</td>\n",
              "      <td>0.000000</td>\n",
              "      <td>0.000000</td>\n",
              "      <td>0.693147</td>\n",
              "      <td>0.000000</td>\n",
              "      <td>0.000000</td>\n",
              "      <td>...</td>\n",
              "      <td>0.693147</td>\n",
              "      <td>0.693147</td>\n",
              "      <td>0.693147</td>\n",
              "      <td>0.693147</td>\n",
              "      <td>0.693147</td>\n",
              "      <td>0.000000</td>\n",
              "      <td>0.000000</td>\n",
              "      <td>0.693147</td>\n",
              "      <td>0.000000</td>\n",
              "      <td>0.693147</td>\n",
              "    </tr>\n",
              "    <tr>\n",
              "      <th>Cell_96</th>\n",
              "      <td>0.693147</td>\n",
              "      <td>1.098612</td>\n",
              "      <td>1.098612</td>\n",
              "      <td>0.693147</td>\n",
              "      <td>0.693147</td>\n",
              "      <td>1.098612</td>\n",
              "      <td>1.386294</td>\n",
              "      <td>0.693147</td>\n",
              "      <td>0.693147</td>\n",
              "      <td>0.000000</td>\n",
              "      <td>...</td>\n",
              "      <td>1.098612</td>\n",
              "      <td>0.693147</td>\n",
              "      <td>1.098612</td>\n",
              "      <td>0.000000</td>\n",
              "      <td>0.000000</td>\n",
              "      <td>0.693147</td>\n",
              "      <td>0.000000</td>\n",
              "      <td>0.000000</td>\n",
              "      <td>1.386294</td>\n",
              "      <td>0.000000</td>\n",
              "    </tr>\n",
              "    <tr>\n",
              "      <th>Cell_97</th>\n",
              "      <td>1.098612</td>\n",
              "      <td>1.098612</td>\n",
              "      <td>0.000000</td>\n",
              "      <td>1.098612</td>\n",
              "      <td>0.693147</td>\n",
              "      <td>0.693147</td>\n",
              "      <td>0.693147</td>\n",
              "      <td>0.693147</td>\n",
              "      <td>0.000000</td>\n",
              "      <td>0.693147</td>\n",
              "      <td>...</td>\n",
              "      <td>0.000000</td>\n",
              "      <td>1.098612</td>\n",
              "      <td>1.098612</td>\n",
              "      <td>0.000000</td>\n",
              "      <td>0.693147</td>\n",
              "      <td>1.386294</td>\n",
              "      <td>0.693147</td>\n",
              "      <td>0.000000</td>\n",
              "      <td>0.693147</td>\n",
              "      <td>0.000000</td>\n",
              "    </tr>\n",
              "    <tr>\n",
              "      <th>Cell_98</th>\n",
              "      <td>1.098612</td>\n",
              "      <td>0.693147</td>\n",
              "      <td>0.000000</td>\n",
              "      <td>0.693147</td>\n",
              "      <td>0.000000</td>\n",
              "      <td>1.386294</td>\n",
              "      <td>0.693147</td>\n",
              "      <td>1.791759</td>\n",
              "      <td>1.098612</td>\n",
              "      <td>0.693147</td>\n",
              "      <td>...</td>\n",
              "      <td>0.000000</td>\n",
              "      <td>0.693147</td>\n",
              "      <td>0.000000</td>\n",
              "      <td>0.693147</td>\n",
              "      <td>0.693147</td>\n",
              "      <td>1.098612</td>\n",
              "      <td>0.693147</td>\n",
              "      <td>1.098612</td>\n",
              "      <td>1.098612</td>\n",
              "      <td>0.693147</td>\n",
              "    </tr>\n",
              "    <tr>\n",
              "      <th>Cell_99</th>\n",
              "      <td>0.000000</td>\n",
              "      <td>1.098612</td>\n",
              "      <td>0.693147</td>\n",
              "      <td>0.693147</td>\n",
              "      <td>0.693147</td>\n",
              "      <td>0.693147</td>\n",
              "      <td>0.693147</td>\n",
              "      <td>0.000000</td>\n",
              "      <td>0.693147</td>\n",
              "      <td>1.386294</td>\n",
              "      <td>...</td>\n",
              "      <td>0.000000</td>\n",
              "      <td>0.000000</td>\n",
              "      <td>1.098612</td>\n",
              "      <td>0.000000</td>\n",
              "      <td>0.000000</td>\n",
              "      <td>0.693147</td>\n",
              "      <td>0.693147</td>\n",
              "      <td>1.386294</td>\n",
              "      <td>0.000000</td>\n",
              "      <td>0.693147</td>\n",
              "    </tr>\n",
              "  </tbody>\n",
              "</table>\n",
              "<p>100 rows × 2000 columns</p>\n",
              "</div>\n",
              "    <div class=\"colab-df-buttons\">\n",
              "\n",
              "  <div class=\"colab-df-container\">\n",
              "    <button class=\"colab-df-convert\" onclick=\"convertToInteractive('df-5bb1017e-52bc-4384-a435-e9900e0c3e12')\"\n",
              "            title=\"Convert this dataframe to an interactive table.\"\n",
              "            style=\"display:none;\">\n",
              "\n",
              "  <svg xmlns=\"http://www.w3.org/2000/svg\" height=\"24px\" viewBox=\"0 -960 960 960\">\n",
              "    <path d=\"M120-120v-720h720v720H120Zm60-500h600v-160H180v160Zm220 220h160v-160H400v160Zm0 220h160v-160H400v160ZM180-400h160v-160H180v160Zm440 0h160v-160H620v160ZM180-180h160v-160H180v160Zm440 0h160v-160H620v160Z\"/>\n",
              "  </svg>\n",
              "    </button>\n",
              "\n",
              "  <style>\n",
              "    .colab-df-container {\n",
              "      display:flex;\n",
              "      gap: 12px;\n",
              "    }\n",
              "\n",
              "    .colab-df-convert {\n",
              "      background-color: #E8F0FE;\n",
              "      border: none;\n",
              "      border-radius: 50%;\n",
              "      cursor: pointer;\n",
              "      display: none;\n",
              "      fill: #1967D2;\n",
              "      height: 32px;\n",
              "      padding: 0 0 0 0;\n",
              "      width: 32px;\n",
              "    }\n",
              "\n",
              "    .colab-df-convert:hover {\n",
              "      background-color: #E2EBFA;\n",
              "      box-shadow: 0px 1px 2px rgba(60, 64, 67, 0.3), 0px 1px 3px 1px rgba(60, 64, 67, 0.15);\n",
              "      fill: #174EA6;\n",
              "    }\n",
              "\n",
              "    .colab-df-buttons div {\n",
              "      margin-bottom: 4px;\n",
              "    }\n",
              "\n",
              "    [theme=dark] .colab-df-convert {\n",
              "      background-color: #3B4455;\n",
              "      fill: #D2E3FC;\n",
              "    }\n",
              "\n",
              "    [theme=dark] .colab-df-convert:hover {\n",
              "      background-color: #434B5C;\n",
              "      box-shadow: 0px 1px 3px 1px rgba(0, 0, 0, 0.15);\n",
              "      filter: drop-shadow(0px 1px 2px rgba(0, 0, 0, 0.3));\n",
              "      fill: #FFFFFF;\n",
              "    }\n",
              "  </style>\n",
              "\n",
              "    <script>\n",
              "      const buttonEl =\n",
              "        document.querySelector('#df-5bb1017e-52bc-4384-a435-e9900e0c3e12 button.colab-df-convert');\n",
              "      buttonEl.style.display =\n",
              "        google.colab.kernel.accessAllowed ? 'block' : 'none';\n",
              "\n",
              "      async function convertToInteractive(key) {\n",
              "        const element = document.querySelector('#df-5bb1017e-52bc-4384-a435-e9900e0c3e12');\n",
              "        const dataTable =\n",
              "          await google.colab.kernel.invokeFunction('convertToInteractive',\n",
              "                                                    [key], {});\n",
              "        if (!dataTable) return;\n",
              "\n",
              "        const docLinkHtml = 'Like what you see? Visit the ' +\n",
              "          '<a target=\"_blank\" href=https://colab.research.google.com/notebooks/data_table.ipynb>data table notebook</a>'\n",
              "          + ' to learn more about interactive tables.';\n",
              "        element.innerHTML = '';\n",
              "        dataTable['output_type'] = 'display_data';\n",
              "        await google.colab.output.renderOutput(dataTable, element);\n",
              "        const docLink = document.createElement('div');\n",
              "        docLink.innerHTML = docLinkHtml;\n",
              "        element.appendChild(docLink);\n",
              "      }\n",
              "    </script>\n",
              "  </div>\n",
              "\n",
              "\n",
              "    <div id=\"df-cf0780ba-6a52-463a-a560-37e9892e1d92\">\n",
              "      <button class=\"colab-df-quickchart\" onclick=\"quickchart('df-cf0780ba-6a52-463a-a560-37e9892e1d92')\"\n",
              "                title=\"Suggest charts\"\n",
              "                style=\"display:none;\">\n",
              "\n",
              "<svg xmlns=\"http://www.w3.org/2000/svg\" height=\"24px\"viewBox=\"0 0 24 24\"\n",
              "     width=\"24px\">\n",
              "    <g>\n",
              "        <path d=\"M19 3H5c-1.1 0-2 .9-2 2v14c0 1.1.9 2 2 2h14c1.1 0 2-.9 2-2V5c0-1.1-.9-2-2-2zM9 17H7v-7h2v7zm4 0h-2V7h2v10zm4 0h-2v-4h2v4z\"/>\n",
              "    </g>\n",
              "</svg>\n",
              "      </button>\n",
              "\n",
              "<style>\n",
              "  .colab-df-quickchart {\n",
              "      --bg-color: #E8F0FE;\n",
              "      --fill-color: #1967D2;\n",
              "      --hover-bg-color: #E2EBFA;\n",
              "      --hover-fill-color: #174EA6;\n",
              "      --disabled-fill-color: #AAA;\n",
              "      --disabled-bg-color: #DDD;\n",
              "  }\n",
              "\n",
              "  [theme=dark] .colab-df-quickchart {\n",
              "      --bg-color: #3B4455;\n",
              "      --fill-color: #D2E3FC;\n",
              "      --hover-bg-color: #434B5C;\n",
              "      --hover-fill-color: #FFFFFF;\n",
              "      --disabled-bg-color: #3B4455;\n",
              "      --disabled-fill-color: #666;\n",
              "  }\n",
              "\n",
              "  .colab-df-quickchart {\n",
              "    background-color: var(--bg-color);\n",
              "    border: none;\n",
              "    border-radius: 50%;\n",
              "    cursor: pointer;\n",
              "    display: none;\n",
              "    fill: var(--fill-color);\n",
              "    height: 32px;\n",
              "    padding: 0;\n",
              "    width: 32px;\n",
              "  }\n",
              "\n",
              "  .colab-df-quickchart:hover {\n",
              "    background-color: var(--hover-bg-color);\n",
              "    box-shadow: 0 1px 2px rgba(60, 64, 67, 0.3), 0 1px 3px 1px rgba(60, 64, 67, 0.15);\n",
              "    fill: var(--button-hover-fill-color);\n",
              "  }\n",
              "\n",
              "  .colab-df-quickchart-complete:disabled,\n",
              "  .colab-df-quickchart-complete:disabled:hover {\n",
              "    background-color: var(--disabled-bg-color);\n",
              "    fill: var(--disabled-fill-color);\n",
              "    box-shadow: none;\n",
              "  }\n",
              "\n",
              "  .colab-df-spinner {\n",
              "    border: 2px solid var(--fill-color);\n",
              "    border-color: transparent;\n",
              "    border-bottom-color: var(--fill-color);\n",
              "    animation:\n",
              "      spin 1s steps(1) infinite;\n",
              "  }\n",
              "\n",
              "  @keyframes spin {\n",
              "    0% {\n",
              "      border-color: transparent;\n",
              "      border-bottom-color: var(--fill-color);\n",
              "      border-left-color: var(--fill-color);\n",
              "    }\n",
              "    20% {\n",
              "      border-color: transparent;\n",
              "      border-left-color: var(--fill-color);\n",
              "      border-top-color: var(--fill-color);\n",
              "    }\n",
              "    30% {\n",
              "      border-color: transparent;\n",
              "      border-left-color: var(--fill-color);\n",
              "      border-top-color: var(--fill-color);\n",
              "      border-right-color: var(--fill-color);\n",
              "    }\n",
              "    40% {\n",
              "      border-color: transparent;\n",
              "      border-right-color: var(--fill-color);\n",
              "      border-top-color: var(--fill-color);\n",
              "    }\n",
              "    60% {\n",
              "      border-color: transparent;\n",
              "      border-right-color: var(--fill-color);\n",
              "    }\n",
              "    80% {\n",
              "      border-color: transparent;\n",
              "      border-right-color: var(--fill-color);\n",
              "      border-bottom-color: var(--fill-color);\n",
              "    }\n",
              "    90% {\n",
              "      border-color: transparent;\n",
              "      border-bottom-color: var(--fill-color);\n",
              "    }\n",
              "  }\n",
              "</style>\n",
              "\n",
              "      <script>\n",
              "        async function quickchart(key) {\n",
              "          const quickchartButtonEl =\n",
              "            document.querySelector('#' + key + ' button');\n",
              "          quickchartButtonEl.disabled = true;  // To prevent multiple clicks.\n",
              "          quickchartButtonEl.classList.add('colab-df-spinner');\n",
              "          try {\n",
              "            const charts = await google.colab.kernel.invokeFunction(\n",
              "                'suggestCharts', [key], {});\n",
              "          } catch (error) {\n",
              "            console.error('Error during call to suggestCharts:', error);\n",
              "          }\n",
              "          quickchartButtonEl.classList.remove('colab-df-spinner');\n",
              "          quickchartButtonEl.classList.add('colab-df-quickchart-complete');\n",
              "        }\n",
              "        (() => {\n",
              "          let quickchartButtonEl =\n",
              "            document.querySelector('#df-cf0780ba-6a52-463a-a560-37e9892e1d92 button');\n",
              "          quickchartButtonEl.style.display =\n",
              "            google.colab.kernel.accessAllowed ? 'block' : 'none';\n",
              "        })();\n",
              "      </script>\n",
              "    </div>\n",
              "\n",
              "    </div>\n",
              "  </div>\n"
            ],
            "application/vnd.google.colaboratory.intrinsic+json": {
              "type": "dataframe"
            }
          },
          "metadata": {},
          "execution_count": 125
        }
      ],
      "source": [
        "adata.to_df(layer=\"log_transformed\")"
      ]
    },
    {
      "cell_type": "markdown",
      "metadata": {
        "id": "pKbTXMAHefbS"
      },
      "source": [
        "We see that the `.obs_names/.var_names` are used in the creation of this Pandas object."
      ]
    },
    {
      "cell_type": "markdown",
      "metadata": {
        "id": "vfGdqyo0efbY"
      },
      "source": [
        "## Writing the results to disk"
      ]
    },
    {
      "cell_type": "markdown",
      "metadata": {
        "id": "oVH7os1NefbY"
      },
      "source": [
        "`AnnData` comes with its own persistent HDF5-based file format: `h5ad`. If string columns with small number of categories aren't yet categoricals, `AnnData` will auto-transform to categoricals."
      ]
    },
    {
      "cell_type": "code",
      "execution_count": 126,
      "metadata": {
        "id": "1eal-6mGefbY"
      },
      "outputs": [],
      "source": [
        "# to write/save\n",
        "adata.write('my_results.h5ad', compression=\"gzip\")"
      ]
    },
    {
      "cell_type": "code",
      "source": [
        "!ls"
      ],
      "metadata": {
        "id": "pNPR7XXnwyxs",
        "outputId": "71b028a1-9d47-4f65-8d5e-c9e1cfe39320",
        "colab": {
          "base_uri": "https://localhost:8080/"
        }
      },
      "execution_count": 127,
      "outputs": [
        {
          "output_type": "stream",
          "name": "stdout",
          "text": [
            "data  lung_atlas.h5ad  my_results.h5ad\tpancreas.h5ad  pbmc3k.h5ad  sample_data\n"
          ]
        }
      ]
    },
    {
      "cell_type": "code",
      "source": [
        "# to read\n",
        "adata2 = ad.read_h5ad('my_results.h5ad')"
      ],
      "metadata": {
        "id": "uaQCExGkw5y6"
      },
      "execution_count": 128,
      "outputs": []
    },
    {
      "cell_type": "code",
      "execution_count": 129,
      "metadata": {
        "jupyter": {
          "outputs_hidden": false
        },
        "colab": {
          "base_uri": "https://localhost:8080/"
        },
        "id": "B6kcOoBuefbY",
        "outputId": "a165d65b-fb22-4df2-f76f-cb277c07afb7"
      },
      "outputs": [
        {
          "output_type": "stream",
          "name": "stdout",
          "text": [
            "/bin/bash: line 1: h5ls: command not found\n"
          ]
        }
      ],
      "source": [
        "!h5ls 'my_results.h5ad'"
      ]
    },
    {
      "cell_type": "markdown",
      "metadata": {
        "id": "5byS9flGefbY"
      },
      "source": [
        "## Wrapping up the introduction"
      ]
    },
    {
      "cell_type": "markdown",
      "metadata": {
        "id": "wO4Kj3MmefbY"
      },
      "source": [
        "AnnData has become the standard for single-cell analysis in Python and for good reason -- it's straightforward to use and faciliatates more reproducible analyses with it's key-based storage. It's even becoming easier to convert to the popular R-based formats for single-cell analysis.\n",
        "\n",
        "Keep reading on to better understand \"views\", on-disk backing, and other details."
      ]
    },
    {
      "cell_type": "markdown",
      "metadata": {
        "id": "OVIsLcucefbY"
      },
      "source": [
        "## Views and copies"
      ]
    },
    {
      "cell_type": "markdown",
      "metadata": {
        "id": "3Vej4eWpefbY"
      },
      "source": [
        "For the fun of it, let's look at another metadata use case. Imagine that the observations come from instruments characterizing 10 readouts in a multi-year study with samples taken from different subjects at different sites. We'd typically get that information in some format and then store it in a DataFrame:"
      ]
    },
    {
      "cell_type": "code",
      "execution_count": 130,
      "metadata": {
        "jupyter": {
          "outputs_hidden": false
        },
        "id": "PpKs17G7efbY"
      },
      "outputs": [],
      "source": [
        "obs_meta = pd.DataFrame({\n",
        "        'time_yr': np.random.choice([0, 2, 4, 8], adata.n_obs),\n",
        "        'subject_id': np.random.choice(['subject 1', 'subject 2', 'subject 4', 'subject 8'], adata.n_obs),\n",
        "        'instrument_type': np.random.choice(['type a', 'type b'], adata.n_obs),\n",
        "        'site': np.random.choice(['site x', 'site y'], adata.n_obs),\n",
        "    },\n",
        "    index=adata.obs.index,    # these are the same IDs of observations as above!\n",
        ")"
      ]
    },
    {
      "cell_type": "markdown",
      "metadata": {
        "id": "QcrhWravefbY"
      },
      "source": [
        "This is how we join the readout data with the metadata. Of course, the first argument of the following call for `X` could also just be a DataFrame."
      ]
    },
    {
      "cell_type": "code",
      "execution_count": 131,
      "metadata": {
        "jupyter": {
          "outputs_hidden": false
        },
        "id": "l4NK3HkZefbZ"
      },
      "outputs": [],
      "source": [
        "adata = ad.AnnData(adata.X, obs=obs_meta, var=adata.var)"
      ]
    },
    {
      "cell_type": "markdown",
      "metadata": {
        "id": "eagyt8S4efbZ"
      },
      "source": [
        "Now we again have a single data container that keeps track of everything."
      ]
    },
    {
      "cell_type": "code",
      "execution_count": 132,
      "metadata": {
        "jupyter": {
          "outputs_hidden": false
        },
        "colab": {
          "base_uri": "https://localhost:8080/"
        },
        "id": "HVHL6l7iefbZ",
        "outputId": "3ea7339d-6398-4394-88cc-569b55f15760"
      },
      "outputs": [
        {
          "output_type": "stream",
          "name": "stdout",
          "text": [
            "AnnData object with n_obs × n_vars = 100 × 2000\n",
            "    obs: 'time_yr', 'subject_id', 'instrument_type', 'site'\n"
          ]
        }
      ],
      "source": [
        "print(adata)"
      ]
    },
    {
      "cell_type": "markdown",
      "metadata": {
        "id": "KkrGcHEGefbZ"
      },
      "source": [
        "Subsetting the joint data matrix can be important to focus on subsets of variables or observations, or to define train-test splits for a machine learning model."
      ]
    },
    {
      "cell_type": "markdown",
      "metadata": {
        "id": "B1ulwF7wefbZ"
      },
      "source": [
        ":::{note}\n",
        "Similar to numpy arrays, AnnData objects can either hold actual data or reference another `AnnData` object. In the later case, they are referred to as \"view\".\n",
        "\n",
        "Subsetting AnnData objects always returns views, which has two advantages:\n",
        "\n",
        "- no new memory is allocated\n",
        "- it is possible to modify the underlying AnnData object\n",
        "\n",
        "You can get an actual AnnData object from a view by calling `.copy()` on the view. Usually, this is not necessary, as any modification of elements of a view (calling `.[]` on an attribute of the view) internally calls `.copy()` and makes the view an AnnData object that holds actual data. See the example below.\n",
        ":::"
      ]
    },
    {
      "cell_type": "code",
      "execution_count": 133,
      "metadata": {
        "jupyter": {
          "outputs_hidden": false
        },
        "colab": {
          "base_uri": "https://localhost:8080/"
        },
        "id": "zc3Qr56zefbZ",
        "outputId": "671f1b12-32cc-47fa-b445-332e91e5cc55"
      },
      "outputs": [
        {
          "output_type": "execute_result",
          "data": {
            "text/plain": [
              "AnnData object with n_obs × n_vars = 100 × 2000\n",
              "    obs: 'time_yr', 'subject_id', 'instrument_type', 'site'"
            ]
          },
          "metadata": {},
          "execution_count": 133
        }
      ],
      "source": [
        "adata"
      ]
    },
    {
      "cell_type": "markdown",
      "metadata": {
        "id": "AwDtz9INefbZ"
      },
      "source": [
        "Get access to the first 5 rows for two variables."
      ]
    },
    {
      "cell_type": "markdown",
      "metadata": {
        "id": "D6bPKODOefbZ"
      },
      "source": [
        ":::{note}\n",
        "Indexing into AnnData will assume that integer arguments to `[]` behave like `.iloc` in pandas, whereas string arguments behave like `.loc`. `AnnData` always assumes string indices.\n",
        ":::"
      ]
    },
    {
      "cell_type": "code",
      "execution_count": 134,
      "metadata": {
        "jupyter": {
          "outputs_hidden": false
        },
        "colab": {
          "base_uri": "https://localhost:8080/"
        },
        "id": "eamO-eIRefbZ",
        "outputId": "5c33bef9-3e8c-4bd0-c895-fd5ad1ee83d7"
      },
      "outputs": [
        {
          "output_type": "execute_result",
          "data": {
            "text/plain": [
              "View of AnnData object with n_obs × n_vars = 5 × 2\n",
              "    obs: 'time_yr', 'subject_id', 'instrument_type', 'site'"
            ]
          },
          "metadata": {},
          "execution_count": 134
        }
      ],
      "source": [
        "adata[:5, ['Gene_1', 'Gene_3']]"
      ]
    },
    {
      "cell_type": "markdown",
      "metadata": {
        "id": "R0aY0gD-efbZ"
      },
      "source": [
        "This is a view! If we want an `AnnData` that holds the data in memory, let's call `.copy()`"
      ]
    },
    {
      "cell_type": "code",
      "execution_count": 135,
      "metadata": {
        "id": "-UnTRBBQefbZ"
      },
      "outputs": [],
      "source": [
        "adata_subset = adata[:5, ['Gene_1', 'Gene_3']].copy()"
      ]
    },
    {
      "cell_type": "markdown",
      "metadata": {
        "id": "_40yWlVRefbZ"
      },
      "source": [
        "For a view, we can also set the first 3 elements of a column."
      ]
    },
    {
      "cell_type": "code",
      "execution_count": 136,
      "metadata": {
        "jupyter": {
          "outputs_hidden": false
        },
        "colab": {
          "base_uri": "https://localhost:8080/"
        },
        "id": "a9QDUjRmefbZ",
        "outputId": "1a7644fc-8350-42ba-b38e-3a96b416b42c"
      },
      "outputs": [
        {
          "output_type": "stream",
          "name": "stdout",
          "text": [
            "[[3.0], [0.0], [0.0]]\n",
            "[[0.0], [0.0], [0.0]]\n"
          ]
        },
        {
          "output_type": "stream",
          "name": "stderr",
          "text": [
            "<ipython-input-136-e4eeb71f6a79>:2: ImplicitModificationWarning: Modifying `X` on a view results in data being overridden\n",
            "  adata[:3, 'Gene_1'].X = [0, 0, 0]\n"
          ]
        }
      ],
      "source": [
        "print(adata[:3, 'Gene_1'].X.toarray().tolist())\n",
        "adata[:3, 'Gene_1'].X = [0, 0, 0]\n",
        "print(adata[:3, 'Gene_1'].X.toarray().tolist())"
      ]
    },
    {
      "cell_type": "markdown",
      "metadata": {
        "id": "TwuW9kcAefba"
      },
      "source": [
        "If you try to access parts of a view of an AnnData, the content will be auto-copied and a data-storing object will be generated."
      ]
    },
    {
      "cell_type": "code",
      "execution_count": 137,
      "metadata": {
        "jupyter": {
          "outputs_hidden": false
        },
        "id": "KpmRyD2vefba"
      },
      "outputs": [],
      "source": [
        "adata_subset = adata[:3, ['Gene_1', 'Gene_2']]"
      ]
    },
    {
      "cell_type": "code",
      "execution_count": 138,
      "metadata": {
        "jupyter": {
          "outputs_hidden": false
        },
        "colab": {
          "base_uri": "https://localhost:8080/"
        },
        "id": "1imowlMsefba",
        "outputId": "1519ba9d-9de1-4a13-f235-00184db35303"
      },
      "outputs": [
        {
          "output_type": "execute_result",
          "data": {
            "text/plain": [
              "View of AnnData object with n_obs × n_vars = 3 × 2\n",
              "    obs: 'time_yr', 'subject_id', 'instrument_type', 'site'"
            ]
          },
          "metadata": {},
          "execution_count": 138
        }
      ],
      "source": [
        "adata_subset"
      ]
    },
    {
      "cell_type": "code",
      "execution_count": 139,
      "metadata": {
        "jupyter": {
          "outputs_hidden": false
        },
        "colab": {
          "base_uri": "https://localhost:8080/"
        },
        "id": "I7TXOapWefba",
        "outputId": "61c1158f-9a76-48fd-b54a-17cc8c9eaf48"
      },
      "outputs": [
        {
          "output_type": "stream",
          "name": "stderr",
          "text": [
            "<ipython-input-139-81cf00566280>:1: ImplicitModificationWarning: Trying to modify attribute `.obs` of view, initializing view as actual.\n",
            "  adata_subset.obs['foo'] = range(3)\n"
          ]
        }
      ],
      "source": [
        "adata_subset.obs['foo'] = range(3)"
      ]
    },
    {
      "cell_type": "markdown",
      "metadata": {
        "id": "tiLxoj8refba"
      },
      "source": [
        "Now `adata_subset` stores the actual data and is no longer just a reference to `adata`."
      ]
    },
    {
      "cell_type": "code",
      "execution_count": 140,
      "metadata": {
        "jupyter": {
          "outputs_hidden": false
        },
        "colab": {
          "base_uri": "https://localhost:8080/"
        },
        "id": "q3cWW8Hfefba",
        "outputId": "449e8f1d-3dcc-4605-c4a7-65d133b84b8a"
      },
      "outputs": [
        {
          "output_type": "execute_result",
          "data": {
            "text/plain": [
              "AnnData object with n_obs × n_vars = 3 × 2\n",
              "    obs: 'time_yr', 'subject_id', 'instrument_type', 'site', 'foo'"
            ]
          },
          "metadata": {},
          "execution_count": 140
        }
      ],
      "source": [
        "adata_subset"
      ]
    },
    {
      "cell_type": "markdown",
      "metadata": {
        "id": "E3C44QNpefba"
      },
      "source": [
        "Evidently, you can use all of pandas to slice with sequences or boolean indices."
      ]
    },
    {
      "cell_type": "code",
      "execution_count": 141,
      "metadata": {
        "jupyter": {
          "outputs_hidden": false
        },
        "colab": {
          "base_uri": "https://localhost:8080/",
          "height": 204
        },
        "id": "0QNHxaIrefba",
        "outputId": "30254029-7aa5-4a9c-cfb5-23b4a4643fd7"
      },
      "outputs": [
        {
          "output_type": "execute_result",
          "data": {
            "text/plain": [
              "         time_yr subject_id instrument_type    site\n",
              "Cell_0         4  subject 1          type b  site y\n",
              "Cell_1         2  subject 1          type b  site x\n",
              "Cell_6         2  subject 4          type a  site y\n",
              "Cell_11        2  subject 8          type a  site y\n",
              "Cell_13        2  subject 2          type b  site y"
            ],
            "text/html": [
              "\n",
              "  <div id=\"df-8225ec3a-bd6d-4ff4-8c12-44f0f59a1667\" class=\"colab-df-container\">\n",
              "    <div>\n",
              "<style scoped>\n",
              "    .dataframe tbody tr th:only-of-type {\n",
              "        vertical-align: middle;\n",
              "    }\n",
              "\n",
              "    .dataframe tbody tr th {\n",
              "        vertical-align: top;\n",
              "    }\n",
              "\n",
              "    .dataframe thead th {\n",
              "        text-align: right;\n",
              "    }\n",
              "</style>\n",
              "<table border=\"1\" class=\"dataframe\">\n",
              "  <thead>\n",
              "    <tr style=\"text-align: right;\">\n",
              "      <th></th>\n",
              "      <th>time_yr</th>\n",
              "      <th>subject_id</th>\n",
              "      <th>instrument_type</th>\n",
              "      <th>site</th>\n",
              "    </tr>\n",
              "  </thead>\n",
              "  <tbody>\n",
              "    <tr>\n",
              "      <th>Cell_0</th>\n",
              "      <td>4</td>\n",
              "      <td>subject 1</td>\n",
              "      <td>type b</td>\n",
              "      <td>site y</td>\n",
              "    </tr>\n",
              "    <tr>\n",
              "      <th>Cell_1</th>\n",
              "      <td>2</td>\n",
              "      <td>subject 1</td>\n",
              "      <td>type b</td>\n",
              "      <td>site x</td>\n",
              "    </tr>\n",
              "    <tr>\n",
              "      <th>Cell_6</th>\n",
              "      <td>2</td>\n",
              "      <td>subject 4</td>\n",
              "      <td>type a</td>\n",
              "      <td>site y</td>\n",
              "    </tr>\n",
              "    <tr>\n",
              "      <th>Cell_11</th>\n",
              "      <td>2</td>\n",
              "      <td>subject 8</td>\n",
              "      <td>type a</td>\n",
              "      <td>site y</td>\n",
              "    </tr>\n",
              "    <tr>\n",
              "      <th>Cell_13</th>\n",
              "      <td>2</td>\n",
              "      <td>subject 2</td>\n",
              "      <td>type b</td>\n",
              "      <td>site y</td>\n",
              "    </tr>\n",
              "  </tbody>\n",
              "</table>\n",
              "</div>\n",
              "    <div class=\"colab-df-buttons\">\n",
              "\n",
              "  <div class=\"colab-df-container\">\n",
              "    <button class=\"colab-df-convert\" onclick=\"convertToInteractive('df-8225ec3a-bd6d-4ff4-8c12-44f0f59a1667')\"\n",
              "            title=\"Convert this dataframe to an interactive table.\"\n",
              "            style=\"display:none;\">\n",
              "\n",
              "  <svg xmlns=\"http://www.w3.org/2000/svg\" height=\"24px\" viewBox=\"0 -960 960 960\">\n",
              "    <path d=\"M120-120v-720h720v720H120Zm60-500h600v-160H180v160Zm220 220h160v-160H400v160Zm0 220h160v-160H400v160ZM180-400h160v-160H180v160Zm440 0h160v-160H620v160ZM180-180h160v-160H180v160Zm440 0h160v-160H620v160Z\"/>\n",
              "  </svg>\n",
              "    </button>\n",
              "\n",
              "  <style>\n",
              "    .colab-df-container {\n",
              "      display:flex;\n",
              "      gap: 12px;\n",
              "    }\n",
              "\n",
              "    .colab-df-convert {\n",
              "      background-color: #E8F0FE;\n",
              "      border: none;\n",
              "      border-radius: 50%;\n",
              "      cursor: pointer;\n",
              "      display: none;\n",
              "      fill: #1967D2;\n",
              "      height: 32px;\n",
              "      padding: 0 0 0 0;\n",
              "      width: 32px;\n",
              "    }\n",
              "\n",
              "    .colab-df-convert:hover {\n",
              "      background-color: #E2EBFA;\n",
              "      box-shadow: 0px 1px 2px rgba(60, 64, 67, 0.3), 0px 1px 3px 1px rgba(60, 64, 67, 0.15);\n",
              "      fill: #174EA6;\n",
              "    }\n",
              "\n",
              "    .colab-df-buttons div {\n",
              "      margin-bottom: 4px;\n",
              "    }\n",
              "\n",
              "    [theme=dark] .colab-df-convert {\n",
              "      background-color: #3B4455;\n",
              "      fill: #D2E3FC;\n",
              "    }\n",
              "\n",
              "    [theme=dark] .colab-df-convert:hover {\n",
              "      background-color: #434B5C;\n",
              "      box-shadow: 0px 1px 3px 1px rgba(0, 0, 0, 0.15);\n",
              "      filter: drop-shadow(0px 1px 2px rgba(0, 0, 0, 0.3));\n",
              "      fill: #FFFFFF;\n",
              "    }\n",
              "  </style>\n",
              "\n",
              "    <script>\n",
              "      const buttonEl =\n",
              "        document.querySelector('#df-8225ec3a-bd6d-4ff4-8c12-44f0f59a1667 button.colab-df-convert');\n",
              "      buttonEl.style.display =\n",
              "        google.colab.kernel.accessAllowed ? 'block' : 'none';\n",
              "\n",
              "      async function convertToInteractive(key) {\n",
              "        const element = document.querySelector('#df-8225ec3a-bd6d-4ff4-8c12-44f0f59a1667');\n",
              "        const dataTable =\n",
              "          await google.colab.kernel.invokeFunction('convertToInteractive',\n",
              "                                                    [key], {});\n",
              "        if (!dataTable) return;\n",
              "\n",
              "        const docLinkHtml = 'Like what you see? Visit the ' +\n",
              "          '<a target=\"_blank\" href=https://colab.research.google.com/notebooks/data_table.ipynb>data table notebook</a>'\n",
              "          + ' to learn more about interactive tables.';\n",
              "        element.innerHTML = '';\n",
              "        dataTable['output_type'] = 'display_data';\n",
              "        await google.colab.output.renderOutput(dataTable, element);\n",
              "        const docLink = document.createElement('div');\n",
              "        docLink.innerHTML = docLinkHtml;\n",
              "        element.appendChild(docLink);\n",
              "      }\n",
              "    </script>\n",
              "  </div>\n",
              "\n",
              "\n",
              "    <div id=\"df-d0ad53bf-ed73-4e32-8252-07d3a321e14f\">\n",
              "      <button class=\"colab-df-quickchart\" onclick=\"quickchart('df-d0ad53bf-ed73-4e32-8252-07d3a321e14f')\"\n",
              "                title=\"Suggest charts\"\n",
              "                style=\"display:none;\">\n",
              "\n",
              "<svg xmlns=\"http://www.w3.org/2000/svg\" height=\"24px\"viewBox=\"0 0 24 24\"\n",
              "     width=\"24px\">\n",
              "    <g>\n",
              "        <path d=\"M19 3H5c-1.1 0-2 .9-2 2v14c0 1.1.9 2 2 2h14c1.1 0 2-.9 2-2V5c0-1.1-.9-2-2-2zM9 17H7v-7h2v7zm4 0h-2V7h2v10zm4 0h-2v-4h2v4z\"/>\n",
              "    </g>\n",
              "</svg>\n",
              "      </button>\n",
              "\n",
              "<style>\n",
              "  .colab-df-quickchart {\n",
              "      --bg-color: #E8F0FE;\n",
              "      --fill-color: #1967D2;\n",
              "      --hover-bg-color: #E2EBFA;\n",
              "      --hover-fill-color: #174EA6;\n",
              "      --disabled-fill-color: #AAA;\n",
              "      --disabled-bg-color: #DDD;\n",
              "  }\n",
              "\n",
              "  [theme=dark] .colab-df-quickchart {\n",
              "      --bg-color: #3B4455;\n",
              "      --fill-color: #D2E3FC;\n",
              "      --hover-bg-color: #434B5C;\n",
              "      --hover-fill-color: #FFFFFF;\n",
              "      --disabled-bg-color: #3B4455;\n",
              "      --disabled-fill-color: #666;\n",
              "  }\n",
              "\n",
              "  .colab-df-quickchart {\n",
              "    background-color: var(--bg-color);\n",
              "    border: none;\n",
              "    border-radius: 50%;\n",
              "    cursor: pointer;\n",
              "    display: none;\n",
              "    fill: var(--fill-color);\n",
              "    height: 32px;\n",
              "    padding: 0;\n",
              "    width: 32px;\n",
              "  }\n",
              "\n",
              "  .colab-df-quickchart:hover {\n",
              "    background-color: var(--hover-bg-color);\n",
              "    box-shadow: 0 1px 2px rgba(60, 64, 67, 0.3), 0 1px 3px 1px rgba(60, 64, 67, 0.15);\n",
              "    fill: var(--button-hover-fill-color);\n",
              "  }\n",
              "\n",
              "  .colab-df-quickchart-complete:disabled,\n",
              "  .colab-df-quickchart-complete:disabled:hover {\n",
              "    background-color: var(--disabled-bg-color);\n",
              "    fill: var(--disabled-fill-color);\n",
              "    box-shadow: none;\n",
              "  }\n",
              "\n",
              "  .colab-df-spinner {\n",
              "    border: 2px solid var(--fill-color);\n",
              "    border-color: transparent;\n",
              "    border-bottom-color: var(--fill-color);\n",
              "    animation:\n",
              "      spin 1s steps(1) infinite;\n",
              "  }\n",
              "\n",
              "  @keyframes spin {\n",
              "    0% {\n",
              "      border-color: transparent;\n",
              "      border-bottom-color: var(--fill-color);\n",
              "      border-left-color: var(--fill-color);\n",
              "    }\n",
              "    20% {\n",
              "      border-color: transparent;\n",
              "      border-left-color: var(--fill-color);\n",
              "      border-top-color: var(--fill-color);\n",
              "    }\n",
              "    30% {\n",
              "      border-color: transparent;\n",
              "      border-left-color: var(--fill-color);\n",
              "      border-top-color: var(--fill-color);\n",
              "      border-right-color: var(--fill-color);\n",
              "    }\n",
              "    40% {\n",
              "      border-color: transparent;\n",
              "      border-right-color: var(--fill-color);\n",
              "      border-top-color: var(--fill-color);\n",
              "    }\n",
              "    60% {\n",
              "      border-color: transparent;\n",
              "      border-right-color: var(--fill-color);\n",
              "    }\n",
              "    80% {\n",
              "      border-color: transparent;\n",
              "      border-right-color: var(--fill-color);\n",
              "      border-bottom-color: var(--fill-color);\n",
              "    }\n",
              "    90% {\n",
              "      border-color: transparent;\n",
              "      border-bottom-color: var(--fill-color);\n",
              "    }\n",
              "  }\n",
              "</style>\n",
              "\n",
              "      <script>\n",
              "        async function quickchart(key) {\n",
              "          const quickchartButtonEl =\n",
              "            document.querySelector('#' + key + ' button');\n",
              "          quickchartButtonEl.disabled = true;  // To prevent multiple clicks.\n",
              "          quickchartButtonEl.classList.add('colab-df-spinner');\n",
              "          try {\n",
              "            const charts = await google.colab.kernel.invokeFunction(\n",
              "                'suggestCharts', [key], {});\n",
              "          } catch (error) {\n",
              "            console.error('Error during call to suggestCharts:', error);\n",
              "          }\n",
              "          quickchartButtonEl.classList.remove('colab-df-spinner');\n",
              "          quickchartButtonEl.classList.add('colab-df-quickchart-complete');\n",
              "        }\n",
              "        (() => {\n",
              "          let quickchartButtonEl =\n",
              "            document.querySelector('#df-d0ad53bf-ed73-4e32-8252-07d3a321e14f button');\n",
              "          quickchartButtonEl.style.display =\n",
              "            google.colab.kernel.accessAllowed ? 'block' : 'none';\n",
              "        })();\n",
              "      </script>\n",
              "    </div>\n",
              "\n",
              "    </div>\n",
              "  </div>\n"
            ],
            "application/vnd.google.colaboratory.intrinsic+json": {
              "type": "dataframe",
              "summary": "{\n  \"name\": \"adata[adata\",\n  \"rows\": 5,\n  \"fields\": [\n    {\n      \"column\": \"time_yr\",\n      \"properties\": {\n        \"dtype\": \"number\",\n        \"std\": 0,\n        \"min\": 2,\n        \"max\": 4,\n        \"num_unique_values\": 2,\n        \"samples\": [\n          2,\n          4\n        ],\n        \"semantic_type\": \"\",\n        \"description\": \"\"\n      }\n    },\n    {\n      \"column\": \"subject_id\",\n      \"properties\": {\n        \"dtype\": \"string\",\n        \"num_unique_values\": 4,\n        \"samples\": [\n          \"subject 4\",\n          \"subject 2\"\n        ],\n        \"semantic_type\": \"\",\n        \"description\": \"\"\n      }\n    },\n    {\n      \"column\": \"instrument_type\",\n      \"properties\": {\n        \"dtype\": \"category\",\n        \"num_unique_values\": 2,\n        \"samples\": [\n          \"type a\",\n          \"type b\"\n        ],\n        \"semantic_type\": \"\",\n        \"description\": \"\"\n      }\n    },\n    {\n      \"column\": \"site\",\n      \"properties\": {\n        \"dtype\": \"category\",\n        \"num_unique_values\": 2,\n        \"samples\": [\n          \"site x\",\n          \"site y\"\n        ],\n        \"semantic_type\": \"\",\n        \"description\": \"\"\n      }\n    }\n  ]\n}"
            }
          },
          "metadata": {},
          "execution_count": 141
        }
      ],
      "source": [
        "adata[adata.obs.time_yr.isin([2, 4])].obs.head()"
      ]
    },
    {
      "cell_type": "markdown",
      "metadata": {
        "id": "1zUnw6MHefba"
      },
      "source": [
        "(read-partial)=\n",
        "\n",
        "## Partial reading of large data"
      ]
    },
    {
      "cell_type": "markdown",
      "metadata": {
        "id": "Ups1-N4Cefba"
      },
      "source": [
        "If a single `.h5ad` is very large, you can partially read it into memory by using backed mode:"
      ]
    },
    {
      "cell_type": "code",
      "execution_count": 142,
      "metadata": {
        "colab": {
          "base_uri": "https://localhost:8080/"
        },
        "id": "Psmnkbn9efba",
        "outputId": "a99aeca9-8d1a-4fbb-b7ad-55db88528379"
      },
      "outputs": [
        {
          "output_type": "stream",
          "name": "stderr",
          "text": [
            "/usr/local/lib/python3.11/dist-packages/anndata/__init__.py:42: FutureWarning: `anndata.read` is deprecated, use `anndata.read_h5ad` instead. `ad.read` will be removed in mid 2024.\n",
            "  warnings.warn(\n"
          ]
        }
      ],
      "source": [
        "adata = ad.read('my_results.h5ad', backed='r')"
      ]
    },
    {
      "cell_type": "code",
      "execution_count": 143,
      "metadata": {
        "colab": {
          "base_uri": "https://localhost:8080/"
        },
        "id": "44QI7njpefbb",
        "outputId": "8f6d513a-a712-44f1-a316-c5428b5e5d29"
      },
      "outputs": [
        {
          "output_type": "execute_result",
          "data": {
            "text/plain": [
              "True"
            ]
          },
          "metadata": {},
          "execution_count": 143
        }
      ],
      "source": [
        "adata.isbacked"
      ]
    },
    {
      "cell_type": "markdown",
      "metadata": {
        "id": "a94b-qVZefbb"
      },
      "source": [
        "If you do this, you'll need to remember that the `AnnData` object has an open connection to the file used for reading:"
      ]
    },
    {
      "cell_type": "code",
      "execution_count": 144,
      "metadata": {
        "colab": {
          "base_uri": "https://localhost:8080/"
        },
        "id": "mFhIFyX4efbb",
        "outputId": "7a6bce18-9ab5-45a1-a9ea-f2b9055348f2"
      },
      "outputs": [
        {
          "output_type": "execute_result",
          "data": {
            "text/plain": [
              "PosixPath('my_results.h5ad')"
            ]
          },
          "metadata": {},
          "execution_count": 144
        }
      ],
      "source": [
        "adata.filename"
      ]
    },
    {
      "cell_type": "markdown",
      "metadata": {
        "id": "GaYX971lefbb"
      },
      "source": [
        "As we're using it in read-only mode, we can't damage anything. To proceed with this tutorial, we still need to explicitly close it:"
      ]
    },
    {
      "cell_type": "code",
      "execution_count": 145,
      "metadata": {
        "id": "EuNNUpTCefbb"
      },
      "outputs": [],
      "source": [
        "adata.file.close()"
      ]
    },
    {
      "cell_type": "markdown",
      "metadata": {
        "id": "P_Gzi2P4efbb"
      },
      "source": [
        "As usual, you should rather use `with` statements to avoid dangling open files (up-coming feature)."
      ]
    },
    {
      "cell_type": "markdown",
      "metadata": {
        "id": "4kTT0LuTefbb"
      },
      "source": [
        "Manipulating the object on disk is possible, but experimental for sparse data. Hence, we leave it out of this tutorial."
      ]
    },
    {
      "cell_type": "markdown",
      "source": [
        "# Exploring real datasets\n",
        "\n",
        "Below are three datasets to be explored with anndata and scanpy. Try using the Colab Gemini assistant to help you explore this data making plots of statistics you might find interesting"
      ],
      "metadata": {
        "id": "ZPUyCXVnfO4-"
      }
    },
    {
      "cell_type": "code",
      "source": [
        "!pip install scanpy\n"
      ],
      "metadata": {
        "colab": {
          "base_uri": "https://localhost:8080/"
        },
        "id": "QC7qprxefOqz",
        "outputId": "d1cd6c78-0bde-40f3-90e5-a20ada2503a1"
      },
      "execution_count": 146,
      "outputs": [
        {
          "output_type": "stream",
          "name": "stdout",
          "text": [
            "Requirement already satisfied: scanpy in /usr/local/lib/python3.11/dist-packages (1.11.1)\n",
            "Requirement already satisfied: anndata>=0.8 in /usr/local/lib/python3.11/dist-packages (from scanpy) (0.11.4)\n",
            "Requirement already satisfied: h5py>=3.7 in /usr/local/lib/python3.11/dist-packages (from scanpy) (3.13.0)\n",
            "Requirement already satisfied: joblib in /usr/local/lib/python3.11/dist-packages (from scanpy) (1.4.2)\n",
            "Requirement already satisfied: legacy-api-wrap>=1.4 in /usr/local/lib/python3.11/dist-packages (from scanpy) (1.4.1)\n",
            "Requirement already satisfied: matplotlib>=3.7 in /usr/local/lib/python3.11/dist-packages (from scanpy) (3.10.0)\n",
            "Requirement already satisfied: natsort in /usr/local/lib/python3.11/dist-packages (from scanpy) (8.4.0)\n",
            "Requirement already satisfied: networkx>=2.7 in /usr/local/lib/python3.11/dist-packages (from scanpy) (3.4.2)\n",
            "Requirement already satisfied: numba>=0.57 in /usr/local/lib/python3.11/dist-packages (from scanpy) (0.60.0)\n",
            "Requirement already satisfied: numpy>=1.24 in /usr/local/lib/python3.11/dist-packages (from scanpy) (2.0.2)\n",
            "Requirement already satisfied: packaging>=21.3 in /usr/local/lib/python3.11/dist-packages (from scanpy) (24.2)\n",
            "Requirement already satisfied: pandas>=1.5 in /usr/local/lib/python3.11/dist-packages (from scanpy) (2.2.2)\n",
            "Requirement already satisfied: patsy!=1.0.0 in /usr/local/lib/python3.11/dist-packages (from scanpy) (1.0.1)\n",
            "Requirement already satisfied: pynndescent>=0.5 in /usr/local/lib/python3.11/dist-packages (from scanpy) (0.5.13)\n",
            "Requirement already satisfied: scikit-learn<1.6.0,>=1.1 in /usr/local/lib/python3.11/dist-packages (from scanpy) (1.5.2)\n",
            "Requirement already satisfied: scipy>=1.8 in /usr/local/lib/python3.11/dist-packages (from scanpy) (1.15.2)\n",
            "Requirement already satisfied: seaborn>=0.13 in /usr/local/lib/python3.11/dist-packages (from scanpy) (0.13.2)\n",
            "Requirement already satisfied: session-info2 in /usr/local/lib/python3.11/dist-packages (from scanpy) (0.1.2)\n",
            "Requirement already satisfied: statsmodels>=0.13 in /usr/local/lib/python3.11/dist-packages (from scanpy) (0.14.4)\n",
            "Requirement already satisfied: tqdm in /usr/local/lib/python3.11/dist-packages (from scanpy) (4.67.1)\n",
            "Requirement already satisfied: typing-extensions in /usr/local/lib/python3.11/dist-packages (from scanpy) (4.13.2)\n",
            "Requirement already satisfied: umap-learn!=0.5.0,>=0.5 in /usr/local/lib/python3.11/dist-packages (from scanpy) (0.5.7)\n",
            "Requirement already satisfied: array-api-compat!=1.5,>1.4 in /usr/local/lib/python3.11/dist-packages (from anndata>=0.8->scanpy) (1.11.2)\n",
            "Requirement already satisfied: contourpy>=1.0.1 in /usr/local/lib/python3.11/dist-packages (from matplotlib>=3.7->scanpy) (1.3.2)\n",
            "Requirement already satisfied: cycler>=0.10 in /usr/local/lib/python3.11/dist-packages (from matplotlib>=3.7->scanpy) (0.12.1)\n",
            "Requirement already satisfied: fonttools>=4.22.0 in /usr/local/lib/python3.11/dist-packages (from matplotlib>=3.7->scanpy) (4.57.0)\n",
            "Requirement already satisfied: kiwisolver>=1.3.1 in /usr/local/lib/python3.11/dist-packages (from matplotlib>=3.7->scanpy) (1.4.8)\n",
            "Requirement already satisfied: pillow>=8 in /usr/local/lib/python3.11/dist-packages (from matplotlib>=3.7->scanpy) (11.2.1)\n",
            "Requirement already satisfied: pyparsing>=2.3.1 in /usr/local/lib/python3.11/dist-packages (from matplotlib>=3.7->scanpy) (3.2.3)\n",
            "Requirement already satisfied: python-dateutil>=2.7 in /usr/local/lib/python3.11/dist-packages (from matplotlib>=3.7->scanpy) (2.9.0.post0)\n",
            "Requirement already satisfied: llvmlite<0.44,>=0.43.0dev0 in /usr/local/lib/python3.11/dist-packages (from numba>=0.57->scanpy) (0.43.0)\n",
            "Requirement already satisfied: pytz>=2020.1 in /usr/local/lib/python3.11/dist-packages (from pandas>=1.5->scanpy) (2025.2)\n",
            "Requirement already satisfied: tzdata>=2022.7 in /usr/local/lib/python3.11/dist-packages (from pandas>=1.5->scanpy) (2025.2)\n",
            "Requirement already satisfied: threadpoolctl>=3.1.0 in /usr/local/lib/python3.11/dist-packages (from scikit-learn<1.6.0,>=1.1->scanpy) (3.6.0)\n",
            "Requirement already satisfied: six>=1.5 in /usr/local/lib/python3.11/dist-packages (from python-dateutil>=2.7->matplotlib>=3.7->scanpy) (1.17.0)\n"
          ]
        }
      ]
    },
    {
      "cell_type": "code",
      "source": [
        "import os\n",
        "import tempfile\n",
        "\n",
        "import scanpy as sc\n",
        "import seaborn as sns\n",
        "import torch"
      ],
      "metadata": {
        "id": "_d6VSJzpfOho"
      },
      "execution_count": 147,
      "outputs": []
    },
    {
      "cell_type": "code",
      "source": [
        "adata = sc.read(\"./pbmc3k.h5ad\", backup_url=\"http://falexwolf.de/data/pbmc3k_raw.h5ad\")\n",
        "adata"
      ],
      "metadata": {
        "colab": {
          "base_uri": "https://localhost:8080/"
        },
        "id": "7R8ugo6fgNEn",
        "outputId": "4fadc542-7978-4d6b-ea8f-842e48640ff2"
      },
      "execution_count": 148,
      "outputs": [
        {
          "output_type": "execute_result",
          "data": {
            "text/plain": [
              "AnnData object with n_obs × n_vars = 2700 × 32738\n",
              "    var: 'gene_ids'"
            ]
          },
          "metadata": {},
          "execution_count": 148
        }
      ]
    },
    {
      "cell_type": "code",
      "source": [
        "adata_path=\"./lung_atlas.h5ad\"\n",
        "lung_adata = sc.read(\n",
        "    adata_path,\n",
        "    backup_url=\"https://figshare.com/ndownloader/files/24539942\",\n",
        ")\n",
        "lung_adata"
      ],
      "metadata": {
        "colab": {
          "base_uri": "https://localhost:8080/"
        },
        "id": "xFOaYR_1fu--",
        "outputId": "72b97b32-7bf2-45fd-a5c1-c915b5f97f4a"
      },
      "execution_count": 149,
      "outputs": [
        {
          "output_type": "execute_result",
          "data": {
            "text/plain": [
              "AnnData object with n_obs × n_vars = 32472 × 15148\n",
              "    obs: 'dataset', 'location', 'nGene', 'nUMI', 'patientGroup', 'percent.mito', 'protocol', 'sanger_type', 'size_factors', 'sampling_method', 'batch', 'cell_type', 'donor'\n",
              "    layers: 'counts'"
            ]
          },
          "metadata": {},
          "execution_count": 149
        }
      ]
    },
    {
      "cell_type": "code",
      "source": [
        "lung_adata.obs"
      ],
      "metadata": {
        "id": "vGObX4vfxX7r",
        "outputId": "74da6481-3db0-4d41-b2e2-667b6adf7e5d",
        "colab": {
          "base_uri": "https://localhost:8080/",
          "height": 470
        }
      },
      "execution_count": 150,
      "outputs": [
        {
          "output_type": "execute_result",
          "data": {
            "text/plain": [
              "                                                               dataset  \\\n",
              "index                                                                    \n",
              "GAGGGGCCAGCC                                        Dropseq_transplant   \n",
              "ACATAGATAGGC                                        Dropseq_transplant   \n",
              "ATCGACGCGGCA                                        Dropseq_transplant   \n",
              "CCAGCTTAGGTT                                        Dropseq_transplant   \n",
              "TCATAGAGTCCT                                        Dropseq_transplant   \n",
              "...                                                                ...   \n",
              "LungTranscriptome7239219_LungTranscriptome72392...      10x_Transplant   \n",
              "LungTranscriptome7239219_LungTranscriptome72392...      10x_Transplant   \n",
              "LungTranscriptome7239213_GACTGCGTCCTGCCAT               10x_Transplant   \n",
              "LungTranscriptome7239218_GCTGCGACATTCACTT               10x_Transplant   \n",
              "LungTranscriptome7239219_LungTranscriptome72392...      10x_Transplant   \n",
              "\n",
              "                                                         location  nGene  \\\n",
              "index                                                                      \n",
              "GAGGGGCCAGCC                                        Dropseq_lower    249   \n",
              "ACATAGATAGGC                                        Dropseq_lower    582   \n",
              "ATCGACGCGGCA                                        Dropseq_lower    292   \n",
              "CCAGCTTAGGTT                                        Dropseq_lower   1057   \n",
              "TCATAGAGTCCT                                        Dropseq_lower    716   \n",
              "...                                                           ...    ...   \n",
              "LungTranscriptome7239219_LungTranscriptome72392...     Transplant   1178   \n",
              "LungTranscriptome7239219_LungTranscriptome72392...     Transplant   1919   \n",
              "LungTranscriptome7239213_GACTGCGTCCTGCCAT              Transplant   4411   \n",
              "LungTranscriptome7239218_GCTGCGACATTCACTT              Transplant   2132   \n",
              "LungTranscriptome7239219_LungTranscriptome72392...     Transplant   1886   \n",
              "\n",
              "                                                     nUMI patientGroup  \\\n",
              "index                                                                    \n",
              "GAGGGGCCAGCC                                          355          nan   \n",
              "ACATAGATAGGC                                          987          nan   \n",
              "ATCGACGCGGCA                                          490          nan   \n",
              "CCAGCTTAGGTT                                         1806          nan   \n",
              "TCATAGAGTCCT                                         1378          nan   \n",
              "...                                                   ...          ...   \n",
              "LungTranscriptome7239219_LungTranscriptome72392...   3245   Parenchyma   \n",
              "LungTranscriptome7239219_LungTranscriptome72392...   5984   Parenchyma   \n",
              "LungTranscriptome7239213_GACTGCGTCCTGCCAT           25233   Parenchyma   \n",
              "LungTranscriptome7239218_GCTGCGACATTCACTT            7216   Parenchyma   \n",
              "LungTranscriptome7239219_LungTranscriptome72392...   5846   Parenchyma   \n",
              "\n",
              "                                                    percent.mito  protocol  \\\n",
              "index                                                                        \n",
              "GAGGGGCCAGCC                                            0.019718  drop-seq   \n",
              "ACATAGATAGGC                                            0.044580  drop-seq   \n",
              "ATCGACGCGGCA                                            0.026531  drop-seq   \n",
              "CCAGCTTAGGTT                                            0.035437  drop-seq   \n",
              "TCATAGAGTCCT                                            0.020319  drop-seq   \n",
              "...                                                          ...       ...   \n",
              "LungTranscriptome7239219_LungTranscriptome72392...      0.011896    10x v2   \n",
              "LungTranscriptome7239219_LungTranscriptome72392...      0.018747    10x v2   \n",
              "LungTranscriptome7239213_GACTGCGTCCTGCCAT               0.010489    10x v2   \n",
              "LungTranscriptome7239218_GCTGCGACATTCACTT               0.013827    10x v2   \n",
              "LungTranscriptome7239219_LungTranscriptome72392...      0.017164    10x v2   \n",
              "\n",
              "                                                   sanger_type  size_factors  \\\n",
              "index                                                                          \n",
              "GAGGGGCCAGCC                                          drop-seq      0.381231   \n",
              "ACATAGATAGGC                                          drop-seq      1.081643   \n",
              "ATCGACGCGGCA                                          drop-seq      0.497352   \n",
              "CCAGCTTAGGTT                                          drop-seq      2.172617   \n",
              "TCATAGAGTCCT                                          drop-seq      1.197578   \n",
              "...                                                        ...           ...   \n",
              "LungTranscriptome7239219_LungTranscriptome72392...       other      0.775650   \n",
              "LungTranscriptome7239219_LungTranscriptome72392...       other      0.982236   \n",
              "LungTranscriptome7239213_GACTGCGTCCTGCCAT                other      1.235763   \n",
              "LungTranscriptome7239218_GCTGCGACATTCACTT                other      1.025105   \n",
              "LungTranscriptome7239219_LungTranscriptome72392...       other      0.929115   \n",
              "\n",
              "                                                   sampling_method batch  \\\n",
              "index                                                                      \n",
              "GAGGGGCCAGCC                                            Transplant    B1   \n",
              "ACATAGATAGGC                                            Transplant    B1   \n",
              "ATCGACGCGGCA                                            Transplant    B1   \n",
              "CCAGCTTAGGTT                                            Transplant    B1   \n",
              "TCATAGAGTCCT                                            Transplant    B1   \n",
              "...                                                            ...   ...   \n",
              "LungTranscriptome7239219_LungTranscriptome72392...      Transplant     5   \n",
              "LungTranscriptome7239219_LungTranscriptome72392...      Transplant     5   \n",
              "LungTranscriptome7239213_GACTGCGTCCTGCCAT               Transplant     3   \n",
              "LungTranscriptome7239218_GCTGCGACATTCACTT               Transplant     6   \n",
              "LungTranscriptome7239219_LungTranscriptome72392...      Transplant     5   \n",
              "\n",
              "                                                    cell_type donor  \n",
              "index                                                                \n",
              "GAGGGGCCAGCC                                           Type 2    B1  \n",
              "ACATAGATAGGC                                           Type 2    B1  \n",
              "ATCGACGCGGCA                                           Type 2    B1  \n",
              "CCAGCTTAGGTT                                           Type 2    B1  \n",
              "TCATAGAGTCCT                                           Type 2    B1  \n",
              "...                                                       ...   ...  \n",
              "LungTranscriptome7239219_LungTranscriptome72392...  Mast cell     5  \n",
              "LungTranscriptome7239219_LungTranscriptome72392...  Mast cell     5  \n",
              "LungTranscriptome7239213_GACTGCGTCCTGCCAT           Mast cell     3  \n",
              "LungTranscriptome7239218_GCTGCGACATTCACTT           Mast cell     6  \n",
              "LungTranscriptome7239219_LungTranscriptome72392...  Mast cell     5  \n",
              "\n",
              "[32472 rows x 13 columns]"
            ],
            "text/html": [
              "\n",
              "  <div id=\"df-22f80b1f-26e2-4e16-9281-052b4e961a8d\" class=\"colab-df-container\">\n",
              "    <div>\n",
              "<style scoped>\n",
              "    .dataframe tbody tr th:only-of-type {\n",
              "        vertical-align: middle;\n",
              "    }\n",
              "\n",
              "    .dataframe tbody tr th {\n",
              "        vertical-align: top;\n",
              "    }\n",
              "\n",
              "    .dataframe thead th {\n",
              "        text-align: right;\n",
              "    }\n",
              "</style>\n",
              "<table border=\"1\" class=\"dataframe\">\n",
              "  <thead>\n",
              "    <tr style=\"text-align: right;\">\n",
              "      <th></th>\n",
              "      <th>dataset</th>\n",
              "      <th>location</th>\n",
              "      <th>nGene</th>\n",
              "      <th>nUMI</th>\n",
              "      <th>patientGroup</th>\n",
              "      <th>percent.mito</th>\n",
              "      <th>protocol</th>\n",
              "      <th>sanger_type</th>\n",
              "      <th>size_factors</th>\n",
              "      <th>sampling_method</th>\n",
              "      <th>batch</th>\n",
              "      <th>cell_type</th>\n",
              "      <th>donor</th>\n",
              "    </tr>\n",
              "    <tr>\n",
              "      <th>index</th>\n",
              "      <th></th>\n",
              "      <th></th>\n",
              "      <th></th>\n",
              "      <th></th>\n",
              "      <th></th>\n",
              "      <th></th>\n",
              "      <th></th>\n",
              "      <th></th>\n",
              "      <th></th>\n",
              "      <th></th>\n",
              "      <th></th>\n",
              "      <th></th>\n",
              "      <th></th>\n",
              "    </tr>\n",
              "  </thead>\n",
              "  <tbody>\n",
              "    <tr>\n",
              "      <th>GAGGGGCCAGCC</th>\n",
              "      <td>Dropseq_transplant</td>\n",
              "      <td>Dropseq_lower</td>\n",
              "      <td>249</td>\n",
              "      <td>355</td>\n",
              "      <td>nan</td>\n",
              "      <td>0.019718</td>\n",
              "      <td>drop-seq</td>\n",
              "      <td>drop-seq</td>\n",
              "      <td>0.381231</td>\n",
              "      <td>Transplant</td>\n",
              "      <td>B1</td>\n",
              "      <td>Type 2</td>\n",
              "      <td>B1</td>\n",
              "    </tr>\n",
              "    <tr>\n",
              "      <th>ACATAGATAGGC</th>\n",
              "      <td>Dropseq_transplant</td>\n",
              "      <td>Dropseq_lower</td>\n",
              "      <td>582</td>\n",
              "      <td>987</td>\n",
              "      <td>nan</td>\n",
              "      <td>0.044580</td>\n",
              "      <td>drop-seq</td>\n",
              "      <td>drop-seq</td>\n",
              "      <td>1.081643</td>\n",
              "      <td>Transplant</td>\n",
              "      <td>B1</td>\n",
              "      <td>Type 2</td>\n",
              "      <td>B1</td>\n",
              "    </tr>\n",
              "    <tr>\n",
              "      <th>ATCGACGCGGCA</th>\n",
              "      <td>Dropseq_transplant</td>\n",
              "      <td>Dropseq_lower</td>\n",
              "      <td>292</td>\n",
              "      <td>490</td>\n",
              "      <td>nan</td>\n",
              "      <td>0.026531</td>\n",
              "      <td>drop-seq</td>\n",
              "      <td>drop-seq</td>\n",
              "      <td>0.497352</td>\n",
              "      <td>Transplant</td>\n",
              "      <td>B1</td>\n",
              "      <td>Type 2</td>\n",
              "      <td>B1</td>\n",
              "    </tr>\n",
              "    <tr>\n",
              "      <th>CCAGCTTAGGTT</th>\n",
              "      <td>Dropseq_transplant</td>\n",
              "      <td>Dropseq_lower</td>\n",
              "      <td>1057</td>\n",
              "      <td>1806</td>\n",
              "      <td>nan</td>\n",
              "      <td>0.035437</td>\n",
              "      <td>drop-seq</td>\n",
              "      <td>drop-seq</td>\n",
              "      <td>2.172617</td>\n",
              "      <td>Transplant</td>\n",
              "      <td>B1</td>\n",
              "      <td>Type 2</td>\n",
              "      <td>B1</td>\n",
              "    </tr>\n",
              "    <tr>\n",
              "      <th>TCATAGAGTCCT</th>\n",
              "      <td>Dropseq_transplant</td>\n",
              "      <td>Dropseq_lower</td>\n",
              "      <td>716</td>\n",
              "      <td>1378</td>\n",
              "      <td>nan</td>\n",
              "      <td>0.020319</td>\n",
              "      <td>drop-seq</td>\n",
              "      <td>drop-seq</td>\n",
              "      <td>1.197578</td>\n",
              "      <td>Transplant</td>\n",
              "      <td>B1</td>\n",
              "      <td>Type 2</td>\n",
              "      <td>B1</td>\n",
              "    </tr>\n",
              "    <tr>\n",
              "      <th>...</th>\n",
              "      <td>...</td>\n",
              "      <td>...</td>\n",
              "      <td>...</td>\n",
              "      <td>...</td>\n",
              "      <td>...</td>\n",
              "      <td>...</td>\n",
              "      <td>...</td>\n",
              "      <td>...</td>\n",
              "      <td>...</td>\n",
              "      <td>...</td>\n",
              "      <td>...</td>\n",
              "      <td>...</td>\n",
              "      <td>...</td>\n",
              "    </tr>\n",
              "    <tr>\n",
              "      <th>LungTranscriptome7239219_LungTranscriptome7239219GGGCATCCACCAACCG</th>\n",
              "      <td>10x_Transplant</td>\n",
              "      <td>Transplant</td>\n",
              "      <td>1178</td>\n",
              "      <td>3245</td>\n",
              "      <td>Parenchyma</td>\n",
              "      <td>0.011896</td>\n",
              "      <td>10x v2</td>\n",
              "      <td>other</td>\n",
              "      <td>0.775650</td>\n",
              "      <td>Transplant</td>\n",
              "      <td>5</td>\n",
              "      <td>Mast cell</td>\n",
              "      <td>5</td>\n",
              "    </tr>\n",
              "    <tr>\n",
              "      <th>LungTranscriptome7239219_LungTranscriptome7239219TGCTGCTAGCAATCTC</th>\n",
              "      <td>10x_Transplant</td>\n",
              "      <td>Transplant</td>\n",
              "      <td>1919</td>\n",
              "      <td>5984</td>\n",
              "      <td>Parenchyma</td>\n",
              "      <td>0.018747</td>\n",
              "      <td>10x v2</td>\n",
              "      <td>other</td>\n",
              "      <td>0.982236</td>\n",
              "      <td>Transplant</td>\n",
              "      <td>5</td>\n",
              "      <td>Mast cell</td>\n",
              "      <td>5</td>\n",
              "    </tr>\n",
              "    <tr>\n",
              "      <th>LungTranscriptome7239213_GACTGCGTCCTGCCAT</th>\n",
              "      <td>10x_Transplant</td>\n",
              "      <td>Transplant</td>\n",
              "      <td>4411</td>\n",
              "      <td>25233</td>\n",
              "      <td>Parenchyma</td>\n",
              "      <td>0.010489</td>\n",
              "      <td>10x v2</td>\n",
              "      <td>other</td>\n",
              "      <td>1.235763</td>\n",
              "      <td>Transplant</td>\n",
              "      <td>3</td>\n",
              "      <td>Mast cell</td>\n",
              "      <td>3</td>\n",
              "    </tr>\n",
              "    <tr>\n",
              "      <th>LungTranscriptome7239218_GCTGCGACATTCACTT</th>\n",
              "      <td>10x_Transplant</td>\n",
              "      <td>Transplant</td>\n",
              "      <td>2132</td>\n",
              "      <td>7216</td>\n",
              "      <td>Parenchyma</td>\n",
              "      <td>0.013827</td>\n",
              "      <td>10x v2</td>\n",
              "      <td>other</td>\n",
              "      <td>1.025105</td>\n",
              "      <td>Transplant</td>\n",
              "      <td>6</td>\n",
              "      <td>Mast cell</td>\n",
              "      <td>6</td>\n",
              "    </tr>\n",
              "    <tr>\n",
              "      <th>LungTranscriptome7239219_LungTranscriptome7239219TTAGGACGTGACGGTA</th>\n",
              "      <td>10x_Transplant</td>\n",
              "      <td>Transplant</td>\n",
              "      <td>1886</td>\n",
              "      <td>5846</td>\n",
              "      <td>Parenchyma</td>\n",
              "      <td>0.017164</td>\n",
              "      <td>10x v2</td>\n",
              "      <td>other</td>\n",
              "      <td>0.929115</td>\n",
              "      <td>Transplant</td>\n",
              "      <td>5</td>\n",
              "      <td>Mast cell</td>\n",
              "      <td>5</td>\n",
              "    </tr>\n",
              "  </tbody>\n",
              "</table>\n",
              "<p>32472 rows × 13 columns</p>\n",
              "</div>\n",
              "    <div class=\"colab-df-buttons\">\n",
              "\n",
              "  <div class=\"colab-df-container\">\n",
              "    <button class=\"colab-df-convert\" onclick=\"convertToInteractive('df-22f80b1f-26e2-4e16-9281-052b4e961a8d')\"\n",
              "            title=\"Convert this dataframe to an interactive table.\"\n",
              "            style=\"display:none;\">\n",
              "\n",
              "  <svg xmlns=\"http://www.w3.org/2000/svg\" height=\"24px\" viewBox=\"0 -960 960 960\">\n",
              "    <path d=\"M120-120v-720h720v720H120Zm60-500h600v-160H180v160Zm220 220h160v-160H400v160Zm0 220h160v-160H400v160ZM180-400h160v-160H180v160Zm440 0h160v-160H620v160ZM180-180h160v-160H180v160Zm440 0h160v-160H620v160Z\"/>\n",
              "  </svg>\n",
              "    </button>\n",
              "\n",
              "  <style>\n",
              "    .colab-df-container {\n",
              "      display:flex;\n",
              "      gap: 12px;\n",
              "    }\n",
              "\n",
              "    .colab-df-convert {\n",
              "      background-color: #E8F0FE;\n",
              "      border: none;\n",
              "      border-radius: 50%;\n",
              "      cursor: pointer;\n",
              "      display: none;\n",
              "      fill: #1967D2;\n",
              "      height: 32px;\n",
              "      padding: 0 0 0 0;\n",
              "      width: 32px;\n",
              "    }\n",
              "\n",
              "    .colab-df-convert:hover {\n",
              "      background-color: #E2EBFA;\n",
              "      box-shadow: 0px 1px 2px rgba(60, 64, 67, 0.3), 0px 1px 3px 1px rgba(60, 64, 67, 0.15);\n",
              "      fill: #174EA6;\n",
              "    }\n",
              "\n",
              "    .colab-df-buttons div {\n",
              "      margin-bottom: 4px;\n",
              "    }\n",
              "\n",
              "    [theme=dark] .colab-df-convert {\n",
              "      background-color: #3B4455;\n",
              "      fill: #D2E3FC;\n",
              "    }\n",
              "\n",
              "    [theme=dark] .colab-df-convert:hover {\n",
              "      background-color: #434B5C;\n",
              "      box-shadow: 0px 1px 3px 1px rgba(0, 0, 0, 0.15);\n",
              "      filter: drop-shadow(0px 1px 2px rgba(0, 0, 0, 0.3));\n",
              "      fill: #FFFFFF;\n",
              "    }\n",
              "  </style>\n",
              "\n",
              "    <script>\n",
              "      const buttonEl =\n",
              "        document.querySelector('#df-22f80b1f-26e2-4e16-9281-052b4e961a8d button.colab-df-convert');\n",
              "      buttonEl.style.display =\n",
              "        google.colab.kernel.accessAllowed ? 'block' : 'none';\n",
              "\n",
              "      async function convertToInteractive(key) {\n",
              "        const element = document.querySelector('#df-22f80b1f-26e2-4e16-9281-052b4e961a8d');\n",
              "        const dataTable =\n",
              "          await google.colab.kernel.invokeFunction('convertToInteractive',\n",
              "                                                    [key], {});\n",
              "        if (!dataTable) return;\n",
              "\n",
              "        const docLinkHtml = 'Like what you see? Visit the ' +\n",
              "          '<a target=\"_blank\" href=https://colab.research.google.com/notebooks/data_table.ipynb>data table notebook</a>'\n",
              "          + ' to learn more about interactive tables.';\n",
              "        element.innerHTML = '';\n",
              "        dataTable['output_type'] = 'display_data';\n",
              "        await google.colab.output.renderOutput(dataTable, element);\n",
              "        const docLink = document.createElement('div');\n",
              "        docLink.innerHTML = docLinkHtml;\n",
              "        element.appendChild(docLink);\n",
              "      }\n",
              "    </script>\n",
              "  </div>\n",
              "\n",
              "\n",
              "    <div id=\"df-acac53b5-ad47-479c-9032-f3dcd4baa5e6\">\n",
              "      <button class=\"colab-df-quickchart\" onclick=\"quickchart('df-acac53b5-ad47-479c-9032-f3dcd4baa5e6')\"\n",
              "                title=\"Suggest charts\"\n",
              "                style=\"display:none;\">\n",
              "\n",
              "<svg xmlns=\"http://www.w3.org/2000/svg\" height=\"24px\"viewBox=\"0 0 24 24\"\n",
              "     width=\"24px\">\n",
              "    <g>\n",
              "        <path d=\"M19 3H5c-1.1 0-2 .9-2 2v14c0 1.1.9 2 2 2h14c1.1 0 2-.9 2-2V5c0-1.1-.9-2-2-2zM9 17H7v-7h2v7zm4 0h-2V7h2v10zm4 0h-2v-4h2v4z\"/>\n",
              "    </g>\n",
              "</svg>\n",
              "      </button>\n",
              "\n",
              "<style>\n",
              "  .colab-df-quickchart {\n",
              "      --bg-color: #E8F0FE;\n",
              "      --fill-color: #1967D2;\n",
              "      --hover-bg-color: #E2EBFA;\n",
              "      --hover-fill-color: #174EA6;\n",
              "      --disabled-fill-color: #AAA;\n",
              "      --disabled-bg-color: #DDD;\n",
              "  }\n",
              "\n",
              "  [theme=dark] .colab-df-quickchart {\n",
              "      --bg-color: #3B4455;\n",
              "      --fill-color: #D2E3FC;\n",
              "      --hover-bg-color: #434B5C;\n",
              "      --hover-fill-color: #FFFFFF;\n",
              "      --disabled-bg-color: #3B4455;\n",
              "      --disabled-fill-color: #666;\n",
              "  }\n",
              "\n",
              "  .colab-df-quickchart {\n",
              "    background-color: var(--bg-color);\n",
              "    border: none;\n",
              "    border-radius: 50%;\n",
              "    cursor: pointer;\n",
              "    display: none;\n",
              "    fill: var(--fill-color);\n",
              "    height: 32px;\n",
              "    padding: 0;\n",
              "    width: 32px;\n",
              "  }\n",
              "\n",
              "  .colab-df-quickchart:hover {\n",
              "    background-color: var(--hover-bg-color);\n",
              "    box-shadow: 0 1px 2px rgba(60, 64, 67, 0.3), 0 1px 3px 1px rgba(60, 64, 67, 0.15);\n",
              "    fill: var(--button-hover-fill-color);\n",
              "  }\n",
              "\n",
              "  .colab-df-quickchart-complete:disabled,\n",
              "  .colab-df-quickchart-complete:disabled:hover {\n",
              "    background-color: var(--disabled-bg-color);\n",
              "    fill: var(--disabled-fill-color);\n",
              "    box-shadow: none;\n",
              "  }\n",
              "\n",
              "  .colab-df-spinner {\n",
              "    border: 2px solid var(--fill-color);\n",
              "    border-color: transparent;\n",
              "    border-bottom-color: var(--fill-color);\n",
              "    animation:\n",
              "      spin 1s steps(1) infinite;\n",
              "  }\n",
              "\n",
              "  @keyframes spin {\n",
              "    0% {\n",
              "      border-color: transparent;\n",
              "      border-bottom-color: var(--fill-color);\n",
              "      border-left-color: var(--fill-color);\n",
              "    }\n",
              "    20% {\n",
              "      border-color: transparent;\n",
              "      border-left-color: var(--fill-color);\n",
              "      border-top-color: var(--fill-color);\n",
              "    }\n",
              "    30% {\n",
              "      border-color: transparent;\n",
              "      border-left-color: var(--fill-color);\n",
              "      border-top-color: var(--fill-color);\n",
              "      border-right-color: var(--fill-color);\n",
              "    }\n",
              "    40% {\n",
              "      border-color: transparent;\n",
              "      border-right-color: var(--fill-color);\n",
              "      border-top-color: var(--fill-color);\n",
              "    }\n",
              "    60% {\n",
              "      border-color: transparent;\n",
              "      border-right-color: var(--fill-color);\n",
              "    }\n",
              "    80% {\n",
              "      border-color: transparent;\n",
              "      border-right-color: var(--fill-color);\n",
              "      border-bottom-color: var(--fill-color);\n",
              "    }\n",
              "    90% {\n",
              "      border-color: transparent;\n",
              "      border-bottom-color: var(--fill-color);\n",
              "    }\n",
              "  }\n",
              "</style>\n",
              "\n",
              "      <script>\n",
              "        async function quickchart(key) {\n",
              "          const quickchartButtonEl =\n",
              "            document.querySelector('#' + key + ' button');\n",
              "          quickchartButtonEl.disabled = true;  // To prevent multiple clicks.\n",
              "          quickchartButtonEl.classList.add('colab-df-spinner');\n",
              "          try {\n",
              "            const charts = await google.colab.kernel.invokeFunction(\n",
              "                'suggestCharts', [key], {});\n",
              "          } catch (error) {\n",
              "            console.error('Error during call to suggestCharts:', error);\n",
              "          }\n",
              "          quickchartButtonEl.classList.remove('colab-df-spinner');\n",
              "          quickchartButtonEl.classList.add('colab-df-quickchart-complete');\n",
              "        }\n",
              "        (() => {\n",
              "          let quickchartButtonEl =\n",
              "            document.querySelector('#df-acac53b5-ad47-479c-9032-f3dcd4baa5e6 button');\n",
              "          quickchartButtonEl.style.display =\n",
              "            google.colab.kernel.accessAllowed ? 'block' : 'none';\n",
              "        })();\n",
              "      </script>\n",
              "    </div>\n",
              "\n",
              "    </div>\n",
              "  </div>\n"
            ],
            "application/vnd.google.colaboratory.intrinsic+json": {
              "type": "dataframe",
              "summary": "{\n  \"name\": \"lung_adata\",\n  \"rows\": 32472,\n  \"fields\": [\n    {\n      \"column\": \"index\",\n      \"properties\": {\n        \"dtype\": \"string\",\n        \"num_unique_values\": 32472,\n        \"samples\": [\n          \"ASK440_CGTCTCTCCATT\",\n          \"LungTranscriptome7135919_ACACCGGAGACTTTCG\",\n          \"CTTV027_RNAseq7118946_CATCCACAGAGACTTA\"\n        ],\n        \"semantic_type\": \"\",\n        \"description\": \"\"\n      }\n    },\n    {\n      \"column\": \"dataset\",\n      \"properties\": {\n        \"dtype\": \"category\",\n        \"num_unique_values\": 3,\n        \"samples\": [\n          \"Dropseq_transplant\",\n          \"10x_Biopsy\",\n          \"10x_Transplant\"\n        ],\n        \"semantic_type\": \"\",\n        \"description\": \"\"\n      }\n    },\n    {\n      \"column\": \"location\",\n      \"properties\": {\n        \"dtype\": \"category\",\n        \"num_unique_values\": 4,\n        \"samples\": [\n          \"Dropseq_resection\",\n          \"Transplant\",\n          \"Dropseq_lower\"\n        ],\n        \"semantic_type\": \"\",\n        \"description\": \"\"\n      }\n    },\n    {\n      \"column\": \"nGene\",\n      \"properties\": {\n        \"dtype\": \"number\",\n        \"std\": 1335,\n        \"min\": 201,\n        \"max\": 7006,\n        \"num_unique_values\": 5172,\n        \"samples\": [\n          3212,\n          3298,\n          1852\n        ],\n        \"semantic_type\": \"\",\n        \"description\": \"\"\n      }\n    },\n    {\n      \"column\": \"nUMI\",\n      \"properties\": {\n        \"dtype\": \"number\",\n        \"std\": 6359,\n        \"min\": 211,\n        \"max\": 29976,\n        \"num_unique_values\": 14566,\n        \"samples\": [\n          1168,\n          29649,\n          24831\n        ],\n        \"semantic_type\": \"\",\n        \"description\": \"\"\n      }\n    },\n    {\n      \"column\": \"patientGroup\",\n      \"properties\": {\n        \"dtype\": \"category\",\n        \"num_unique_values\": 3,\n        \"samples\": [\n          \"nan\",\n          \"Ctrl\",\n          \"Parenchyma\"\n        ],\n        \"semantic_type\": \"\",\n        \"description\": \"\"\n      }\n    },\n    {\n      \"column\": \"percent.mito\",\n      \"properties\": {\n        \"dtype\": \"number\",\n        \"std\": 0.02118323341160072,\n        \"min\": 0.0,\n        \"max\": 0.19892473118279602,\n        \"num_unique_values\": 29785,\n        \"samples\": [\n          0.008745608,\n          0.01128642,\n          0.01267242\n        ],\n        \"semantic_type\": \"\",\n        \"description\": \"\"\n      }\n    },\n    {\n      \"column\": \"protocol\",\n      \"properties\": {\n        \"dtype\": \"category\",\n        \"num_unique_values\": 2,\n        \"samples\": [\n          \"10x v2\",\n          \"drop-seq\"\n        ],\n        \"semantic_type\": \"\",\n        \"description\": \"\"\n      }\n    },\n    {\n      \"column\": \"sanger_type\",\n      \"properties\": {\n        \"dtype\": \"category\",\n        \"num_unique_values\": 3,\n        \"samples\": [\n          \"drop-seq\",\n          \"epithelial\"\n        ],\n        \"semantic_type\": \"\",\n        \"description\": \"\"\n      }\n    },\n    {\n      \"column\": \"size_factors\",\n      \"properties\": {\n        \"dtype\": \"number\",\n        \"std\": 0.6083265471371895,\n        \"min\": 0.08223642871393755,\n        \"max\": 16.507238531694686,\n        \"num_unique_values\": 32472,\n        \"samples\": [\n          0.3219633894897797,\n          1.0006848071504115\n        ],\n        \"semantic_type\": \"\",\n        \"description\": \"\"\n      }\n    },\n    {\n      \"column\": \"sampling_method\",\n      \"properties\": {\n        \"dtype\": \"category\",\n        \"num_unique_values\": 2,\n        \"samples\": [\n          \"Biopsy\",\n          \"Transplant\"\n        ],\n        \"semantic_type\": \"\",\n        \"description\": \"\"\n      }\n    },\n    {\n      \"column\": \"batch\",\n      \"properties\": {\n        \"dtype\": \"category\",\n        \"num_unique_values\": 16,\n        \"samples\": [\n          \"B1\",\n          \"B2\"\n        ],\n        \"semantic_type\": \"\",\n        \"description\": \"\"\n      }\n    },\n    {\n      \"column\": \"cell_type\",\n      \"properties\": {\n        \"dtype\": \"category\",\n        \"num_unique_values\": 17,\n        \"samples\": [\n          \"Type 2\",\n          \"Secretory\"\n        ],\n        \"semantic_type\": \"\",\n        \"description\": \"\"\n      }\n    },\n    {\n      \"column\": \"donor\",\n      \"properties\": {\n        \"dtype\": \"category\",\n        \"num_unique_values\": 16,\n        \"samples\": [\n          \"B1\",\n          \"B2\"\n        ],\n        \"semantic_type\": \"\",\n        \"description\": \"\"\n      }\n    }\n  ]\n}"
            }
          },
          "metadata": {},
          "execution_count": 150
        }
      ]
    },
    {
      "cell_type": "code",
      "source": [
        "pancreas_adata_path = \"./pancreas.h5ad\"\n",
        "\n",
        "pancreas_adata = sc.read(\n",
        "    pancreas_adata_path,\n",
        "    backup_url=\"https://figshare.com/ndownloader/files/24539828\",\n",
        ")\n",
        "pancreas_adata"
      ],
      "metadata": {
        "colab": {
          "base_uri": "https://localhost:8080/"
        },
        "id": "ZiVoukakfyLi",
        "outputId": "2bbf4f2e-7700-47b8-885c-80ffcac3f222"
      },
      "execution_count": 151,
      "outputs": [
        {
          "output_type": "execute_result",
          "data": {
            "text/plain": [
              "AnnData object with n_obs × n_vars = 16382 × 19093\n",
              "    obs: 'tech', 'celltype', 'size_factors'\n",
              "    layers: 'counts'"
            ]
          },
          "metadata": {},
          "execution_count": 151
        }
      ]
    },
    {
      "cell_type": "code",
      "source": [
        "pancreas_adata.obs"
      ],
      "metadata": {
        "id": "rYgJCZgJxc4A",
        "outputId": "0ece834c-69df-4953-be57-30842edc6e7d",
        "colab": {
          "base_uri": "https://localhost:8080/",
          "height": 419
        }
      },
      "execution_count": 152,
      "outputs": [
        {
          "output_type": "execute_result",
          "data": {
            "text/plain": [
              "                tech celltype  size_factors\n",
              "D101_5        celseq    gamma      0.028492\n",
              "D101_43       celseq    gamma      0.079348\n",
              "D101_93       celseq    gamma      0.037932\n",
              "D102_4        celseq    gamma      0.047685\n",
              "D172444_23    celseq    gamma      0.038683\n",
              "...              ...      ...           ...\n",
              "Sample_1594  smarter    gamma      1.000000\n",
              "Sample_1595  smarter    gamma      1.000000\n",
              "Sample_1597  smarter    gamma      1.000000\n",
              "Sample_1598  smarter    gamma      1.000000\n",
              "Sample_1600  smarter    gamma      1.000000\n",
              "\n",
              "[16382 rows x 3 columns]"
            ],
            "text/html": [
              "\n",
              "  <div id=\"df-68a21ff0-71cf-4281-ac19-691992c5fa6a\" class=\"colab-df-container\">\n",
              "    <div>\n",
              "<style scoped>\n",
              "    .dataframe tbody tr th:only-of-type {\n",
              "        vertical-align: middle;\n",
              "    }\n",
              "\n",
              "    .dataframe tbody tr th {\n",
              "        vertical-align: top;\n",
              "    }\n",
              "\n",
              "    .dataframe thead th {\n",
              "        text-align: right;\n",
              "    }\n",
              "</style>\n",
              "<table border=\"1\" class=\"dataframe\">\n",
              "  <thead>\n",
              "    <tr style=\"text-align: right;\">\n",
              "      <th></th>\n",
              "      <th>tech</th>\n",
              "      <th>celltype</th>\n",
              "      <th>size_factors</th>\n",
              "    </tr>\n",
              "  </thead>\n",
              "  <tbody>\n",
              "    <tr>\n",
              "      <th>D101_5</th>\n",
              "      <td>celseq</td>\n",
              "      <td>gamma</td>\n",
              "      <td>0.028492</td>\n",
              "    </tr>\n",
              "    <tr>\n",
              "      <th>D101_43</th>\n",
              "      <td>celseq</td>\n",
              "      <td>gamma</td>\n",
              "      <td>0.079348</td>\n",
              "    </tr>\n",
              "    <tr>\n",
              "      <th>D101_93</th>\n",
              "      <td>celseq</td>\n",
              "      <td>gamma</td>\n",
              "      <td>0.037932</td>\n",
              "    </tr>\n",
              "    <tr>\n",
              "      <th>D102_4</th>\n",
              "      <td>celseq</td>\n",
              "      <td>gamma</td>\n",
              "      <td>0.047685</td>\n",
              "    </tr>\n",
              "    <tr>\n",
              "      <th>D172444_23</th>\n",
              "      <td>celseq</td>\n",
              "      <td>gamma</td>\n",
              "      <td>0.038683</td>\n",
              "    </tr>\n",
              "    <tr>\n",
              "      <th>...</th>\n",
              "      <td>...</td>\n",
              "      <td>...</td>\n",
              "      <td>...</td>\n",
              "    </tr>\n",
              "    <tr>\n",
              "      <th>Sample_1594</th>\n",
              "      <td>smarter</td>\n",
              "      <td>gamma</td>\n",
              "      <td>1.000000</td>\n",
              "    </tr>\n",
              "    <tr>\n",
              "      <th>Sample_1595</th>\n",
              "      <td>smarter</td>\n",
              "      <td>gamma</td>\n",
              "      <td>1.000000</td>\n",
              "    </tr>\n",
              "    <tr>\n",
              "      <th>Sample_1597</th>\n",
              "      <td>smarter</td>\n",
              "      <td>gamma</td>\n",
              "      <td>1.000000</td>\n",
              "    </tr>\n",
              "    <tr>\n",
              "      <th>Sample_1598</th>\n",
              "      <td>smarter</td>\n",
              "      <td>gamma</td>\n",
              "      <td>1.000000</td>\n",
              "    </tr>\n",
              "    <tr>\n",
              "      <th>Sample_1600</th>\n",
              "      <td>smarter</td>\n",
              "      <td>gamma</td>\n",
              "      <td>1.000000</td>\n",
              "    </tr>\n",
              "  </tbody>\n",
              "</table>\n",
              "<p>16382 rows × 3 columns</p>\n",
              "</div>\n",
              "    <div class=\"colab-df-buttons\">\n",
              "\n",
              "  <div class=\"colab-df-container\">\n",
              "    <button class=\"colab-df-convert\" onclick=\"convertToInteractive('df-68a21ff0-71cf-4281-ac19-691992c5fa6a')\"\n",
              "            title=\"Convert this dataframe to an interactive table.\"\n",
              "            style=\"display:none;\">\n",
              "\n",
              "  <svg xmlns=\"http://www.w3.org/2000/svg\" height=\"24px\" viewBox=\"0 -960 960 960\">\n",
              "    <path d=\"M120-120v-720h720v720H120Zm60-500h600v-160H180v160Zm220 220h160v-160H400v160Zm0 220h160v-160H400v160ZM180-400h160v-160H180v160Zm440 0h160v-160H620v160ZM180-180h160v-160H180v160Zm440 0h160v-160H620v160Z\"/>\n",
              "  </svg>\n",
              "    </button>\n",
              "\n",
              "  <style>\n",
              "    .colab-df-container {\n",
              "      display:flex;\n",
              "      gap: 12px;\n",
              "    }\n",
              "\n",
              "    .colab-df-convert {\n",
              "      background-color: #E8F0FE;\n",
              "      border: none;\n",
              "      border-radius: 50%;\n",
              "      cursor: pointer;\n",
              "      display: none;\n",
              "      fill: #1967D2;\n",
              "      height: 32px;\n",
              "      padding: 0 0 0 0;\n",
              "      width: 32px;\n",
              "    }\n",
              "\n",
              "    .colab-df-convert:hover {\n",
              "      background-color: #E2EBFA;\n",
              "      box-shadow: 0px 1px 2px rgba(60, 64, 67, 0.3), 0px 1px 3px 1px rgba(60, 64, 67, 0.15);\n",
              "      fill: #174EA6;\n",
              "    }\n",
              "\n",
              "    .colab-df-buttons div {\n",
              "      margin-bottom: 4px;\n",
              "    }\n",
              "\n",
              "    [theme=dark] .colab-df-convert {\n",
              "      background-color: #3B4455;\n",
              "      fill: #D2E3FC;\n",
              "    }\n",
              "\n",
              "    [theme=dark] .colab-df-convert:hover {\n",
              "      background-color: #434B5C;\n",
              "      box-shadow: 0px 1px 3px 1px rgba(0, 0, 0, 0.15);\n",
              "      filter: drop-shadow(0px 1px 2px rgba(0, 0, 0, 0.3));\n",
              "      fill: #FFFFFF;\n",
              "    }\n",
              "  </style>\n",
              "\n",
              "    <script>\n",
              "      const buttonEl =\n",
              "        document.querySelector('#df-68a21ff0-71cf-4281-ac19-691992c5fa6a button.colab-df-convert');\n",
              "      buttonEl.style.display =\n",
              "        google.colab.kernel.accessAllowed ? 'block' : 'none';\n",
              "\n",
              "      async function convertToInteractive(key) {\n",
              "        const element = document.querySelector('#df-68a21ff0-71cf-4281-ac19-691992c5fa6a');\n",
              "        const dataTable =\n",
              "          await google.colab.kernel.invokeFunction('convertToInteractive',\n",
              "                                                    [key], {});\n",
              "        if (!dataTable) return;\n",
              "\n",
              "        const docLinkHtml = 'Like what you see? Visit the ' +\n",
              "          '<a target=\"_blank\" href=https://colab.research.google.com/notebooks/data_table.ipynb>data table notebook</a>'\n",
              "          + ' to learn more about interactive tables.';\n",
              "        element.innerHTML = '';\n",
              "        dataTable['output_type'] = 'display_data';\n",
              "        await google.colab.output.renderOutput(dataTable, element);\n",
              "        const docLink = document.createElement('div');\n",
              "        docLink.innerHTML = docLinkHtml;\n",
              "        element.appendChild(docLink);\n",
              "      }\n",
              "    </script>\n",
              "  </div>\n",
              "\n",
              "\n",
              "    <div id=\"df-32af3639-65bd-4496-b6a8-5da6673da9b0\">\n",
              "      <button class=\"colab-df-quickchart\" onclick=\"quickchart('df-32af3639-65bd-4496-b6a8-5da6673da9b0')\"\n",
              "                title=\"Suggest charts\"\n",
              "                style=\"display:none;\">\n",
              "\n",
              "<svg xmlns=\"http://www.w3.org/2000/svg\" height=\"24px\"viewBox=\"0 0 24 24\"\n",
              "     width=\"24px\">\n",
              "    <g>\n",
              "        <path d=\"M19 3H5c-1.1 0-2 .9-2 2v14c0 1.1.9 2 2 2h14c1.1 0 2-.9 2-2V5c0-1.1-.9-2-2-2zM9 17H7v-7h2v7zm4 0h-2V7h2v10zm4 0h-2v-4h2v4z\"/>\n",
              "    </g>\n",
              "</svg>\n",
              "      </button>\n",
              "\n",
              "<style>\n",
              "  .colab-df-quickchart {\n",
              "      --bg-color: #E8F0FE;\n",
              "      --fill-color: #1967D2;\n",
              "      --hover-bg-color: #E2EBFA;\n",
              "      --hover-fill-color: #174EA6;\n",
              "      --disabled-fill-color: #AAA;\n",
              "      --disabled-bg-color: #DDD;\n",
              "  }\n",
              "\n",
              "  [theme=dark] .colab-df-quickchart {\n",
              "      --bg-color: #3B4455;\n",
              "      --fill-color: #D2E3FC;\n",
              "      --hover-bg-color: #434B5C;\n",
              "      --hover-fill-color: #FFFFFF;\n",
              "      --disabled-bg-color: #3B4455;\n",
              "      --disabled-fill-color: #666;\n",
              "  }\n",
              "\n",
              "  .colab-df-quickchart {\n",
              "    background-color: var(--bg-color);\n",
              "    border: none;\n",
              "    border-radius: 50%;\n",
              "    cursor: pointer;\n",
              "    display: none;\n",
              "    fill: var(--fill-color);\n",
              "    height: 32px;\n",
              "    padding: 0;\n",
              "    width: 32px;\n",
              "  }\n",
              "\n",
              "  .colab-df-quickchart:hover {\n",
              "    background-color: var(--hover-bg-color);\n",
              "    box-shadow: 0 1px 2px rgba(60, 64, 67, 0.3), 0 1px 3px 1px rgba(60, 64, 67, 0.15);\n",
              "    fill: var(--button-hover-fill-color);\n",
              "  }\n",
              "\n",
              "  .colab-df-quickchart-complete:disabled,\n",
              "  .colab-df-quickchart-complete:disabled:hover {\n",
              "    background-color: var(--disabled-bg-color);\n",
              "    fill: var(--disabled-fill-color);\n",
              "    box-shadow: none;\n",
              "  }\n",
              "\n",
              "  .colab-df-spinner {\n",
              "    border: 2px solid var(--fill-color);\n",
              "    border-color: transparent;\n",
              "    border-bottom-color: var(--fill-color);\n",
              "    animation:\n",
              "      spin 1s steps(1) infinite;\n",
              "  }\n",
              "\n",
              "  @keyframes spin {\n",
              "    0% {\n",
              "      border-color: transparent;\n",
              "      border-bottom-color: var(--fill-color);\n",
              "      border-left-color: var(--fill-color);\n",
              "    }\n",
              "    20% {\n",
              "      border-color: transparent;\n",
              "      border-left-color: var(--fill-color);\n",
              "      border-top-color: var(--fill-color);\n",
              "    }\n",
              "    30% {\n",
              "      border-color: transparent;\n",
              "      border-left-color: var(--fill-color);\n",
              "      border-top-color: var(--fill-color);\n",
              "      border-right-color: var(--fill-color);\n",
              "    }\n",
              "    40% {\n",
              "      border-color: transparent;\n",
              "      border-right-color: var(--fill-color);\n",
              "      border-top-color: var(--fill-color);\n",
              "    }\n",
              "    60% {\n",
              "      border-color: transparent;\n",
              "      border-right-color: var(--fill-color);\n",
              "    }\n",
              "    80% {\n",
              "      border-color: transparent;\n",
              "      border-right-color: var(--fill-color);\n",
              "      border-bottom-color: var(--fill-color);\n",
              "    }\n",
              "    90% {\n",
              "      border-color: transparent;\n",
              "      border-bottom-color: var(--fill-color);\n",
              "    }\n",
              "  }\n",
              "</style>\n",
              "\n",
              "      <script>\n",
              "        async function quickchart(key) {\n",
              "          const quickchartButtonEl =\n",
              "            document.querySelector('#' + key + ' button');\n",
              "          quickchartButtonEl.disabled = true;  // To prevent multiple clicks.\n",
              "          quickchartButtonEl.classList.add('colab-df-spinner');\n",
              "          try {\n",
              "            const charts = await google.colab.kernel.invokeFunction(\n",
              "                'suggestCharts', [key], {});\n",
              "          } catch (error) {\n",
              "            console.error('Error during call to suggestCharts:', error);\n",
              "          }\n",
              "          quickchartButtonEl.classList.remove('colab-df-spinner');\n",
              "          quickchartButtonEl.classList.add('colab-df-quickchart-complete');\n",
              "        }\n",
              "        (() => {\n",
              "          let quickchartButtonEl =\n",
              "            document.querySelector('#df-32af3639-65bd-4496-b6a8-5da6673da9b0 button');\n",
              "          quickchartButtonEl.style.display =\n",
              "            google.colab.kernel.accessAllowed ? 'block' : 'none';\n",
              "        })();\n",
              "      </script>\n",
              "    </div>\n",
              "\n",
              "    </div>\n",
              "  </div>\n"
            ],
            "application/vnd.google.colaboratory.intrinsic+json": {
              "type": "dataframe",
              "summary": "{\n  \"name\": \"pancreas_adata\",\n  \"rows\": 16382,\n  \"fields\": [\n    {\n      \"column\": \"tech\",\n      \"properties\": {\n        \"dtype\": \"category\",\n        \"num_unique_values\": 9,\n        \"samples\": [\n          \"inDrop4\",\n          \"celseq2\",\n          \"inDrop2\"\n        ],\n        \"semantic_type\": \"\",\n        \"description\": \"\"\n      }\n    },\n    {\n      \"column\": \"celltype\",\n      \"properties\": {\n        \"dtype\": \"category\",\n        \"num_unique_values\": 14,\n        \"samples\": [\n          \"mast\",\n          \"epsilon\",\n          \"gamma\"\n        ],\n        \"semantic_type\": \"\",\n        \"description\": \"\"\n      }\n    },\n    {\n      \"column\": \"size_factors\",\n      \"properties\": {\n        \"dtype\": \"number\",\n        \"std\": 2.6483117580992164,\n        \"min\": 0.00668105726348666,\n        \"max\": 39.73882116876947,\n        \"num_unique_values\": 14891,\n        \"samples\": [\n          0.024325845766597683,\n          0.06296333161085237,\n          0.9912141584706049\n        ],\n        \"semantic_type\": \"\",\n        \"description\": \"\"\n      }\n    }\n  ]\n}"
            }
          },
          "metadata": {},
          "execution_count": 152
        }
      ]
    },
    {
      "cell_type": "code",
      "source": [
        "adata_pbmc3k = sc.datasets.pbmc3k_processed()\n",
        "adata_pbmc3k"
      ],
      "metadata": {
        "colab": {
          "base_uri": "https://localhost:8080/"
        },
        "id": "78jP52W_f1h1",
        "outputId": "32777132-9fbf-4d4f-e042-cef1a5834d7d"
      },
      "execution_count": 153,
      "outputs": [
        {
          "output_type": "execute_result",
          "data": {
            "text/plain": [
              "AnnData object with n_obs × n_vars = 2638 × 1838\n",
              "    obs: 'n_genes', 'percent_mito', 'n_counts', 'louvain'\n",
              "    var: 'n_cells'\n",
              "    uns: 'draw_graph', 'louvain', 'louvain_colors', 'neighbors', 'pca', 'rank_genes_groups'\n",
              "    obsm: 'X_pca', 'X_tsne', 'X_umap', 'X_draw_graph_fr'\n",
              "    varm: 'PCs'\n",
              "    obsp: 'distances', 'connectivities'"
            ]
          },
          "metadata": {},
          "execution_count": 153
        }
      ]
    },
    {
      "cell_type": "code",
      "source": [
        "adata_pbmc3k.obs"
      ],
      "metadata": {
        "id": "xdNJSNBsxe0f",
        "outputId": "f25f4a5b-9b8f-47a3-eb4d-1c72b2e83c36",
        "colab": {
          "base_uri": "https://localhost:8080/",
          "height": 450
        }
      },
      "execution_count": 154,
      "outputs": [
        {
          "output_type": "execute_result",
          "data": {
            "text/plain": [
              "                  n_genes  percent_mito  n_counts          louvain\n",
              "index                                                             \n",
              "AAACATACAACCAC-1      781      0.030178    2419.0      CD4 T cells\n",
              "AAACATTGAGCTAC-1     1352      0.037936    4903.0          B cells\n",
              "AAACATTGATCAGC-1     1131      0.008897    3147.0      CD4 T cells\n",
              "AAACCGTGCTTCCG-1      960      0.017431    2639.0  CD14+ Monocytes\n",
              "AAACCGTGTATGCG-1      522      0.012245     980.0         NK cells\n",
              "...                   ...           ...       ...              ...\n",
              "TTTCGAACTCTCAT-1     1155      0.021104    3459.0  CD14+ Monocytes\n",
              "TTTCTACTGAGGCA-1     1227      0.009294    3443.0          B cells\n",
              "TTTCTACTTCCTCG-1      622      0.021971    1684.0          B cells\n",
              "TTTGCATGAGAGGC-1      454      0.020548    1022.0          B cells\n",
              "TTTGCATGCCTCAC-1      724      0.008065    1984.0      CD4 T cells\n",
              "\n",
              "[2638 rows x 4 columns]"
            ],
            "text/html": [
              "\n",
              "  <div id=\"df-10fc5a54-eea2-4a08-9ea4-a0bfda25bbbf\" class=\"colab-df-container\">\n",
              "    <div>\n",
              "<style scoped>\n",
              "    .dataframe tbody tr th:only-of-type {\n",
              "        vertical-align: middle;\n",
              "    }\n",
              "\n",
              "    .dataframe tbody tr th {\n",
              "        vertical-align: top;\n",
              "    }\n",
              "\n",
              "    .dataframe thead th {\n",
              "        text-align: right;\n",
              "    }\n",
              "</style>\n",
              "<table border=\"1\" class=\"dataframe\">\n",
              "  <thead>\n",
              "    <tr style=\"text-align: right;\">\n",
              "      <th></th>\n",
              "      <th>n_genes</th>\n",
              "      <th>percent_mito</th>\n",
              "      <th>n_counts</th>\n",
              "      <th>louvain</th>\n",
              "    </tr>\n",
              "    <tr>\n",
              "      <th>index</th>\n",
              "      <th></th>\n",
              "      <th></th>\n",
              "      <th></th>\n",
              "      <th></th>\n",
              "    </tr>\n",
              "  </thead>\n",
              "  <tbody>\n",
              "    <tr>\n",
              "      <th>AAACATACAACCAC-1</th>\n",
              "      <td>781</td>\n",
              "      <td>0.030178</td>\n",
              "      <td>2419.0</td>\n",
              "      <td>CD4 T cells</td>\n",
              "    </tr>\n",
              "    <tr>\n",
              "      <th>AAACATTGAGCTAC-1</th>\n",
              "      <td>1352</td>\n",
              "      <td>0.037936</td>\n",
              "      <td>4903.0</td>\n",
              "      <td>B cells</td>\n",
              "    </tr>\n",
              "    <tr>\n",
              "      <th>AAACATTGATCAGC-1</th>\n",
              "      <td>1131</td>\n",
              "      <td>0.008897</td>\n",
              "      <td>3147.0</td>\n",
              "      <td>CD4 T cells</td>\n",
              "    </tr>\n",
              "    <tr>\n",
              "      <th>AAACCGTGCTTCCG-1</th>\n",
              "      <td>960</td>\n",
              "      <td>0.017431</td>\n",
              "      <td>2639.0</td>\n",
              "      <td>CD14+ Monocytes</td>\n",
              "    </tr>\n",
              "    <tr>\n",
              "      <th>AAACCGTGTATGCG-1</th>\n",
              "      <td>522</td>\n",
              "      <td>0.012245</td>\n",
              "      <td>980.0</td>\n",
              "      <td>NK cells</td>\n",
              "    </tr>\n",
              "    <tr>\n",
              "      <th>...</th>\n",
              "      <td>...</td>\n",
              "      <td>...</td>\n",
              "      <td>...</td>\n",
              "      <td>...</td>\n",
              "    </tr>\n",
              "    <tr>\n",
              "      <th>TTTCGAACTCTCAT-1</th>\n",
              "      <td>1155</td>\n",
              "      <td>0.021104</td>\n",
              "      <td>3459.0</td>\n",
              "      <td>CD14+ Monocytes</td>\n",
              "    </tr>\n",
              "    <tr>\n",
              "      <th>TTTCTACTGAGGCA-1</th>\n",
              "      <td>1227</td>\n",
              "      <td>0.009294</td>\n",
              "      <td>3443.0</td>\n",
              "      <td>B cells</td>\n",
              "    </tr>\n",
              "    <tr>\n",
              "      <th>TTTCTACTTCCTCG-1</th>\n",
              "      <td>622</td>\n",
              "      <td>0.021971</td>\n",
              "      <td>1684.0</td>\n",
              "      <td>B cells</td>\n",
              "    </tr>\n",
              "    <tr>\n",
              "      <th>TTTGCATGAGAGGC-1</th>\n",
              "      <td>454</td>\n",
              "      <td>0.020548</td>\n",
              "      <td>1022.0</td>\n",
              "      <td>B cells</td>\n",
              "    </tr>\n",
              "    <tr>\n",
              "      <th>TTTGCATGCCTCAC-1</th>\n",
              "      <td>724</td>\n",
              "      <td>0.008065</td>\n",
              "      <td>1984.0</td>\n",
              "      <td>CD4 T cells</td>\n",
              "    </tr>\n",
              "  </tbody>\n",
              "</table>\n",
              "<p>2638 rows × 4 columns</p>\n",
              "</div>\n",
              "    <div class=\"colab-df-buttons\">\n",
              "\n",
              "  <div class=\"colab-df-container\">\n",
              "    <button class=\"colab-df-convert\" onclick=\"convertToInteractive('df-10fc5a54-eea2-4a08-9ea4-a0bfda25bbbf')\"\n",
              "            title=\"Convert this dataframe to an interactive table.\"\n",
              "            style=\"display:none;\">\n",
              "\n",
              "  <svg xmlns=\"http://www.w3.org/2000/svg\" height=\"24px\" viewBox=\"0 -960 960 960\">\n",
              "    <path d=\"M120-120v-720h720v720H120Zm60-500h600v-160H180v160Zm220 220h160v-160H400v160Zm0 220h160v-160H400v160ZM180-400h160v-160H180v160Zm440 0h160v-160H620v160ZM180-180h160v-160H180v160Zm440 0h160v-160H620v160Z\"/>\n",
              "  </svg>\n",
              "    </button>\n",
              "\n",
              "  <style>\n",
              "    .colab-df-container {\n",
              "      display:flex;\n",
              "      gap: 12px;\n",
              "    }\n",
              "\n",
              "    .colab-df-convert {\n",
              "      background-color: #E8F0FE;\n",
              "      border: none;\n",
              "      border-radius: 50%;\n",
              "      cursor: pointer;\n",
              "      display: none;\n",
              "      fill: #1967D2;\n",
              "      height: 32px;\n",
              "      padding: 0 0 0 0;\n",
              "      width: 32px;\n",
              "    }\n",
              "\n",
              "    .colab-df-convert:hover {\n",
              "      background-color: #E2EBFA;\n",
              "      box-shadow: 0px 1px 2px rgba(60, 64, 67, 0.3), 0px 1px 3px 1px rgba(60, 64, 67, 0.15);\n",
              "      fill: #174EA6;\n",
              "    }\n",
              "\n",
              "    .colab-df-buttons div {\n",
              "      margin-bottom: 4px;\n",
              "    }\n",
              "\n",
              "    [theme=dark] .colab-df-convert {\n",
              "      background-color: #3B4455;\n",
              "      fill: #D2E3FC;\n",
              "    }\n",
              "\n",
              "    [theme=dark] .colab-df-convert:hover {\n",
              "      background-color: #434B5C;\n",
              "      box-shadow: 0px 1px 3px 1px rgba(0, 0, 0, 0.15);\n",
              "      filter: drop-shadow(0px 1px 2px rgba(0, 0, 0, 0.3));\n",
              "      fill: #FFFFFF;\n",
              "    }\n",
              "  </style>\n",
              "\n",
              "    <script>\n",
              "      const buttonEl =\n",
              "        document.querySelector('#df-10fc5a54-eea2-4a08-9ea4-a0bfda25bbbf button.colab-df-convert');\n",
              "      buttonEl.style.display =\n",
              "        google.colab.kernel.accessAllowed ? 'block' : 'none';\n",
              "\n",
              "      async function convertToInteractive(key) {\n",
              "        const element = document.querySelector('#df-10fc5a54-eea2-4a08-9ea4-a0bfda25bbbf');\n",
              "        const dataTable =\n",
              "          await google.colab.kernel.invokeFunction('convertToInteractive',\n",
              "                                                    [key], {});\n",
              "        if (!dataTable) return;\n",
              "\n",
              "        const docLinkHtml = 'Like what you see? Visit the ' +\n",
              "          '<a target=\"_blank\" href=https://colab.research.google.com/notebooks/data_table.ipynb>data table notebook</a>'\n",
              "          + ' to learn more about interactive tables.';\n",
              "        element.innerHTML = '';\n",
              "        dataTable['output_type'] = 'display_data';\n",
              "        await google.colab.output.renderOutput(dataTable, element);\n",
              "        const docLink = document.createElement('div');\n",
              "        docLink.innerHTML = docLinkHtml;\n",
              "        element.appendChild(docLink);\n",
              "      }\n",
              "    </script>\n",
              "  </div>\n",
              "\n",
              "\n",
              "    <div id=\"df-35f018ba-8954-4cda-97dc-40a5a479221e\">\n",
              "      <button class=\"colab-df-quickchart\" onclick=\"quickchart('df-35f018ba-8954-4cda-97dc-40a5a479221e')\"\n",
              "                title=\"Suggest charts\"\n",
              "                style=\"display:none;\">\n",
              "\n",
              "<svg xmlns=\"http://www.w3.org/2000/svg\" height=\"24px\"viewBox=\"0 0 24 24\"\n",
              "     width=\"24px\">\n",
              "    <g>\n",
              "        <path d=\"M19 3H5c-1.1 0-2 .9-2 2v14c0 1.1.9 2 2 2h14c1.1 0 2-.9 2-2V5c0-1.1-.9-2-2-2zM9 17H7v-7h2v7zm4 0h-2V7h2v10zm4 0h-2v-4h2v4z\"/>\n",
              "    </g>\n",
              "</svg>\n",
              "      </button>\n",
              "\n",
              "<style>\n",
              "  .colab-df-quickchart {\n",
              "      --bg-color: #E8F0FE;\n",
              "      --fill-color: #1967D2;\n",
              "      --hover-bg-color: #E2EBFA;\n",
              "      --hover-fill-color: #174EA6;\n",
              "      --disabled-fill-color: #AAA;\n",
              "      --disabled-bg-color: #DDD;\n",
              "  }\n",
              "\n",
              "  [theme=dark] .colab-df-quickchart {\n",
              "      --bg-color: #3B4455;\n",
              "      --fill-color: #D2E3FC;\n",
              "      --hover-bg-color: #434B5C;\n",
              "      --hover-fill-color: #FFFFFF;\n",
              "      --disabled-bg-color: #3B4455;\n",
              "      --disabled-fill-color: #666;\n",
              "  }\n",
              "\n",
              "  .colab-df-quickchart {\n",
              "    background-color: var(--bg-color);\n",
              "    border: none;\n",
              "    border-radius: 50%;\n",
              "    cursor: pointer;\n",
              "    display: none;\n",
              "    fill: var(--fill-color);\n",
              "    height: 32px;\n",
              "    padding: 0;\n",
              "    width: 32px;\n",
              "  }\n",
              "\n",
              "  .colab-df-quickchart:hover {\n",
              "    background-color: var(--hover-bg-color);\n",
              "    box-shadow: 0 1px 2px rgba(60, 64, 67, 0.3), 0 1px 3px 1px rgba(60, 64, 67, 0.15);\n",
              "    fill: var(--button-hover-fill-color);\n",
              "  }\n",
              "\n",
              "  .colab-df-quickchart-complete:disabled,\n",
              "  .colab-df-quickchart-complete:disabled:hover {\n",
              "    background-color: var(--disabled-bg-color);\n",
              "    fill: var(--disabled-fill-color);\n",
              "    box-shadow: none;\n",
              "  }\n",
              "\n",
              "  .colab-df-spinner {\n",
              "    border: 2px solid var(--fill-color);\n",
              "    border-color: transparent;\n",
              "    border-bottom-color: var(--fill-color);\n",
              "    animation:\n",
              "      spin 1s steps(1) infinite;\n",
              "  }\n",
              "\n",
              "  @keyframes spin {\n",
              "    0% {\n",
              "      border-color: transparent;\n",
              "      border-bottom-color: var(--fill-color);\n",
              "      border-left-color: var(--fill-color);\n",
              "    }\n",
              "    20% {\n",
              "      border-color: transparent;\n",
              "      border-left-color: var(--fill-color);\n",
              "      border-top-color: var(--fill-color);\n",
              "    }\n",
              "    30% {\n",
              "      border-color: transparent;\n",
              "      border-left-color: var(--fill-color);\n",
              "      border-top-color: var(--fill-color);\n",
              "      border-right-color: var(--fill-color);\n",
              "    }\n",
              "    40% {\n",
              "      border-color: transparent;\n",
              "      border-right-color: var(--fill-color);\n",
              "      border-top-color: var(--fill-color);\n",
              "    }\n",
              "    60% {\n",
              "      border-color: transparent;\n",
              "      border-right-color: var(--fill-color);\n",
              "    }\n",
              "    80% {\n",
              "      border-color: transparent;\n",
              "      border-right-color: var(--fill-color);\n",
              "      border-bottom-color: var(--fill-color);\n",
              "    }\n",
              "    90% {\n",
              "      border-color: transparent;\n",
              "      border-bottom-color: var(--fill-color);\n",
              "    }\n",
              "  }\n",
              "</style>\n",
              "\n",
              "      <script>\n",
              "        async function quickchart(key) {\n",
              "          const quickchartButtonEl =\n",
              "            document.querySelector('#' + key + ' button');\n",
              "          quickchartButtonEl.disabled = true;  // To prevent multiple clicks.\n",
              "          quickchartButtonEl.classList.add('colab-df-spinner');\n",
              "          try {\n",
              "            const charts = await google.colab.kernel.invokeFunction(\n",
              "                'suggestCharts', [key], {});\n",
              "          } catch (error) {\n",
              "            console.error('Error during call to suggestCharts:', error);\n",
              "          }\n",
              "          quickchartButtonEl.classList.remove('colab-df-spinner');\n",
              "          quickchartButtonEl.classList.add('colab-df-quickchart-complete');\n",
              "        }\n",
              "        (() => {\n",
              "          let quickchartButtonEl =\n",
              "            document.querySelector('#df-35f018ba-8954-4cda-97dc-40a5a479221e button');\n",
              "          quickchartButtonEl.style.display =\n",
              "            google.colab.kernel.accessAllowed ? 'block' : 'none';\n",
              "        })();\n",
              "      </script>\n",
              "    </div>\n",
              "\n",
              "    </div>\n",
              "  </div>\n"
            ],
            "application/vnd.google.colaboratory.intrinsic+json": {
              "type": "dataframe",
              "summary": "{\n  \"name\": \"adata_pbmc3k\",\n  \"rows\": 2638,\n  \"fields\": [\n    {\n      \"column\": \"index\",\n      \"properties\": {\n        \"dtype\": \"string\",\n        \"num_unique_values\": 2638,\n        \"samples\": [\n          \"GAGGGAACACCAGT-1\",\n          \"CCTAAACTTTCGTT-1\",\n          \"TGATACCTGTTGGT-1\"\n        ],\n        \"semantic_type\": \"\",\n        \"description\": \"\"\n      }\n    },\n    {\n      \"column\": \"n_genes\",\n      \"properties\": {\n        \"dtype\": \"number\",\n        \"std\": 263,\n        \"min\": 212,\n        \"max\": 2455,\n        \"num_unique_values\": 935,\n        \"samples\": [\n          696,\n          620,\n          840\n        ],\n        \"semantic_type\": \"\",\n        \"description\": \"\"\n      }\n    },\n    {\n      \"column\": \"percent_mito\",\n      \"properties\": {\n        \"dtype\": \"float32\",\n        \"num_unique_values\": 2540,\n        \"samples\": [\n          0.014245014637708664,\n          0.020356234163045883,\n          0.01184068899601698\n        ],\n        \"semantic_type\": \"\",\n        \"description\": \"\"\n      }\n    },\n    {\n      \"column\": \"n_counts\",\n      \"properties\": {\n        \"dtype\": \"float32\",\n        \"num_unique_values\": 1736,\n        \"samples\": [\n          837.0,\n          4185.0,\n          943.0\n        ],\n        \"semantic_type\": \"\",\n        \"description\": \"\"\n      }\n    },\n    {\n      \"column\": \"louvain\",\n      \"properties\": {\n        \"dtype\": \"category\",\n        \"num_unique_values\": 8,\n        \"samples\": [\n          \"B cells\",\n          \"FCGR3A+ Monocytes\",\n          \"CD4 T cells\"\n        ],\n        \"semantic_type\": \"\",\n        \"description\": \"\"\n      }\n    }\n  ]\n}"
            }
          },
          "metadata": {},
          "execution_count": 154
        }
      ]
    },
    {
      "cell_type": "code",
      "source": [
        "## For more datasets, try loading one of these\n",
        "sc.datasets.blobs    # Gaussian Blobs.\n",
        "sc.datasets.ebi_expression_atlas    # Load a dataset from the EBI Single Cell Expression Atlas.\n",
        "sc.datasets.krumsiek11    # Simulated myeloid progenitors [Krumsiek et al., 2011].\n",
        "sc.datasets.moignard15    #hematopoiesis in early mouse embryos [Moignard et al., 2015].\n",
        "sc.datasets.pbmc3k    #3k PBMCs from 10x Genomics.\n",
        "sc.datasets.pbmc3k_processed    #Processed 3k PBMCs from 10x Genomics.\n",
        "sc.datasets.pbmc68k_reduced    #Subsampled and processed 68k PBMCs.\n",
        "sc.datasets.paul15    #Development of Myeloid Progenitors [Paul et al., 2015].\n",
        "sc.datasets.toggleswitch    #Simulated toggleswitch.\n",
        "sc.datasets.visium_sge    #Processed Visium Spatial Gene Expression data from 10x Genomics’ database."
      ],
      "metadata": {
        "id": "kghiZdJMgpkR",
        "colab": {
          "base_uri": "https://localhost:8080/",
          "height": 203
        },
        "outputId": "5c430dd5-2608-44db-b91e-ec738887aeec"
      },
      "execution_count": 155,
      "outputs": [
        {
          "output_type": "execute_result",
          "data": {
            "text/plain": [
              "<function scanpy.datasets._datasets.visium_sge(sample_id: 'VisiumSampleID' = 'V1_Breast_Cancer_Block_A_Section_1', *, include_hires_tiff: 'bool' = False) -> 'AnnData'>"
            ],
            "text/html": [
              "<div style=\"max-width:800px; border: 1px solid var(--colab-border-color);\"><style>\n",
              "      pre.function-repr-contents {\n",
              "        overflow-x: auto;\n",
              "        padding: 8px 12px;\n",
              "        max-height: 500px;\n",
              "      }\n",
              "\n",
              "      pre.function-repr-contents.function-repr-contents-collapsed {\n",
              "        cursor: pointer;\n",
              "        max-height: 100px;\n",
              "      }\n",
              "    </style>\n",
              "    <pre style=\"white-space: initial; background:\n",
              "         var(--colab-secondary-surface-color); padding: 8px 12px;\n",
              "         border-bottom: 1px solid var(--colab-border-color);\"><b>scanpy.datasets._datasets.visium_sge</b><br/>def visium_sge(sample_id: VisiumSampleID=&#x27;V1_Breast_Cancer_Block_A_Section_1&#x27;, *, include_hires_tiff: bool=False) -&gt; AnnData</pre><pre class=\"function-repr-contents function-repr-contents-collapsed\" style=\"\"><a class=\"filepath\" style=\"display:none\" href=\"#\">/usr/local/lib/python3.11/dist-packages/scanpy/datasets/_datasets.py</a>Processed Visium Spatial Gene Expression data from 10x Genomics’ database.\n",
              "\n",
              ".. deprecated:: 1.11.0\n",
              "   Use :func:`squidpy.datasets.visium` instead.\n",
              "\n",
              "The database_ can be browsed online to find the ``sample_id`` you want.\n",
              "\n",
              ".. _database: https://support.10xgenomics.com/spatial-gene-expression/datasets\n",
              "\n",
              "Parameters\n",
              "----------\n",
              "sample_id : &#x27;VisiumSampleID&#x27;, optional (default: &#x27;V1_Breast_Cancer_Block_A_Section_1&#x27;)\n",
              "    The ID of the data sample in 10x’s spatial database.\n",
              "include_hires_tiff : &#x27;bool&#x27;, optional (default: False)\n",
              "    Download and include the high-resolution tissue image (tiff) in\n",
              "    `adata.uns[&quot;spatial&quot;][sample_id][&quot;metadata&quot;][&quot;source_image_path&quot;]`.\n",
              "\n",
              "Returns\n",
              "-------\n",
              "Annotated data matrix.\n",
              "\n",
              "Examples\n",
              "--------\n",
              "&gt;&gt;&gt; import scanpy as sc\n",
              "&gt;&gt;&gt; sc.datasets.visium_sge(sample_id=&quot;V1_Breast_Cancer_Block_A_Section_1&quot;)\n",
              "AnnData object with n_obs × n_vars = 3798 × 36601\n",
              "    obs: &#x27;in_tissue&#x27;, &#x27;array_row&#x27;, &#x27;array_col&#x27;\n",
              "    var: &#x27;gene_ids&#x27;, &#x27;feature_types&#x27;, &#x27;genome&#x27;\n",
              "    uns: &#x27;spatial&#x27;\n",
              "    obsm: &#x27;spatial&#x27;</pre>\n",
              "      <script>\n",
              "      if (google.colab.kernel.accessAllowed && google.colab.files && google.colab.files.view) {\n",
              "        for (const element of document.querySelectorAll('.filepath')) {\n",
              "          element.style.display = 'block'\n",
              "          element.onclick = (event) => {\n",
              "            event.preventDefault();\n",
              "            event.stopPropagation();\n",
              "            google.colab.files.view(element.textContent, 510);\n",
              "          };\n",
              "        }\n",
              "      }\n",
              "      for (const element of document.querySelectorAll('.function-repr-contents')) {\n",
              "        element.onclick = (event) => {\n",
              "          event.preventDefault();\n",
              "          event.stopPropagation();\n",
              "          element.classList.toggle('function-repr-contents-collapsed');\n",
              "        };\n",
              "      }\n",
              "      </script>\n",
              "      </div>"
            ]
          },
          "metadata": {},
          "execution_count": 155
        }
      ]
    }
  ],
  "metadata": {
    "anaconda-cloud": {},
    "kernelspec": {
      "display_name": "Python [conda env:anndata-0.8.0]",
      "language": "python",
      "name": "conda-env-anndata-0.8.0-py"
    },
    "language_info": {
      "codemirror_mode": {
        "name": "ipython",
        "version": 3
      },
      "file_extension": ".py",
      "mimetype": "text/x-python",
      "name": "python",
      "nbconvert_exporter": "python",
      "pygments_lexer": "ipython3",
      "version": "3.9.10"
    },
    "colab": {
      "provenance": [],
      "include_colab_link": true
    }
  },
  "nbformat": 4,
  "nbformat_minor": 0
}